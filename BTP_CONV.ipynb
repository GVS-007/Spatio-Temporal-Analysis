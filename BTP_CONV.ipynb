{
  "cells": [
    {
      "cell_type": "code",
      "execution_count": null,
      "metadata": {
        "id": "5SylfXpcdxNe"
      },
      "outputs": [],
      "source": [
        "!wget -O mini.sh https://repo.anaconda.com/miniconda/Miniconda3-py39_4.9.2-Linux-x86_64.sh\n",
        "!chmod +x mini.sh\n",
        "!bash ./mini.sh -b -f -p /usr/local\n",
        "!conda install -q -y jupyter\n",
        "!conda install -q -y google-colab -c conda-forge\n",
        "!python -m ipykernel install --name \"py39\" --user"
      ]
    },
    {
      "cell_type": "code",
      "source": [
        "from google.colab import drive\n",
        "drive.mount('/content/gdrive',force_remount=True)\n",
        "!unzip -q \"/content/gdrive/MyDrive/Inputs.zip\""
      ],
      "metadata": {
        "id": "rll5alKHvYkQ",
        "colab": {
          "base_uri": "https://localhost:8080/"
        },
        "outputId": "bdd639fa-c625-499f-dd82-c707c9465880"
      },
      "execution_count": null,
      "outputs": [
        {
          "output_type": "stream",
          "name": "stdout",
          "text": [
            "Mounted at /content/gdrive\n"
          ]
        }
      ]
    },
    {
      "cell_type": "code",
      "execution_count": null,
      "metadata": {
        "id": "dl5m3eowuAdd"
      },
      "outputs": [],
      "source": [
        "# %matplotlib inline\n",
        "# %config InlineBackend.figure_format = 'retina'\n",
        "# %pip install torchsampler\n",
        "import matplotlib.pyplot as plt\n",
        "from pandas.core.common import flatten  \n",
        "import numpy as np\n",
        "import random\n",
        "import torch\n",
        "import os\n",
        "from torch import nn\n",
        "from torch import optim\n",
        "import torch.nn.functional as F\n",
        "from torchvision import datasets, transforms, models\n",
        "from torch.utils.data import Dataset, DataLoader, WeightedRandomSampler, Subset\n",
        "import torch\n",
        "import albumentations as A\n",
        "from albumentations.pytorch import ToTensorV2\n"
      ]
    },
    {
      "cell_type": "code",
      "execution_count": null,
      "metadata": {
        "id": "ddGEaVdmbt3n"
      },
      "outputs": [],
      "source": [
        "# torch.cuda.is_available() checks and returns a Boolean True if a GPU is available, else it'll return False\n",
        "is_cuda = torch.cuda.is_available()\n",
        "\n",
        "# If we have a GPU available, we'll set our device to GPU. We'll use this device variable later in our code.\n",
        "if is_cuda:\n",
        "    device = torch.device(\"cuda\")\n",
        "else:\n",
        "    device = torch.device(\"cpu\")\n",
        "\n"
      ]
    },
    {
      "cell_type": "code",
      "execution_count": null,
      "metadata": {
        "id": "mBr99pjfRZhR"
      },
      "outputs": [],
      "source": [
        "p = np.array([1, 1, 1, 1, 1, 1, 1, 1, 1, 1, 1, 1, 0, 0, 0, 1, 1, 1, 0, 0 ,0 , 1, 1, 1, 1, 1, 1, 0, 0, 0])\n",
        "p = torch.from_numpy(p)\n",
        "class CustomImageDataset(Dataset):\n",
        "    def __init__(self, annotations_file, img_dir,  transform=None):\n",
        "        self.img_labels = annotations_file\n",
        "        self.img_dir = img_dir\n",
        "        self.transform = transform\n",
        "\n",
        "    def __len__(self):\n",
        "        return len(self.img_labels)\n",
        "\n",
        "    def __getitem__(self, idx):\n",
        "        image_matrix = np.load(os.path.join('Inputs/Pot_{}_Input_Seq.npy'.format(idx+1 if idx>=9 else '0'+str(idx+1))), allow_pickle=True)\n",
        "        # image_matrix=np.vstack(image_matrix).astype(np.float64)\n",
        "        image_matrix=np.array(image_matrix, dtype=[('O', np.float64)]).astype(np.float64)\n",
        "        label = self.img_labels[idx]\n",
        "\n",
        "        cropped_img_matrix = []\n",
        "        if self.transform is not None:\n",
        "          for image in image_matrix:\n",
        "            # image = self.transform(image=image)[\"image\"]\n",
        "            # print(self.transform(image=image)[\"image\"].shape)\n",
        "            cropped_img_matrix.append(self.transform(image=image)[\"image\"])\n",
        "        my_tensor = torch.stack(cropped_img_matrix)\n",
        "        # image_matrix = torch.from_numpy(image_matrix)\n",
        "\n",
        "        \n",
        "        return my_tensor, label\n",
        "\n",
        "val_transform = A.Compose(\n",
        "    [\n",
        "        A.CenterCrop(height=224, width=224),\n",
        "        A.ShiftScaleRotate(shift_limit=0.05, scale_limit=0.05, rotate_limit=15, p=0.9),\n",
        "        # A.RandomBrightnessContrast(p=0.5),\n",
        "        A.Normalize(mean=(0.485, 0.456, 0.406), std=(0.229, 0.224, 0.225)),\n",
        "        ToTensorV2(),\n",
        "    ]\n",
        ")\n",
        "\n",
        "\n",
        "\n",
        "transformed_dataset = CustomImageDataset(annotations_file=p, img_dir='Inputs', transform=val_transform)\n",
        "\n",
        "def weight_rand(images):\n",
        "  n_images = len(images)\n",
        "  count_per_class = [0] * 2\n",
        "  for _,image_class in images:\n",
        "      count_per_class[image_class] += 1\n",
        "  weight_per_class = [0.] * 2\n",
        "  for i in range(2):\n",
        "      weight_per_class[i] = float(n_images) / float(count_per_class[i])\n",
        "  weights = [0] * n_images\n",
        "  for idx, (imgggg, image_class) in enumerate(images):\n",
        "      weights[idx] = weight_per_class[image_class]\n",
        "  # print(weight_per_class, count_per_class)\n",
        "\n",
        "  return weights, weight_per_class, count_per_class\n",
        "\n",
        "\n"
      ]
    },
    {
      "cell_type": "code",
      "execution_count": null,
      "metadata": {
        "id": "DKZXQKCkUiLP"
      },
      "outputs": [],
      "source": [
        "train_dataset = transformed_dataset"
      ]
    },
    {
      "cell_type": "code",
      "execution_count": null,
      "metadata": {
        "id": "Ec-cObJQz5Pf"
      },
      "outputs": [],
      "source": [
        "# fig, ax = plt.subplots(1, 1, figsize=(25, 5))\n",
        "\n",
        "\n",
        "# for count, (imgs, labels) in enumerate(train_dataset):\n",
        "#   print(imgs.shape)\n",
        "#   for i, img in enumerate(imgs):\n",
        "#         if i == 15:\n",
        "#           plt.imshow(img[0])\n",
        "#           break\n",
        "#         # print(img.shape)\n",
        "\n",
        "        \n",
        "#   if count == 1:\n",
        "#     break"
      ]
    },
    {
      "cell_type": "code",
      "execution_count": null,
      "metadata": {
        "id": "vL68hebfQPZj"
      },
      "outputs": [],
      "source": [
        "\n",
        "# train_size = int(0.8 * len(transformed_dataset))\n",
        "# test_size = len(transformed_dataset) - train_size\n",
        "# train_dataset, test_dataset = torch.utils.data.random_split(transformed_dataset, [train_size, test_size], generator=torch.Generator().manual_seed(42))"
      ]
    },
    {
      "cell_type": "code",
      "execution_count": null,
      "metadata": {
        "id": "U5sVUcZjSxzq"
      },
      "outputs": [],
      "source": [
        "# # num_samples = 16\n",
        "# # fig, ax = plt.subplots(50, num_samples, figsize=(25, 5))\n",
        "\n",
        "# # for imgs, labels in train_dataset:\n",
        "# #     # ax[i].imshow(transforms.ToPILImage()(train_dataset[0][0]))\n",
        "# #   for img in imgs:\n",
        "# #     ax[i].imshow(transforms.ToPILImage()(img))\n",
        "# #     ax[i].axis('off')\n",
        "# #   print(lables)\n",
        "# fig, ax = plt.subplots(2, 16, figsize=(25, 5))\n",
        "\n",
        "\n",
        "# for count, (imgs, labels) in enumerate(train_dataset):\n",
        "#   print(imgs.shape)\n",
        "#   for i, img in enumerate(imgs):\n",
        "#         ax[count, i].imshow(img[0])\n",
        "#         # print(img.shape)\n",
        "\n",
        "#   if count == 1:\n",
        "#     break"
      ]
    },
    {
      "cell_type": "code",
      "execution_count": null,
      "metadata": {
        "id": "UOht4CXrWGwr"
      },
      "outputs": [],
      "source": []
    },
    {
      "cell_type": "code",
      "execution_count": null,
      "metadata": {
        "id": "lsKA-n_6GQ4D"
      },
      "outputs": [],
      "source": [
        "# p, q, r = weight_rand(train_dataset)\n",
        "# print(p)\n",
        "# print(q)\n",
        "# print(r)"
      ]
    },
    {
      "cell_type": "code",
      "execution_count": null,
      "metadata": {
        "id": "TW4g72elLLvI"
      },
      "outputs": [],
      "source": [
        "# p = [3.4285714285714284, 1.411764705882353, 1.411764705882353, 1.411764705882353, 1.411764705882353, 1.411764705882353, 1.411764705882353, 3.4285714285714284, 1.411764705882353, 1.411764705882353, 3.4285714285714284, 1.411764705882353, 3.4285714285714284, 1.411764705882353, 1.411764705882353, 1.411764705882353, 3.4285714285714284, 3.4285714285714284, 3.4285714285714284, 1.411764705882353, 1.411764705882353, 1.411764705882353, 1.411764705882353, 1.411764705882353]"
      ]
    },
    {
      "cell_type": "code",
      "execution_count": null,
      "metadata": {
        "id": "6Cl85KAbL8t2"
      },
      "outputs": [],
      "source": [
        "# len(p)"
      ]
    },
    {
      "cell_type": "code",
      "execution_count": null,
      "metadata": {
        "id": "qeZM2ENCQAwF"
      },
      "outputs": [],
      "source": [
        "# train_dataset = DataLoader(train_dataset, sampler=WeightedRandomSampler(weights = p,\n",
        "                                  # num_samples = 50, replacement=True))\n",
        "# test_dataset = DataLoader(test_dataset, sampler=WeightedRandomSampler(weights=weight_rand(test_dataset),\n",
        "#                                   num_samples = len(test_dataset), replacement=True))"
      ]
    },
    {
      "cell_type": "code",
      "execution_count": null,
      "metadata": {
        "colab": {
          "base_uri": "https://localhost:8080/"
        },
        "id": "DwyDxce7L_gW",
        "outputId": "de14a10e-2519-45d8-d289-4f79ed674702"
      },
      "outputs": [
        {
          "output_type": "execute_result",
          "data": {
            "text/plain": [
              "30"
            ]
          },
          "metadata": {},
          "execution_count": 14
        }
      ],
      "source": [
        "len(train_dataset)"
      ]
    },
    {
      "cell_type": "code",
      "execution_count": null,
      "metadata": {
        "id": "IJo3307cRDhE"
      },
      "outputs": [],
      "source": [
        "# fig, ax = plt.subplots(2, 16, figsize=(25, 5))\n",
        "\n",
        "\n",
        "# for count, (imgs, labels) in enumerate(train_dataset):\n",
        "#   for i, img in enumerate(imgs):\n",
        "#         ax[count, i].imshow(img[0].T)\n",
        "#         print(img.shape)\n",
        "\n",
        "#   if count == 1:\n",
        "#     break"
      ]
    },
    {
      "cell_type": "code",
      "execution_count": null,
      "metadata": {
        "id": "J3Zss_VSPCNO"
      },
      "outputs": [],
      "source": [
        "# # plt.subplot(2, 3, 1)\n",
        "# # for count, (imgs, labels) in enumerate(train_dataset):\n",
        "# #       # num_samples = 16\n",
        "# #       # fig, ax = plt.subplots(1, num_samples, figsize=(25, 5))\n",
        "# #       for i, img in enumerate(imgs):\n",
        "# #         # ax[i].imshow(transforms.ToPILImage()(img[0]))\n",
        "# #         plt.subplot(2, 16, i+1)\n",
        "\n",
        "# #         # ax[i].axis('off')\n",
        "# #         plt.imshow(img[0].permute(1, 2, 0))\n",
        "\n",
        "\n",
        "# #       if count == 1:\n",
        "# #         break\n",
        "\n",
        "\n",
        "# for count, (imgs, labels) in enumerate(train_dataset):\n",
        "#   for img in imgs:\n",
        "#         plt.imshow(img[0].permute(1, 2, 0))\n",
        "\n",
        "#   if count == 0:\n",
        "#     break\n",
        "\n"
      ]
    },
    {
      "cell_type": "code",
      "execution_count": null,
      "metadata": {
        "id": "81EqwXXeMBvo"
      },
      "outputs": [],
      "source": [
        "# num_samples = 16\n",
        "# fig, ax = plt.subplots(50, num_samples, figsize=(25, 5))\n",
        "\n",
        "# for imgs, labels in train_dataset:\n",
        "#     # ax[i].imshow(transforms.ToPILImage()(train_dataset[0][0]))\n",
        "#   for img in imgs:\n",
        "#     ax[i].imshow(transforms.ToPILImage()(img))\n",
        "#     ax[i].axis('off')\n",
        "#   print(lables)\n"
      ]
    },
    {
      "cell_type": "code",
      "execution_count": null,
      "metadata": {
        "id": "ZaTwyxo3QeDS"
      },
      "outputs": [],
      "source": [
        "# num_samples = 16\n",
        "# fig, ax = plt.subplots(1, num_samples, figsize=(25, 5))\n",
        "# for i in range(num_samples):\n",
        "#   # ax[i].imshow(transforms.ToPILImage()(train_dataset[0][0]))\n",
        "#   for img in train_dataset[0][0]:\n",
        "#     ax[i].imshow(transforms.ToPILImage()(img))\n",
        "#     ax[i].axis('off')"
      ]
    },
    {
      "cell_type": "code",
      "execution_count": null,
      "metadata": {
        "id": "K5-gP96iDHt9"
      },
      "outputs": [],
      "source": [
        "# A.ShiftScaleRotate(shift_limit=0.05, scale_limit=0.05, rotate_limit=15, p=0.9)"
      ]
    },
    {
      "cell_type": "code",
      "execution_count": null,
      "metadata": {
        "colab": {
          "base_uri": "https://localhost:8080/"
        },
        "id": "DzKpcp3AXOqY",
        "outputId": "7224ae98-a737-484d-b244-6f10e45c3914"
      },
      "outputs": [
        {
          "output_type": "execute_result",
          "data": {
            "text/plain": [
              "30"
            ]
          },
          "metadata": {},
          "execution_count": 20
        }
      ],
      "source": [
        "len(train_dataset)"
      ]
    },
    {
      "cell_type": "code",
      "execution_count": null,
      "metadata": {
        "id": "6mO9biS7OegH"
      },
      "outputs": [],
      "source": [
        "class ConvLSTMCell(nn.Module):\n",
        "\n",
        "    def __init__(self, input_dim, hidden_dim, kernel_size, bias, device):\n",
        "        super(ConvLSTMCell, self).__init__()\n",
        "\n",
        "        self.input_dim = input_dim\n",
        "        self.hidden_dim = hidden_dim\n",
        "\n",
        "        self.kernel_size = kernel_size\n",
        "        self.padding = kernel_size[0] // 2, kernel_size[1] // 2\n",
        "        self.bias = bias\n",
        "        self.device = device\n",
        "        self.conv = nn.Conv2d(in_channels=self.input_dim + self.hidden_dim,\n",
        "                              out_channels=4 * self.hidden_dim,\n",
        "                              kernel_size=self.kernel_size,\n",
        "                              padding=self.padding,\n",
        "                              bias=self.bias)\n",
        "\n",
        "    def forward(self, input_tensor, cur_state):\n",
        "        h_cur, c_cur = cur_state\n",
        "        h_cur, c_cur = h_cur.to(self.device), c_cur.to(self.device)\n",
        "        combined = torch.cat([input_tensor, h_cur], dim=1)  # concatenate along channel axis\n",
        "\n",
        "        combined_conv = self.conv(combined)\n",
        "        cc_i, cc_f, cc_o, cc_g = torch.split(combined_conv, self.hidden_dim, dim=1)\n",
        "        i = torch.sigmoid(cc_i)\n",
        "        f = torch.sigmoid(cc_f)\n",
        "        o = torch.sigmoid(cc_o)\n",
        "        g = torch.tanh(cc_g)\n",
        "\n",
        "        c_next = f * c_cur + i * g\n",
        "        h_next = o * torch.tanh(c_next)\n",
        "\n",
        "        return h_next, c_next\n",
        "\n",
        "    def init_hidden(self, batch_size, image_size):\n",
        "        height, width = image_size\n",
        "        return (torch.zeros(batch_size, self.hidden_dim, height, width).to(self.device),\n",
        "                torch.zeros(batch_size, self.hidden_dim, height, width).to(self.device))\n",
        "        \n",
        "class ConvLSTM(nn.Module):\n",
        "    def __init__(self, input_dim, hidden_dim, kernel_size,device,\n",
        "                 batch_first=False, bias=True, return_all_layers=False):\n",
        "        super(ConvLSTM, self).__init__()\n",
        "\n",
        "        self.input_dim = input_dim\n",
        "        self.hidden_dim = hidden_dim\n",
        "        self.kernel_size = kernel_size\n",
        "        self.batch_first = batch_first\n",
        "        self.bias = bias\n",
        "        self.return_all_layers = return_all_layers\n",
        "\n",
        "        cell_list = []\n",
        "\n",
        "        cur_input_dim = self.input_dim \n",
        "        self.sigmoid = nn.Sigmoid()\n",
        "        self.device = device\n",
        "\n",
        "\n",
        "        self.conv_lstm = ConvLSTMCell(input_dim=cur_input_dim,\n",
        "                                      hidden_dim=self.hidden_dim,\n",
        "                                      kernel_size=self.kernel_size,\n",
        "                                          bias=self.bias, device = self.device)\n",
        "        \n",
        "        self.conv1 = nn.Conv2d(self.hidden_dim, 20, 3)\n",
        "        self.pool1 = nn.MaxPool2d(2, 2)             \n",
        "        self.conv2 = nn.Conv2d(20, 40, 3)       \n",
        "        self.conv3 = nn.Conv2d(40, 60, 3)       \n",
        "        self.conv4 = nn.Conv2d(60, 80, 3)       \n",
        "        self.fc1 = nn.Linear(80*12*12, 3000)\n",
        "        self.fc2 = nn.Linear(3000, 700)\n",
        "        self.fc3 = nn.Linear(700, 150)\n",
        "        self.fc4 = nn.Linear(150, 50)\n",
        "        self.fc5 = nn.Linear(50, 1)\n",
        "    def forward(self, input_tensor):\n",
        "        seq_len = input_tensor.size(1)\n",
        "        cur_layer_input = input_tensor\n",
        "\n",
        "        h, c = self._init_hidden(input_tensor.size(0), (input_tensor.size(3), input_tensor.size(4)))\n",
        "        h,c = h.to(self.device), c.to(self.device)\n",
        "        for t in range(seq_len):\n",
        "            h, c = self.conv_lstm(input_tensor=cur_layer_input[:, t, :, :, :],\n",
        "                                              cur_state=[h, c])\n",
        "            \n",
        "        y = h\n",
        "        y = self.pool1(F.relu(self.conv1(y))) \n",
        "        y = self.pool1(F.relu(self.conv2(y))) \n",
        "        y = self.pool1(F.relu(self.conv3(y)))\n",
        "        y = self.pool1(F.relu(self.conv4(y)))\n",
        "        # print(y.shape, 80*12*12)\n",
        "        out = y.view(-1, 80*12*12)\n",
        "        # print(out.shape)\n",
        "        out = F.relu(self.fc1(out))\n",
        "        out = F.relu(self.fc2(out))\n",
        "        out = F.relu(self.fc3(out))\n",
        "        out = F.relu(self.fc4(out))\n",
        "        out = self.sigmoid(self.fc5(out))\n",
        "        return out[0]\n",
        "        out = out.view(1, -1)\n",
        "        out = out[:,-1]\n",
        "        # print(out[0][0][0].shape)\n",
        "        return out[0][0][0]       # out, hidden = self.lstm1(y.view(-1, 10920), hidden)                     \n",
        "        # out = F.relu(self.fc1(out))\n",
        "\n",
        "        # out = self.sigmoid(self.fc6(out))\n",
        "        # out = out.view(1, -1)\n",
        "        # out = out[:,-1]\n",
        "        # return out\n",
        "            \n",
        "        # return h\n",
        "\n",
        "    def _init_hidden(self, batch_size, image_size):\n",
        "        height, width = image_size\n",
        "        return (torch.zeros(batch_size, self.hidden_dim, height, width).to(self.device),\n",
        "                torch.zeros(batch_size, self.hidden_dim, height, width).to(self.device))"
      ]
    },
    {
      "cell_type": "code",
      "execution_count": null,
      "metadata": {
        "id": "xN3jQjEokCBa"
      },
      "outputs": [],
      "source": [
        "input_dim, hidden_dim, kernel_size = 3, 10, (3,3)\n",
        "model_conv = ConvLSTM(input_dim, hidden_dim, kernel_size, device)\n",
        "model_conv = model_conv.to(device)"
      ]
    },
    {
      "cell_type": "code",
      "execution_count": null,
      "metadata": {
        "id": "ydQA2cvIeepT"
      },
      "outputs": [],
      "source": [
        "lr=0.0001\n",
        "criterion = nn.BCELoss()\n",
        "optimizer = torch.optim.Adam(model_conv.parameters(), lr=lr)"
      ]
    },
    {
      "cell_type": "code",
      "execution_count": null,
      "metadata": {
        "id": "VCJqpG7bp3Wv"
      },
      "outputs": [],
      "source": [
        "# fig, ax = plt.subplots(12, 16, figsize=(25, 5))\n",
        "\n",
        "my_subset = Subset(train_dataset, [0, 1, 2, 3, 4, 5, 12, 13 ,14, 18, 19, 20] )\n",
        "# for count, (imgs, labels) in enumerate(my_subset):\n",
        "#   # print(imgs.shape)\n",
        "#   for i, img in enumerate(imgs):\n",
        "#         ax[count, i].imshow(img[0])\n",
        "#         # print(img.shape)\n",
        "\n",
        "#   if count == 12:\n",
        "#     break"
      ]
    },
    {
      "cell_type": "code",
      "execution_count": null,
      "metadata": {
        "id": "cJPDvfFb42-P",
        "colab": {
          "base_uri": "https://localhost:8080/"
        },
        "outputId": "b799220e-ab90-4cdc-cd6a-9348592a5120"
      },
      "outputs": [
        {
          "output_type": "stream",
          "name": "stdout",
          "text": [
            "-------------------Epoch_0----------------------------------\n",
            "-------------------------------------------------------------\n",
            "Pot 0\n",
            "Input Shape:  torch.Size([1, 16, 3, 224, 224])\n",
            "Pot:  tensor([0.4783], device='cuda:0', grad_fn=<SelectBackward0>)\n",
            "Predicted Sigmoid 0.4783414900302887 Truth Label 1\n",
            "torch.Size([])\n",
            "Loss 0.7374303936958313\n",
            "------------------------------------------------------\n",
            "-------------------------------------------------------------\n",
            "Pot 1\n",
            "Input Shape:  torch.Size([1, 16, 3, 224, 224])\n",
            "Pot:  tensor([0.4810], device='cuda:0', grad_fn=<SelectBackward0>)\n",
            "Predicted Sigmoid 0.48099541664123535 Truth Label 1\n",
            "torch.Size([])\n",
            "Loss 0.7318975329399109\n",
            "------------------------------------------------------\n",
            "-------------------------------------------------------------\n",
            "Pot 2\n",
            "Input Shape:  torch.Size([1, 16, 3, 224, 224])\n",
            "Pot:  tensor([0.4828], device='cuda:0', grad_fn=<SelectBackward0>)\n",
            "Predicted Sigmoid 0.48280709981918335 Truth Label 1\n",
            "torch.Size([])\n",
            "Loss 0.7281380891799927\n",
            "------------------------------------------------------\n",
            "-------------------------------------------------------------\n",
            "Pot 3\n",
            "Input Shape:  torch.Size([1, 16, 3, 224, 224])\n",
            "Pot:  tensor([0.4850], device='cuda:0', grad_fn=<SelectBackward0>)\n",
            "Predicted Sigmoid 0.485016793012619 Truth Label 1\n",
            "torch.Size([])\n",
            "Loss 0.72357177734375\n",
            "------------------------------------------------------\n",
            "-------------------------------------------------------------\n",
            "Pot 4\n",
            "Input Shape:  torch.Size([1, 16, 3, 224, 224])\n",
            "Pot:  tensor([0.4876], device='cuda:0', grad_fn=<SelectBackward0>)\n",
            "Predicted Sigmoid 0.48761168122291565 Truth Label 1\n",
            "torch.Size([])\n",
            "Loss 0.7182359099388123\n",
            "------------------------------------------------------\n",
            "-------------------------------------------------------------\n",
            "Pot 5\n",
            "Input Shape:  torch.Size([1, 16, 3, 224, 224])\n",
            "Pot:  tensor([0.4900], device='cuda:0', grad_fn=<SelectBackward0>)\n",
            "Predicted Sigmoid 0.4900084137916565 Truth Label 1\n",
            "torch.Size([])\n",
            "Loss 0.7133327126502991\n",
            "------------------------------------------------------\n",
            "-------------------------------------------------------------\n",
            "Pot 6\n",
            "Input Shape:  torch.Size([1, 16, 3, 224, 224])\n",
            "Pot:  tensor([0.4928], device='cuda:0', grad_fn=<SelectBackward0>)\n",
            "Predicted Sigmoid 0.4928327202796936 Truth Label 0\n",
            "torch.Size([])\n",
            "Loss 0.6789143681526184\n",
            "------------------------------------------------------\n",
            "-------------------------------------------------------------\n",
            "Pot 7\n",
            "Input Shape:  torch.Size([1, 16, 3, 224, 224])\n",
            "Pot:  tensor([0.4939], device='cuda:0', grad_fn=<SelectBackward0>)\n",
            "Predicted Sigmoid 0.49392586946487427 Truth Label 0\n",
            "torch.Size([])\n",
            "Loss 0.6810721158981323\n",
            "------------------------------------------------------\n",
            "-------------------------------------------------------------\n",
            "Pot 8\n",
            "Input Shape:  torch.Size([1, 16, 3, 224, 224])\n",
            "Pot:  tensor([0.4937], device='cuda:0', grad_fn=<SelectBackward0>)\n",
            "Predicted Sigmoid 0.49369508028030396 Truth Label 0\n",
            "torch.Size([])\n",
            "Loss 0.6806161999702454\n",
            "------------------------------------------------------\n",
            "-------------------------------------------------------------\n",
            "Pot 9\n",
            "Input Shape:  torch.Size([1, 16, 3, 224, 224])\n",
            "Pot:  tensor([0.4927], device='cuda:0', grad_fn=<SelectBackward0>)\n",
            "Predicted Sigmoid 0.492737740278244 Truth Label 0\n",
            "torch.Size([])\n",
            "Loss 0.6787272095680237\n",
            "------------------------------------------------------\n",
            "-------------------------------------------------------------\n",
            "Pot 10\n",
            "Input Shape:  torch.Size([1, 16, 3, 224, 224])\n",
            "Pot:  tensor([0.4914], device='cuda:0', grad_fn=<SelectBackward0>)\n",
            "Predicted Sigmoid 0.49135345220565796 Truth Label 0\n",
            "torch.Size([])\n",
            "Loss 0.6760019063949585\n",
            "------------------------------------------------------\n",
            "-------------------------------------------------------------\n",
            "Pot 11\n",
            "Input Shape:  torch.Size([1, 16, 3, 224, 224])\n",
            "Pot:  tensor([0.4898], device='cuda:0', grad_fn=<SelectBackward0>)\n",
            "Predicted Sigmoid 0.4897562563419342 Truth Label 0\n",
            "torch.Size([])\n",
            "Loss 0.672866702079773\n",
            "------------------------------------------------------\n",
            "-------------------Epoch_1----------------------------------\n",
            "-------------------------------------------------------------\n",
            "Pot 0\n",
            "Input Shape:  torch.Size([1, 16, 3, 224, 224])\n",
            "Pot:  tensor([0.4881], device='cuda:0', grad_fn=<SelectBackward0>)\n",
            "Predicted Sigmoid 0.4881456792354584 Truth Label 1\n",
            "torch.Size([])\n",
            "Loss 0.7171413898468018\n",
            "------------------------------------------------------\n",
            "-------------------------------------------------------------\n",
            "Pot 1\n",
            "Input Shape:  torch.Size([1, 16, 3, 224, 224])\n",
            "Pot:  tensor([0.4873], device='cuda:0', grad_fn=<SelectBackward0>)\n",
            "Predicted Sigmoid 0.487336665391922 Truth Label 1\n",
            "torch.Size([])\n",
            "Loss 0.7188000679016113\n",
            "------------------------------------------------------\n",
            "-------------------------------------------------------------\n",
            "Pot 2\n",
            "Input Shape:  torch.Size([1, 16, 3, 224, 224])\n",
            "Pot:  tensor([0.4871], device='cuda:0', grad_fn=<SelectBackward0>)\n",
            "Predicted Sigmoid 0.48705121874809265 Truth Label 1\n",
            "torch.Size([])\n",
            "Loss 0.7193859815597534\n",
            "------------------------------------------------------\n",
            "-------------------------------------------------------------\n",
            "Pot 3\n",
            "Input Shape:  torch.Size([1, 16, 3, 224, 224])\n",
            "Pot:  tensor([0.4871], device='cuda:0', grad_fn=<SelectBackward0>)\n",
            "Predicted Sigmoid 0.4870999753475189 Truth Label 1\n",
            "torch.Size([])\n",
            "Loss 0.7192859053611755\n",
            "------------------------------------------------------\n",
            "-------------------------------------------------------------\n",
            "Pot 4\n",
            "Input Shape:  torch.Size([1, 16, 3, 224, 224])\n",
            "Pot:  tensor([0.4874], device='cuda:0', grad_fn=<SelectBackward0>)\n",
            "Predicted Sigmoid 0.4874096214771271 Truth Label 1\n",
            "torch.Size([])\n",
            "Loss 0.7186504006385803\n",
            "------------------------------------------------------\n",
            "-------------------------------------------------------------\n",
            "Pot 5\n",
            "Input Shape:  torch.Size([1, 16, 3, 224, 224])\n",
            "Pot:  tensor([0.4879], device='cuda:0', grad_fn=<SelectBackward0>)\n",
            "Predicted Sigmoid 0.48793360590934753 Truth Label 1\n",
            "torch.Size([])\n",
            "Loss 0.7175759077072144\n",
            "------------------------------------------------------\n",
            "-------------------------------------------------------------\n",
            "Pot 6\n",
            "Input Shape:  torch.Size([1, 16, 3, 224, 224])\n",
            "Pot:  tensor([0.4887], device='cuda:0', grad_fn=<SelectBackward0>)\n",
            "Predicted Sigmoid 0.4886501431465149 Truth Label 0\n",
            "torch.Size([])\n",
            "Loss 0.670701265335083\n",
            "------------------------------------------------------\n",
            "-------------------------------------------------------------\n",
            "Pot 7\n",
            "Input Shape:  torch.Size([1, 16, 3, 224, 224])\n",
            "Pot:  tensor([0.4890], device='cuda:0', grad_fn=<SelectBackward0>)\n",
            "Predicted Sigmoid 0.48902517557144165 Truth Label 0\n",
            "torch.Size([])\n",
            "Loss 0.6714349389076233\n",
            "------------------------------------------------------\n",
            "-------------------------------------------------------------\n",
            "Pot 8\n",
            "Input Shape:  torch.Size([1, 16, 3, 224, 224])\n",
            "Pot:  tensor([0.4891], device='cuda:0', grad_fn=<SelectBackward0>)\n",
            "Predicted Sigmoid 0.489099383354187 Truth Label 0\n",
            "torch.Size([])\n",
            "Loss 0.6715801954269409\n",
            "------------------------------------------------------\n",
            "-------------------------------------------------------------\n",
            "Pot 9\n",
            "Input Shape:  torch.Size([1, 16, 3, 224, 224])\n",
            "Pot:  tensor([0.4889], device='cuda:0', grad_fn=<SelectBackward0>)\n",
            "Predicted Sigmoid 0.4889192283153534 Truth Label 0\n",
            "torch.Size([])\n",
            "Loss 0.6712276935577393\n",
            "------------------------------------------------------\n",
            "-------------------------------------------------------------\n",
            "Pot 10\n",
            "Input Shape:  torch.Size([1, 16, 3, 224, 224])\n",
            "Pot:  tensor([0.4885], device='cuda:0', grad_fn=<SelectBackward0>)\n",
            "Predicted Sigmoid 0.48853737115859985 Truth Label 0\n",
            "torch.Size([])\n",
            "Loss 0.6704807877540588\n",
            "------------------------------------------------------\n",
            "-------------------------------------------------------------\n",
            "Pot 11\n",
            "Input Shape:  torch.Size([1, 16, 3, 224, 224])\n",
            "Pot:  tensor([0.4880], device='cuda:0', grad_fn=<SelectBackward0>)\n",
            "Predicted Sigmoid 0.48800745606422424 Truth Label 0\n",
            "torch.Size([])\n",
            "Loss 0.6694451570510864\n",
            "------------------------------------------------------\n",
            "-------------------Epoch_2----------------------------------\n",
            "-------------------------------------------------------------\n",
            "Pot 0\n",
            "Input Shape:  torch.Size([1, 16, 3, 224, 224])\n",
            "Pot:  tensor([0.4874], device='cuda:0', grad_fn=<SelectBackward0>)\n",
            "Predicted Sigmoid 0.4873758554458618 Truth Label 1\n",
            "torch.Size([])\n",
            "Loss 0.7187196612358093\n",
            "------------------------------------------------------\n",
            "-------------------------------------------------------------\n",
            "Pot 1\n",
            "Input Shape:  torch.Size([1, 16, 3, 224, 224])\n",
            "Pot:  tensor([0.4870], device='cuda:0', grad_fn=<SelectBackward0>)\n",
            "Predicted Sigmoid 0.4870230555534363 Truth Label 1\n",
            "torch.Size([])\n",
            "Loss 0.7194437980651855\n",
            "------------------------------------------------------\n",
            "-------------------------------------------------------------\n",
            "Pot 2\n",
            "Input Shape:  torch.Size([1, 16, 3, 224, 224])\n",
            "Pot:  tensor([0.4869], device='cuda:0', grad_fn=<SelectBackward0>)\n",
            "Predicted Sigmoid 0.4869101643562317 Truth Label 1\n",
            "torch.Size([])\n",
            "Loss 0.7196756601333618\n",
            "------------------------------------------------------\n",
            "-------------------------------------------------------------\n",
            "Pot 3\n",
            "Input Shape:  torch.Size([1, 16, 3, 224, 224])\n",
            "Pot:  tensor([0.4870], device='cuda:0', grad_fn=<SelectBackward0>)\n",
            "Predicted Sigmoid 0.48696663975715637 Truth Label 1\n",
            "torch.Size([])\n",
            "Loss 0.7195596694946289\n",
            "------------------------------------------------------\n",
            "-------------------------------------------------------------\n",
            "Pot 4\n",
            "Input Shape:  torch.Size([1, 16, 3, 224, 224])\n",
            "Pot:  tensor([0.4872], device='cuda:0', grad_fn=<SelectBackward0>)\n",
            "Predicted Sigmoid 0.48717522621154785 Truth Label 1\n",
            "torch.Size([])\n",
            "Loss 0.7191314101219177\n",
            "------------------------------------------------------\n",
            "-------------------------------------------------------------\n",
            "Pot 5\n",
            "Input Shape:  torch.Size([1, 16, 3, 224, 224])\n",
            "Pot:  tensor([0.4875], device='cuda:0', grad_fn=<SelectBackward0>)\n",
            "Predicted Sigmoid 0.4875200390815735 Truth Label 1\n",
            "torch.Size([])\n",
            "Loss 0.7184239029884338\n",
            "------------------------------------------------------\n",
            "-------------------------------------------------------------\n",
            "Pot 6\n",
            "Input Shape:  torch.Size([1, 16, 3, 224, 224])\n",
            "Pot:  tensor([0.4880], device='cuda:0', grad_fn=<SelectBackward0>)\n",
            "Predicted Sigmoid 0.48799270391464233 Truth Label 0\n",
            "torch.Size([])\n",
            "Loss 0.6694164276123047\n",
            "------------------------------------------------------\n",
            "-------------------------------------------------------------\n",
            "Pot 7\n",
            "Input Shape:  torch.Size([1, 16, 3, 224, 224])\n",
            "Pot:  tensor([0.4883], device='cuda:0', grad_fn=<SelectBackward0>)\n",
            "Predicted Sigmoid 0.48825502395629883 Truth Label 0\n",
            "torch.Size([])\n",
            "Loss 0.6699288487434387\n",
            "------------------------------------------------------\n",
            "-------------------------------------------------------------\n",
            "Pot 8\n",
            "Input Shape:  torch.Size([1, 16, 3, 224, 224])\n",
            "Pot:  tensor([0.4883], device='cuda:0', grad_fn=<SelectBackward0>)\n",
            "Predicted Sigmoid 0.488324373960495 Truth Label 0\n",
            "torch.Size([])\n",
            "Loss 0.6700644493103027\n",
            "------------------------------------------------------\n",
            "-------------------------------------------------------------\n",
            "Pot 9\n",
            "Input Shape:  torch.Size([1, 16, 3, 224, 224])\n",
            "Pot:  tensor([0.4882], device='cuda:0', grad_fn=<SelectBackward0>)\n",
            "Predicted Sigmoid 0.4882241189479828 Truth Label 0\n",
            "torch.Size([])\n",
            "Loss 0.669868528842926\n",
            "------------------------------------------------------\n",
            "-------------------------------------------------------------\n",
            "Pot 10\n",
            "Input Shape:  torch.Size([1, 16, 3, 224, 224])\n",
            "Pot:  tensor([0.4880], device='cuda:0', grad_fn=<SelectBackward0>)\n",
            "Predicted Sigmoid 0.48798269033432007 Truth Label 0\n",
            "torch.Size([])\n",
            "Loss 0.6693968772888184\n",
            "------------------------------------------------------\n",
            "-------------------------------------------------------------\n",
            "Pot 11\n",
            "Input Shape:  torch.Size([1, 16, 3, 224, 224])\n",
            "Pot:  tensor([0.4876], device='cuda:0', grad_fn=<SelectBackward0>)\n",
            "Predicted Sigmoid 0.48762941360473633 Truth Label 0\n",
            "torch.Size([])\n",
            "Loss 0.6687071323394775\n",
            "------------------------------------------------------\n",
            "-------------------Epoch_3----------------------------------\n",
            "-------------------------------------------------------------\n",
            "Pot 0\n",
            "Input Shape:  torch.Size([1, 16, 3, 224, 224])\n",
            "Pot:  tensor([0.4872], device='cuda:0', grad_fn=<SelectBackward0>)\n",
            "Predicted Sigmoid 0.48719674348831177 Truth Label 1\n",
            "torch.Size([])\n",
            "Loss 0.7190872430801392\n",
            "------------------------------------------------------\n",
            "-------------------------------------------------------------\n",
            "Pot 1\n",
            "Input Shape:  torch.Size([1, 16, 3, 224, 224])\n",
            "Pot:  tensor([0.4870], device='cuda:0', grad_fn=<SelectBackward0>)\n",
            "Predicted Sigmoid 0.4869597852230072 Truth Label 1\n",
            "torch.Size([])\n",
            "Loss 0.7195737361907959\n",
            "------------------------------------------------------\n",
            "-------------------------------------------------------------\n",
            "Pot 2\n",
            "Input Shape:  torch.Size([1, 16, 3, 224, 224])\n",
            "Pot:  tensor([0.4869], device='cuda:0', grad_fn=<SelectBackward0>)\n",
            "Predicted Sigmoid 0.48688071966171265 Truth Label 1\n",
            "torch.Size([])\n",
            "Loss 0.7197360992431641\n",
            "------------------------------------------------------\n",
            "-------------------------------------------------------------\n",
            "Pot 3\n",
            "Input Shape:  torch.Size([1, 16, 3, 224, 224])\n",
            "Pot:  tensor([0.4869], device='cuda:0', grad_fn=<SelectBackward0>)\n",
            "Predicted Sigmoid 0.4869360625743866 Truth Label 1\n",
            "torch.Size([])\n",
            "Loss 0.7196224331855774\n",
            "------------------------------------------------------\n",
            "-------------------------------------------------------------\n",
            "Pot 4\n",
            "Input Shape:  torch.Size([1, 16, 3, 224, 224])\n",
            "Pot:  tensor([0.4871], device='cuda:0', grad_fn=<SelectBackward0>)\n",
            "Predicted Sigmoid 0.48711174726486206 Truth Label 1\n",
            "torch.Size([])\n",
            "Loss 0.7192617058753967\n",
            "------------------------------------------------------\n",
            "-------------------------------------------------------------\n",
            "Pot 5\n",
            "Input Shape:  torch.Size([1, 16, 3, 224, 224])\n",
            "Pot:  tensor([0.4874], device='cuda:0', grad_fn=<SelectBackward0>)\n",
            "Predicted Sigmoid 0.48739975690841675 Truth Label 1\n",
            "torch.Size([])\n",
            "Loss 0.718670666217804\n",
            "------------------------------------------------------\n",
            "-------------------------------------------------------------\n",
            "Pot 6\n",
            "Input Shape:  torch.Size([1, 16, 3, 224, 224])\n",
            "Pot:  tensor([0.4878], device='cuda:0', grad_fn=<SelectBackward0>)\n",
            "Predicted Sigmoid 0.48780810832977295 Truth Label 0\n",
            "torch.Size([])\n",
            "Loss 0.6690559387207031\n",
            "------------------------------------------------------\n",
            "-------------------------------------------------------------\n",
            "Pot 7\n",
            "Input Shape:  torch.Size([1, 16, 3, 224, 224])\n",
            "Pot:  tensor([0.4880], device='cuda:0', grad_fn=<SelectBackward0>)\n",
            "Predicted Sigmoid 0.4880296587944031 Truth Label 0\n",
            "torch.Size([])\n",
            "Loss 0.6694886088371277\n",
            "------------------------------------------------------\n",
            "-------------------------------------------------------------\n",
            "Pot 8\n",
            "Input Shape:  torch.Size([1, 16, 3, 224, 224])\n",
            "Pot:  tensor([0.4881], device='cuda:0', grad_fn=<SelectBackward0>)\n",
            "Predicted Sigmoid 0.48808109760284424 Truth Label 0\n",
            "torch.Size([])\n",
            "Loss 0.6695890426635742\n",
            "------------------------------------------------------\n",
            "-------------------------------------------------------------\n",
            "Pot 9\n",
            "Input Shape:  torch.Size([1, 16, 3, 224, 224])\n",
            "Pot:  tensor([0.4880], device='cuda:0', grad_fn=<SelectBackward0>)\n",
            "Predicted Sigmoid 0.4879864454269409 Truth Label 0\n",
            "torch.Size([])\n",
            "Loss 0.6694042086601257\n",
            "------------------------------------------------------\n",
            "-------------------------------------------------------------\n",
            "Pot 10\n",
            "Input Shape:  torch.Size([1, 16, 3, 224, 224])\n",
            "Pot:  tensor([0.4878], device='cuda:0', grad_fn=<SelectBackward0>)\n",
            "Predicted Sigmoid 0.48779043555259705 Truth Label 0\n",
            "torch.Size([])\n",
            "Loss 0.669021487236023\n",
            "------------------------------------------------------\n",
            "-------------------------------------------------------------\n",
            "Pot 11\n",
            "Input Shape:  torch.Size([1, 16, 3, 224, 224])\n",
            "Pot:  tensor([0.4875], device='cuda:0', grad_fn=<SelectBackward0>)\n",
            "Predicted Sigmoid 0.4875003695487976 Truth Label 0\n",
            "torch.Size([])\n",
            "Loss 0.6684553027153015\n",
            "------------------------------------------------------\n",
            "-------------------Epoch_4----------------------------------\n",
            "-------------------------------------------------------------\n",
            "Pot 0\n",
            "Input Shape:  torch.Size([1, 16, 3, 224, 224])\n",
            "Pot:  tensor([0.4871], device='cuda:0', grad_fn=<SelectBackward0>)\n",
            "Predicted Sigmoid 0.48714128136634827 Truth Label 1\n",
            "torch.Size([])\n",
            "Loss 0.7192010879516602\n",
            "------------------------------------------------------\n",
            "-------------------------------------------------------------\n",
            "Pot 1\n",
            "Input Shape:  torch.Size([1, 16, 3, 224, 224])\n",
            "Pot:  tensor([0.4869], device='cuda:0', grad_fn=<SelectBackward0>)\n",
            "Predicted Sigmoid 0.48694199323654175 Truth Label 1\n",
            "torch.Size([])\n",
            "Loss 0.7196102738380432\n",
            "------------------------------------------------------\n",
            "-------------------------------------------------------------\n",
            "Pot 2\n",
            "Input Shape:  torch.Size([1, 16, 3, 224, 224])\n",
            "Pot:  tensor([0.4869], device='cuda:0', grad_fn=<SelectBackward0>)\n",
            "Predicted Sigmoid 0.48687082529067993 Truth Label 1\n",
            "torch.Size([])\n",
            "Loss 0.7197564244270325\n",
            "------------------------------------------------------\n",
            "-------------------------------------------------------------\n",
            "Pot 3\n",
            "Input Shape:  torch.Size([1, 16, 3, 224, 224])\n",
            "Pot:  tensor([0.4869], device='cuda:0', grad_fn=<SelectBackward0>)\n",
            "Predicted Sigmoid 0.4869081676006317 Truth Label 1\n",
            "torch.Size([])\n",
            "Loss 0.7196797132492065\n",
            "------------------------------------------------------\n",
            "-------------------------------------------------------------\n",
            "Pot 4\n",
            "Input Shape:  torch.Size([1, 16, 3, 224, 224])\n",
            "Pot:  tensor([0.4870], device='cuda:0', grad_fn=<SelectBackward0>)\n",
            "Predicted Sigmoid 0.4870418310165405 Truth Label 1\n",
            "torch.Size([])\n",
            "Loss 0.7194052934646606\n",
            "------------------------------------------------------\n",
            "-------------------------------------------------------------\n",
            "Pot 5\n",
            "Input Shape:  torch.Size([1, 16, 3, 224, 224])\n",
            "Pot:  tensor([0.4873], device='cuda:0', grad_fn=<SelectBackward0>)\n",
            "Predicted Sigmoid 0.48726385831832886 Truth Label 1\n",
            "torch.Size([])\n",
            "Loss 0.7189494967460632\n",
            "------------------------------------------------------\n",
            "-------------------------------------------------------------\n",
            "Pot 6\n",
            "Input Shape:  torch.Size([1, 16, 3, 224, 224])\n",
            "Pot:  tensor([0.4876], device='cuda:0', grad_fn=<SelectBackward0>)\n",
            "Predicted Sigmoid 0.48757076263427734 Truth Label 0\n",
            "torch.Size([])\n",
            "Loss 0.668592631816864\n",
            "------------------------------------------------------\n",
            "-------------------------------------------------------------\n",
            "Pot 7\n",
            "Input Shape:  torch.Size([1, 16, 3, 224, 224])\n",
            "Pot:  tensor([0.4877], device='cuda:0', grad_fn=<SelectBackward0>)\n",
            "Predicted Sigmoid 0.4877448081970215 Truth Label 0\n",
            "torch.Size([])\n",
            "Loss 0.6689323782920837\n",
            "------------------------------------------------------\n",
            "-------------------------------------------------------------\n",
            "Pot 8\n",
            "Input Shape:  torch.Size([1, 16, 3, 224, 224])\n",
            "Pot:  tensor([0.4878], device='cuda:0', grad_fn=<SelectBackward0>)\n",
            "Predicted Sigmoid 0.4877939522266388 Truth Label 0\n",
            "torch.Size([])\n",
            "Loss 0.6690282225608826\n",
            "------------------------------------------------------\n",
            "-------------------------------------------------------------\n",
            "Pot 9\n",
            "Input Shape:  torch.Size([1, 16, 3, 224, 224])\n",
            "Pot:  tensor([0.4877], device='cuda:0', grad_fn=<SelectBackward0>)\n",
            "Predicted Sigmoid 0.4877311587333679 Truth Label 0\n",
            "torch.Size([])\n",
            "Loss 0.6689057350158691\n",
            "------------------------------------------------------\n",
            "-------------------------------------------------------------\n",
            "Pot 10\n",
            "Input Shape:  torch.Size([1, 16, 3, 224, 224])\n",
            "Pot:  tensor([0.4876], device='cuda:0', grad_fn=<SelectBackward0>)\n",
            "Predicted Sigmoid 0.4875734746456146 Truth Label 0\n",
            "torch.Size([])\n",
            "Loss 0.6685979962348938\n",
            "------------------------------------------------------\n",
            "-------------------------------------------------------------\n",
            "Pot 11\n",
            "Input Shape:  torch.Size([1, 16, 3, 224, 224])\n",
            "Pot:  tensor([0.4873], device='cuda:0', grad_fn=<SelectBackward0>)\n",
            "Predicted Sigmoid 0.4873211681842804 Truth Label 0\n",
            "torch.Size([])\n",
            "Loss 0.6681056022644043\n",
            "------------------------------------------------------\n",
            "-------------------Epoch_5----------------------------------\n",
            "-------------------------------------------------------------\n",
            "Pot 0\n",
            "Input Shape:  torch.Size([1, 16, 3, 224, 224])\n",
            "Pot:  tensor([0.4870], device='cuda:0', grad_fn=<SelectBackward0>)\n",
            "Predicted Sigmoid 0.4869788587093353 Truth Label 1\n",
            "torch.Size([])\n",
            "Loss 0.7195345759391785\n",
            "------------------------------------------------------\n",
            "-------------------------------------------------------------\n",
            "Pot 1\n",
            "Input Shape:  torch.Size([1, 16, 3, 224, 224])\n",
            "Pot:  tensor([0.4868], device='cuda:0', grad_fn=<SelectBackward0>)\n",
            "Predicted Sigmoid 0.48680904507637024 Truth Label 1\n",
            "torch.Size([])\n",
            "Loss 0.7198833227157593\n",
            "------------------------------------------------------\n",
            "-------------------------------------------------------------\n",
            "Pot 2\n",
            "Input Shape:  torch.Size([1, 16, 3, 224, 224])\n",
            "Pot:  tensor([0.4868], device='cuda:0', grad_fn=<SelectBackward0>)\n",
            "Predicted Sigmoid 0.486778199672699 Truth Label 1\n",
            "torch.Size([])\n",
            "Loss 0.7199466824531555\n",
            "------------------------------------------------------\n",
            "-------------------------------------------------------------\n",
            "Pot 3\n",
            "Input Shape:  torch.Size([1, 16, 3, 224, 224])\n",
            "Pot:  tensor([0.4869], device='cuda:0', grad_fn=<SelectBackward0>)\n",
            "Predicted Sigmoid 0.4868607521057129 Truth Label 1\n",
            "torch.Size([])\n",
            "Loss 0.7197771072387695\n",
            "------------------------------------------------------\n",
            "-------------------------------------------------------------\n",
            "Pot 4\n",
            "Input Shape:  torch.Size([1, 16, 3, 224, 224])\n",
            "Pot:  tensor([0.4870], device='cuda:0', grad_fn=<SelectBackward0>)\n",
            "Predicted Sigmoid 0.4870212972164154 Truth Label 1\n",
            "torch.Size([])\n",
            "Loss 0.7194474339485168\n",
            "------------------------------------------------------\n",
            "-------------------------------------------------------------\n",
            "Pot 5\n",
            "Input Shape:  torch.Size([1, 16, 3, 224, 224])\n",
            "Pot:  tensor([0.4872], device='cuda:0', grad_fn=<SelectBackward0>)\n",
            "Predicted Sigmoid 0.4872288703918457 Truth Label 1\n",
            "torch.Size([])\n",
            "Loss 0.7190213203430176\n",
            "------------------------------------------------------\n",
            "-------------------------------------------------------------\n",
            "Pot 6\n",
            "Input Shape:  torch.Size([1, 16, 3, 224, 224])\n",
            "Pot:  tensor([0.4875], device='cuda:0', grad_fn=<SelectBackward0>)\n",
            "Predicted Sigmoid 0.4875199794769287 Truth Label 0\n",
            "torch.Size([])\n",
            "Loss 0.6684935688972473\n",
            "------------------------------------------------------\n",
            "-------------------------------------------------------------\n",
            "Pot 7\n",
            "Input Shape:  torch.Size([1, 16, 3, 224, 224])\n",
            "Pot:  tensor([0.4877], device='cuda:0', grad_fn=<SelectBackward0>)\n",
            "Predicted Sigmoid 0.4876844882965088 Truth Label 0\n",
            "torch.Size([])\n",
            "Loss 0.6688145995140076\n",
            "------------------------------------------------------\n",
            "-------------------------------------------------------------\n",
            "Pot 8\n",
            "Input Shape:  torch.Size([1, 16, 3, 224, 224])\n",
            "Pot:  tensor([0.4877], device='cuda:0', grad_fn=<SelectBackward0>)\n",
            "Predicted Sigmoid 0.48771724104881287 Truth Label 0\n",
            "torch.Size([])\n",
            "Loss 0.6688786149024963\n",
            "------------------------------------------------------\n",
            "-------------------------------------------------------------\n",
            "Pot 9\n",
            "Input Shape:  torch.Size([1, 16, 3, 224, 224])\n",
            "Pot:  tensor([0.4876], device='cuda:0', grad_fn=<SelectBackward0>)\n",
            "Predicted Sigmoid 0.4876408278942108 Truth Label 0\n",
            "torch.Size([])\n",
            "Loss 0.6687294244766235\n",
            "------------------------------------------------------\n",
            "-------------------------------------------------------------\n",
            "Pot 10\n",
            "Input Shape:  torch.Size([1, 16, 3, 224, 224])\n",
            "Pot:  tensor([0.4875], device='cuda:0', grad_fn=<SelectBackward0>)\n",
            "Predicted Sigmoid 0.487472265958786 Truth Label 0\n",
            "torch.Size([])\n",
            "Loss 0.6684005260467529\n",
            "------------------------------------------------------\n",
            "-------------------------------------------------------------\n",
            "Pot 11\n",
            "Input Shape:  torch.Size([1, 16, 3, 224, 224])\n",
            "Pot:  tensor([0.4872], device='cuda:0', grad_fn=<SelectBackward0>)\n",
            "Predicted Sigmoid 0.48722898960113525 Truth Label 0\n",
            "torch.Size([])\n",
            "Loss 0.6679258942604065\n",
            "------------------------------------------------------\n",
            "-------------------Epoch_6----------------------------------\n",
            "-------------------------------------------------------------\n",
            "Pot 0\n",
            "Input Shape:  torch.Size([1, 16, 3, 224, 224])\n",
            "Pot:  tensor([0.4869], device='cuda:0', grad_fn=<SelectBackward0>)\n",
            "Predicted Sigmoid 0.4869256913661957 Truth Label 1\n",
            "torch.Size([])\n",
            "Loss 0.719643771648407\n",
            "------------------------------------------------------\n",
            "-------------------------------------------------------------\n",
            "Pot 1\n",
            "Input Shape:  torch.Size([1, 16, 3, 224, 224])\n",
            "Pot:  tensor([0.4868], device='cuda:0', grad_fn=<SelectBackward0>)\n",
            "Predicted Sigmoid 0.486756294965744 Truth Label 1\n",
            "torch.Size([])\n",
            "Loss 0.7199916839599609\n",
            "------------------------------------------------------\n",
            "-------------------------------------------------------------\n",
            "Pot 2\n",
            "Input Shape:  torch.Size([1, 16, 3, 224, 224])\n",
            "Pot:  tensor([0.4867], device='cuda:0', grad_fn=<SelectBackward0>)\n",
            "Predicted Sigmoid 0.48669371008872986 Truth Label 1\n",
            "torch.Size([])\n",
            "Loss 0.7201203107833862\n",
            "------------------------------------------------------\n",
            "-------------------------------------------------------------\n",
            "Pot 3\n",
            "Input Shape:  torch.Size([1, 16, 3, 224, 224])\n",
            "Pot:  tensor([0.4867], device='cuda:0', grad_fn=<SelectBackward0>)\n",
            "Predicted Sigmoid 0.4867340922355652 Truth Label 1\n",
            "torch.Size([])\n",
            "Loss 0.7200373411178589\n",
            "------------------------------------------------------\n",
            "-------------------------------------------------------------\n",
            "Pot 4\n",
            "Input Shape:  torch.Size([1, 16, 3, 224, 224])\n",
            "Pot:  tensor([0.4869], device='cuda:0', grad_fn=<SelectBackward0>)\n",
            "Predicted Sigmoid 0.486853688955307 Truth Label 1\n",
            "torch.Size([])\n",
            "Loss 0.7197916507720947\n",
            "------------------------------------------------------\n",
            "-------------------------------------------------------------\n",
            "Pot 5\n",
            "Input Shape:  torch.Size([1, 16, 3, 224, 224])\n",
            "Pot:  tensor([0.4870], device='cuda:0', grad_fn=<SelectBackward0>)\n",
            "Predicted Sigmoid 0.4870487451553345 Truth Label 1\n",
            "torch.Size([])\n",
            "Loss 0.7193910479545593\n",
            "------------------------------------------------------\n",
            "-------------------------------------------------------------\n",
            "Pot 6\n",
            "Input Shape:  torch.Size([1, 16, 3, 224, 224])\n",
            "Pot:  tensor([0.4873], device='cuda:0', grad_fn=<SelectBackward0>)\n",
            "Predicted Sigmoid 0.48731866478919983 Truth Label 0\n",
            "torch.Size([])\n",
            "Loss 0.6681007742881775\n",
            "------------------------------------------------------\n",
            "-------------------------------------------------------------\n",
            "Pot 7\n",
            "Input Shape:  torch.Size([1, 16, 3, 224, 224])\n",
            "Pot:  tensor([0.4875], device='cuda:0', grad_fn=<SelectBackward0>)\n",
            "Predicted Sigmoid 0.487469881772995 Truth Label 0\n",
            "torch.Size([])\n",
            "Loss 0.6683958768844604\n",
            "------------------------------------------------------\n",
            "-------------------------------------------------------------\n",
            "Pot 8\n",
            "Input Shape:  torch.Size([1, 16, 3, 224, 224])\n",
            "Pot:  tensor([0.4875], device='cuda:0', grad_fn=<SelectBackward0>)\n",
            "Predicted Sigmoid 0.4875127077102661 Truth Label 0\n",
            "torch.Size([])\n",
            "Loss 0.6684793829917908\n",
            "------------------------------------------------------\n",
            "-------------------------------------------------------------\n",
            "Pot 9\n",
            "Input Shape:  torch.Size([1, 16, 3, 224, 224])\n",
            "Pot:  tensor([0.4875], device='cuda:0', grad_fn=<SelectBackward0>)\n",
            "Predicted Sigmoid 0.48745810985565186 Truth Label 0\n",
            "torch.Size([])\n",
            "Loss 0.6683728098869324\n",
            "------------------------------------------------------\n",
            "-------------------------------------------------------------\n",
            "Pot 10\n",
            "Input Shape:  torch.Size([1, 16, 3, 224, 224])\n",
            "Pot:  tensor([0.4873], device='cuda:0', grad_fn=<SelectBackward0>)\n",
            "Predicted Sigmoid 0.48732003569602966 Truth Label 0\n",
            "torch.Size([])\n",
            "Loss 0.6681035161018372\n",
            "------------------------------------------------------\n",
            "-------------------------------------------------------------\n",
            "Pot 11\n",
            "Input Shape:  torch.Size([1, 16, 3, 224, 224])\n",
            "Pot:  tensor([0.4871], device='cuda:0', grad_fn=<SelectBackward0>)\n",
            "Predicted Sigmoid 0.48711326718330383 Truth Label 0\n",
            "torch.Size([])\n",
            "Loss 0.6677001714706421\n",
            "------------------------------------------------------\n",
            "-------------------Epoch_7----------------------------------\n",
            "-------------------------------------------------------------\n",
            "Pot 0\n",
            "Input Shape:  torch.Size([1, 16, 3, 224, 224])\n",
            "Pot:  tensor([0.4868], device='cuda:0', grad_fn=<SelectBackward0>)\n",
            "Predicted Sigmoid 0.4868476390838623 Truth Label 1\n",
            "torch.Size([])\n",
            "Loss 0.719804048538208\n",
            "------------------------------------------------------\n",
            "-------------------------------------------------------------\n",
            "Pot 1\n",
            "Input Shape:  torch.Size([1, 16, 3, 224, 224])\n",
            "Pot:  tensor([0.4867], device='cuda:0', grad_fn=<SelectBackward0>)\n",
            "Predicted Sigmoid 0.4867071509361267 Truth Label 1\n",
            "torch.Size([])\n",
            "Loss 0.7200926542282104\n",
            "------------------------------------------------------\n",
            "-------------------------------------------------------------\n",
            "Pot 2\n",
            "Input Shape:  torch.Size([1, 16, 3, 224, 224])\n",
            "Pot:  tensor([0.4867], device='cuda:0', grad_fn=<SelectBackward0>)\n",
            "Predicted Sigmoid 0.48666083812713623 Truth Label 1\n",
            "torch.Size([])\n",
            "Loss 0.7201878428459167\n",
            "------------------------------------------------------\n",
            "-------------------------------------------------------------\n",
            "Pot 3\n",
            "Input Shape:  torch.Size([1, 16, 3, 224, 224])\n",
            "Pot:  tensor([0.4867], device='cuda:0', grad_fn=<SelectBackward0>)\n",
            "Predicted Sigmoid 0.48669686913490295 Truth Label 1\n",
            "torch.Size([])\n",
            "Loss 0.7201138138771057\n",
            "------------------------------------------------------\n",
            "-------------------------------------------------------------\n",
            "Pot 4\n",
            "Input Shape:  torch.Size([1, 16, 3, 224, 224])\n",
            "Pot:  tensor([0.4868], device='cuda:0', grad_fn=<SelectBackward0>)\n",
            "Predicted Sigmoid 0.48680612444877625 Truth Label 1\n",
            "torch.Size([])\n",
            "Loss 0.7198893427848816\n",
            "------------------------------------------------------\n",
            "-------------------------------------------------------------\n",
            "Pot 5\n",
            "Input Shape:  torch.Size([1, 16, 3, 224, 224])\n",
            "Pot:  tensor([0.4870], device='cuda:0', grad_fn=<SelectBackward0>)\n",
            "Predicted Sigmoid 0.4869827926158905 Truth Label 1\n",
            "torch.Size([])\n",
            "Loss 0.719526469707489\n",
            "------------------------------------------------------\n",
            "-------------------------------------------------------------\n",
            "Pot 6\n",
            "Input Shape:  torch.Size([1, 16, 3, 224, 224])\n",
            "Pot:  tensor([0.4872], device='cuda:0', grad_fn=<SelectBackward0>)\n",
            "Predicted Sigmoid 0.4872242510318756 Truth Label 0\n",
            "torch.Size([])\n",
            "Loss 0.6679165959358215\n",
            "------------------------------------------------------\n",
            "-------------------------------------------------------------\n",
            "Pot 7\n",
            "Input Shape:  torch.Size([1, 16, 3, 224, 224])\n",
            "Pot:  tensor([0.4874], device='cuda:0', grad_fn=<SelectBackward0>)\n",
            "Predicted Sigmoid 0.4873611330986023 Truth Label 0\n",
            "torch.Size([])\n",
            "Loss 0.6681836247444153\n",
            "------------------------------------------------------\n",
            "-------------------------------------------------------------\n",
            "Pot 8\n",
            "Input Shape:  torch.Size([1, 16, 3, 224, 224])\n",
            "Pot:  tensor([0.4874], device='cuda:0', grad_fn=<SelectBackward0>)\n",
            "Predicted Sigmoid 0.4874017536640167 Truth Label 0\n",
            "torch.Size([])\n",
            "Loss 0.6682628393173218\n",
            "------------------------------------------------------\n",
            "-------------------------------------------------------------\n",
            "Pot 9\n",
            "Input Shape:  torch.Size([1, 16, 3, 224, 224])\n",
            "Pot:  tensor([0.4874], device='cuda:0', grad_fn=<SelectBackward0>)\n",
            "Predicted Sigmoid 0.48735636472702026 Truth Label 0\n",
            "torch.Size([])\n",
            "Loss 0.6681743264198303\n",
            "------------------------------------------------------\n",
            "-------------------------------------------------------------\n",
            "Pot 10\n",
            "Input Shape:  torch.Size([1, 16, 3, 224, 224])\n",
            "Pot:  tensor([0.4872], device='cuda:0', grad_fn=<SelectBackward0>)\n",
            "Predicted Sigmoid 0.4872366487979889 Truth Label 0\n",
            "torch.Size([])\n",
            "Loss 0.6679407954216003\n",
            "------------------------------------------------------\n",
            "-------------------------------------------------------------\n",
            "Pot 11\n",
            "Input Shape:  torch.Size([1, 16, 3, 224, 224])\n",
            "Pot:  tensor([0.4871], device='cuda:0', grad_fn=<SelectBackward0>)\n",
            "Predicted Sigmoid 0.48705610632896423 Truth Label 0\n",
            "torch.Size([])\n",
            "Loss 0.6675888895988464\n",
            "------------------------------------------------------\n",
            "-------------------Epoch_8----------------------------------\n",
            "-------------------------------------------------------------\n",
            "Pot 0\n",
            "Input Shape:  torch.Size([1, 16, 3, 224, 224])\n",
            "Pot:  tensor([0.4868], device='cuda:0', grad_fn=<SelectBackward0>)\n",
            "Predicted Sigmoid 0.4868316650390625 Truth Label 1\n",
            "torch.Size([])\n",
            "Loss 0.7198368906974792\n",
            "------------------------------------------------------\n",
            "-------------------------------------------------------------\n",
            "Pot 1\n",
            "Input Shape:  torch.Size([1, 16, 3, 224, 224])\n",
            "Pot:  tensor([0.4867], device='cuda:0', grad_fn=<SelectBackward0>)\n",
            "Predicted Sigmoid 0.4867151081562042 Truth Label 1\n",
            "torch.Size([])\n",
            "Loss 0.720076322555542\n",
            "------------------------------------------------------\n",
            "-------------------------------------------------------------\n",
            "Pot 2\n",
            "Input Shape:  torch.Size([1, 16, 3, 224, 224])\n",
            "Pot:  tensor([0.4867], device='cuda:0', grad_fn=<SelectBackward0>)\n",
            "Predicted Sigmoid 0.48668694496154785 Truth Label 1\n",
            "torch.Size([])\n",
            "Loss 0.7201341986656189\n",
            "------------------------------------------------------\n",
            "-------------------------------------------------------------\n",
            "Pot 3\n",
            "Input Shape:  torch.Size([1, 16, 3, 224, 224])\n",
            "Pot:  tensor([0.4867], device='cuda:0', grad_fn=<SelectBackward0>)\n",
            "Predicted Sigmoid 0.4867321252822876 Truth Label 1\n",
            "torch.Size([])\n",
            "Loss 0.7200413346290588\n",
            "------------------------------------------------------\n",
            "-------------------------------------------------------------\n",
            "Pot 4\n",
            "Input Shape:  torch.Size([1, 16, 3, 224, 224])\n",
            "Pot:  tensor([0.4868], device='cuda:0', grad_fn=<SelectBackward0>)\n",
            "Predicted Sigmoid 0.4868413805961609 Truth Label 1\n",
            "torch.Size([])\n",
            "Loss 0.7198169231414795\n",
            "------------------------------------------------------\n",
            "-------------------------------------------------------------\n",
            "Pot 5\n",
            "Input Shape:  torch.Size([1, 16, 3, 224, 224])\n",
            "Pot:  tensor([0.4870], device='cuda:0', grad_fn=<SelectBackward0>)\n",
            "Predicted Sigmoid 0.48701414465904236 Truth Label 1\n",
            "torch.Size([])\n",
            "Loss 0.7194620966911316\n",
            "------------------------------------------------------\n",
            "-------------------------------------------------------------\n",
            "Pot 6\n",
            "Input Shape:  torch.Size([1, 16, 3, 224, 224])\n",
            "Pot:  tensor([0.4872], device='cuda:0', grad_fn=<SelectBackward0>)\n",
            "Predicted Sigmoid 0.4872477948665619 Truth Label 0\n",
            "torch.Size([])\n",
            "Loss 0.6679626703262329\n",
            "------------------------------------------------------\n",
            "-------------------------------------------------------------\n",
            "Pot 7\n",
            "Input Shape:  torch.Size([1, 16, 3, 224, 224])\n",
            "Pot:  tensor([0.4874], device='cuda:0', grad_fn=<SelectBackward0>)\n",
            "Predicted Sigmoid 0.4873807430267334 Truth Label 0\n",
            "torch.Size([])\n",
            "Loss 0.6682218909263611\n",
            "------------------------------------------------------\n",
            "-------------------------------------------------------------\n",
            "Pot 8\n",
            "Input Shape:  torch.Size([1, 16, 3, 224, 224])\n",
            "Pot:  tensor([0.4874], device='cuda:0', grad_fn=<SelectBackward0>)\n",
            "Predicted Sigmoid 0.4874207079410553 Truth Label 0\n",
            "torch.Size([])\n",
            "Loss 0.6682997941970825\n",
            "------------------------------------------------------\n",
            "-------------------------------------------------------------\n",
            "Pot 9\n",
            "Input Shape:  torch.Size([1, 16, 3, 224, 224])\n",
            "Pot:  tensor([0.4874], device='cuda:0', grad_fn=<SelectBackward0>)\n",
            "Predicted Sigmoid 0.48737892508506775 Truth Label 0\n",
            "torch.Size([])\n",
            "Loss 0.6682184338569641\n",
            "------------------------------------------------------\n",
            "-------------------------------------------------------------\n",
            "Pot 10\n",
            "Input Shape:  torch.Size([1, 16, 3, 224, 224])\n",
            "Pot:  tensor([0.4873], device='cuda:0', grad_fn=<SelectBackward0>)\n",
            "Predicted Sigmoid 0.48726850748062134 Truth Label 0\n",
            "torch.Size([])\n",
            "Loss 0.6680029630661011\n",
            "------------------------------------------------------\n",
            "-------------------------------------------------------------\n",
            "Pot 11\n",
            "Input Shape:  torch.Size([1, 16, 3, 224, 224])\n",
            "Pot:  tensor([0.4871], device='cuda:0', grad_fn=<SelectBackward0>)\n",
            "Predicted Sigmoid 0.4870827794075012 Truth Label 0\n",
            "torch.Size([])\n",
            "Loss 0.6676408052444458\n",
            "------------------------------------------------------\n",
            "-------------------Epoch_9----------------------------------\n",
            "-------------------------------------------------------------\n",
            "Pot 0\n",
            "Input Shape:  torch.Size([1, 16, 3, 224, 224])\n",
            "Pot:  tensor([0.4868], device='cuda:0', grad_fn=<SelectBackward0>)\n",
            "Predicted Sigmoid 0.4867803454399109 Truth Label 1\n",
            "torch.Size([])\n",
            "Loss 0.7199422717094421\n",
            "------------------------------------------------------\n",
            "-------------------------------------------------------------\n",
            "Pot 1\n",
            "Input Shape:  torch.Size([1, 16, 3, 224, 224])\n",
            "Pot:  tensor([0.4867], device='cuda:0', grad_fn=<SelectBackward0>)\n",
            "Predicted Sigmoid 0.4866545796394348 Truth Label 1\n",
            "torch.Size([])\n",
            "Loss 0.7202007174491882\n",
            "------------------------------------------------------\n",
            "-------------------------------------------------------------\n",
            "Pot 2\n",
            "Input Shape:  torch.Size([1, 16, 3, 224, 224])\n",
            "Pot:  tensor([0.4867], device='cuda:0', grad_fn=<SelectBackward0>)\n",
            "Predicted Sigmoid 0.48667123913764954 Truth Label 1\n",
            "torch.Size([])\n",
            "Loss 0.7201664447784424\n",
            "------------------------------------------------------\n",
            "-------------------------------------------------------------\n",
            "Pot 3\n",
            "Input Shape:  torch.Size([1, 16, 3, 224, 224])\n",
            "Pot:  tensor([0.4868], device='cuda:0', grad_fn=<SelectBackward0>)\n",
            "Predicted Sigmoid 0.48678839206695557 Truth Label 1\n",
            "torch.Size([])\n",
            "Loss 0.7199257612228394\n",
            "------------------------------------------------------\n",
            "-------------------------------------------------------------\n",
            "Pot 4\n",
            "Input Shape:  torch.Size([1, 16, 3, 224, 224])\n",
            "Pot:  tensor([0.4869], device='cuda:0', grad_fn=<SelectBackward0>)\n",
            "Predicted Sigmoid 0.48689156770706177 Truth Label 1\n",
            "torch.Size([])\n",
            "Loss 0.7197138071060181\n",
            "------------------------------------------------------\n",
            "-------------------------------------------------------------\n",
            "Pot 5\n",
            "Input Shape:  torch.Size([1, 16, 3, 224, 224])\n",
            "Pot:  tensor([0.4871], device='cuda:0', grad_fn=<SelectBackward0>)\n",
            "Predicted Sigmoid 0.48705631494522095 Truth Label 1\n",
            "torch.Size([])\n",
            "Loss 0.7193755507469177\n",
            "------------------------------------------------------\n",
            "-------------------------------------------------------------\n",
            "Pot 6\n",
            "Input Shape:  torch.Size([1, 16, 3, 224, 224])\n",
            "Pot:  tensor([0.4873], device='cuda:0', grad_fn=<SelectBackward0>)\n",
            "Predicted Sigmoid 0.4872882664203644 Truth Label 0\n",
            "torch.Size([])\n",
            "Loss 0.668041467666626\n",
            "------------------------------------------------------\n",
            "-------------------------------------------------------------\n",
            "Pot 7\n",
            "Input Shape:  torch.Size([1, 16, 3, 224, 224])\n",
            "Pot:  tensor([0.4874], device='cuda:0', grad_fn=<SelectBackward0>)\n",
            "Predicted Sigmoid 0.4874211251735687 Truth Label 0\n",
            "torch.Size([])\n",
            "Loss 0.6683007478713989\n",
            "------------------------------------------------------\n",
            "-------------------------------------------------------------\n",
            "Pot 8\n",
            "Input Shape:  torch.Size([1, 16, 3, 224, 224])\n",
            "Pot:  tensor([0.4875], device='cuda:0', grad_fn=<SelectBackward0>)\n",
            "Predicted Sigmoid 0.48746025562286377 Truth Label 0\n",
            "torch.Size([])\n",
            "Loss 0.6683770418167114\n",
            "------------------------------------------------------\n",
            "-------------------------------------------------------------\n",
            "Pot 9\n",
            "Input Shape:  torch.Size([1, 16, 3, 224, 224])\n",
            "Pot:  tensor([0.4874], device='cuda:0', grad_fn=<SelectBackward0>)\n",
            "Predicted Sigmoid 0.48741719126701355 Truth Label 0\n",
            "torch.Size([])\n",
            "Loss 0.6682930588722229\n",
            "------------------------------------------------------\n",
            "-------------------------------------------------------------\n",
            "Pot 10\n",
            "Input Shape:  torch.Size([1, 16, 3, 224, 224])\n",
            "Pot:  tensor([0.4873], device='cuda:0', grad_fn=<SelectBackward0>)\n",
            "Predicted Sigmoid 0.4873056411743164 Truth Label 0\n",
            "torch.Size([])\n",
            "Loss 0.6680753827095032\n",
            "------------------------------------------------------\n",
            "-------------------------------------------------------------\n",
            "Pot 11\n",
            "Input Shape:  torch.Size([1, 16, 3, 224, 224])\n",
            "Pot:  tensor([0.4871], device='cuda:0', grad_fn=<SelectBackward0>)\n",
            "Predicted Sigmoid 0.48713603615760803 Truth Label 0\n",
            "torch.Size([])\n",
            "Loss 0.6677445769309998\n",
            "------------------------------------------------------\n",
            "done\n"
          ]
        }
      ],
      "source": [
        "no_of_epochs = 10\n",
        "counter = 0\n",
        "loss_list = []\n",
        "\n",
        "# model.train()\n",
        "for epoch in range(no_of_epochs):\n",
        "    # running_loss = 0.0\n",
        "    print('-------------------Epoch_{}----------------------------------'.format(epoch))\n",
        "\n",
        "    # for inputs, labels in train_dataset:\n",
        "    for index, (inputs, labels) in enumerate(my_subset):\n",
        "          print('-------------------------------------------------------------')\n",
        "          inputs, labels = inputs.to(device), labels.to(device)\n",
        "          counter += 1\n",
        "          model_conv.zero_grad()\n",
        "          output = model_conv(inputs.unsqueeze(0))\n",
        "          print('Pot',index)\n",
        "          print('Input Shape: ', inputs.unsqueeze(0).shape)\n",
        "          print('Pot: ', output)\n",
        "\n",
        "          print('Predicted Sigmoid',output.squeeze().item(),'Truth Label', labels.item())\n",
        "          print(labels.float().shape)\n",
        "          loss = criterion(output.squeeze(), labels.float())\n",
        "          loss.backward()\n",
        "          optimizer.step()\n",
        "          print('Loss', loss.item())\n",
        "          loss_list.append(loss.item())\n",
        "          # if epoch == 100 or epoch == 200 or epoch == 300 or epoch == 400 or epoch == 500 or epoch == 50 :\n",
        "          #   torch.save(model_conv.state_dict(), './state_dict_{}.pt'.format(epoch))\n",
        "          #   np.savez(\"./losslist_{}\".format(epoch), np.array(loss_list))\n",
        "          print('------------------------------------------------------')\n",
        "          \n",
        "\n",
        "print('done')"
      ]
    },
    {
      "cell_type": "code",
      "execution_count": null,
      "metadata": {
        "id": "e4zkE8d4Bykp",
        "colab": {
          "base_uri": "https://localhost:8080/"
        },
        "outputId": "3edd987f-c81a-4d71-f15b-be7bec0e6b0d"
      },
      "outputs": [
        {
          "output_type": "stream",
          "name": "stdout",
          "text": [
            "-----------------------------------------------------\n",
            "Predicted Sigmoid:  0.4869213402271271\n",
            "Predicted Label:  tensor(0., device='cuda:0')\n",
            "Truth:  tensor(1, device='cuda:0')\n",
            "-----------------------------------------------------\n",
            "Predicted Sigmoid:  0.4869213402271271\n",
            "Predicted Label:  tensor(0., device='cuda:0')\n",
            "Truth:  tensor(1, device='cuda:0')\n",
            "-----------------------------------------------------\n",
            "Predicted Sigmoid:  0.4869212806224823\n",
            "Predicted Label:  tensor(0., device='cuda:0')\n",
            "Truth:  tensor(1, device='cuda:0')\n",
            "-----------------------------------------------------\n",
            "Predicted Sigmoid:  0.4869213402271271\n",
            "Predicted Label:  tensor(0., device='cuda:0')\n",
            "Truth:  tensor(1, device='cuda:0')\n",
            "-----------------------------------------------------\n",
            "Predicted Sigmoid:  0.4869212806224823\n",
            "Predicted Label:  tensor(0., device='cuda:0')\n",
            "Truth:  tensor(1, device='cuda:0')\n",
            "-----------------------------------------------------\n",
            "Predicted Sigmoid:  0.4869212806224823\n",
            "Predicted Label:  tensor(0., device='cuda:0')\n",
            "Truth:  tensor(1, device='cuda:0')\n",
            "-----------------------------------------------------\n",
            "Predicted Sigmoid:  0.48692139983177185\n",
            "Predicted Label:  tensor(0., device='cuda:0')\n",
            "Truth:  tensor(1, device='cuda:0')\n",
            "-----------------------------------------------------\n",
            "Predicted Sigmoid:  0.4869212806224823\n",
            "Predicted Label:  tensor(0., device='cuda:0')\n",
            "Truth:  tensor(1, device='cuda:0')\n",
            "-----------------------------------------------------\n",
            "Predicted Sigmoid:  0.4869213402271271\n",
            "Predicted Label:  tensor(0., device='cuda:0')\n",
            "Truth:  tensor(1, device='cuda:0')\n",
            "-----------------------------------------------------\n",
            "Predicted Sigmoid:  0.4869213402271271\n",
            "Predicted Label:  tensor(0., device='cuda:0')\n",
            "Truth:  tensor(1, device='cuda:0')\n",
            "-----------------------------------------------------\n",
            "Predicted Sigmoid:  0.4869213402271271\n",
            "Predicted Label:  tensor(0., device='cuda:0')\n",
            "Truth:  tensor(1, device='cuda:0')\n",
            "-----------------------------------------------------\n",
            "Predicted Sigmoid:  0.4869213402271271\n",
            "Predicted Label:  tensor(0., device='cuda:0')\n",
            "Truth:  tensor(1, device='cuda:0')\n",
            "-----------------------------------------------------\n",
            "Predicted Sigmoid:  0.4869213402271271\n",
            "Predicted Label:  tensor(0., device='cuda:0')\n",
            "Truth:  tensor(1, device='cuda:0')\n",
            "-----------------------------------------------------\n",
            "Predicted Sigmoid:  0.4869212806224823\n",
            "Predicted Label:  tensor(0., device='cuda:0')\n",
            "Truth:  tensor(1, device='cuda:0')\n",
            "-----------------------------------------------------\n",
            "Predicted Sigmoid:  0.4869212806224823\n",
            "Predicted Label:  tensor(0., device='cuda:0')\n",
            "Truth:  tensor(1, device='cuda:0')\n",
            "-----------------------------------------------------\n",
            "Predicted Sigmoid:  0.4869213402271271\n",
            "Predicted Label:  tensor(0., device='cuda:0')\n",
            "Truth:  tensor(0, device='cuda:0')\n",
            "-----------------------------------------------------\n",
            "Predicted Sigmoid:  0.4869213402271271\n",
            "Predicted Label:  tensor(0., device='cuda:0')\n",
            "Truth:  tensor(0, device='cuda:0')\n",
            "-----------------------------------------------------\n",
            "Predicted Sigmoid:  0.4869213402271271\n",
            "Predicted Label:  tensor(0., device='cuda:0')\n",
            "Truth:  tensor(0, device='cuda:0')\n",
            "accuracy:  0.16666666666666666\n"
          ]
        }
      ],
      "source": [
        "# # Loading the best model\n",
        "# model.load_state_dict(torch.load('./state_dict.pt'))\n",
        "num_correct = 0\n",
        "# model.eval()\n",
        "test_dataset = Subset(train_dataset,[6, 7, 8, 9, 10, 11, 15, 16, 17, 21, 22, 23, 24, 25, 26, 27, 28, 29]) \n",
        "with torch.no_grad():\n",
        "  for inputs, labels in test_dataset:\n",
        "      print('-----------------------------------------------------')\n",
        "      inputs, labels = inputs.to(device), labels.to(device)\n",
        "      output = model_conv(inputs.unsqueeze(0))\n",
        "      # test_loss = criterion(output.squeeze(), labels.float())\n",
        "      # print('Test Loss : ', test_loss)\n",
        "      print('Predicted Sigmoid: ', output.squeeze().item())\n",
        "\n",
        "      pred = torch.round(output.squeeze())  # Rounds the output to 0/1\n",
        "      correct_tensor = pred.eq(labels.float().view_as(pred))\n",
        "      print('Predicted Label: ', pred)\n",
        "      print('Truth: ', labels)\n",
        "      # model.zero_grad()\n",
        "      if int(pred.item()) == labels:\n",
        "        num_correct += 1 \n",
        "\n",
        "print(\"accuracy: \", num_correct/18)"
      ]
    },
    {
      "cell_type": "code",
      "execution_count": null,
      "metadata": {
        "id": "79ZXa4lP_kUJ"
      },
      "outputs": [],
      "source": []
    },
    {
      "cell_type": "code",
      "execution_count": null,
      "metadata": {
        "id": "yX87TypJ_y9q"
      },
      "outputs": [],
      "source": []
    },
    {
      "cell_type": "code",
      "execution_count": null,
      "metadata": {
        "id": "bH5anquyABnB"
      },
      "outputs": [],
      "source": []
    },
    {
      "cell_type": "code",
      "execution_count": null,
      "metadata": {
        "id": "eXXcl4txAQQz"
      },
      "outputs": [],
      "source": []
    },
    {
      "cell_type": "code",
      "execution_count": null,
      "metadata": {
        "id": "rEFeOVQhAe6Q"
      },
      "outputs": [],
      "source": []
    },
    {
      "cell_type": "code",
      "execution_count": null,
      "metadata": {
        "id": "i8CRof7nAtjq"
      },
      "outputs": [],
      "source": []
    },
    {
      "cell_type": "code",
      "execution_count": null,
      "metadata": {
        "id": "BxsRs7n9A8NK"
      },
      "outputs": [],
      "source": []
    },
    {
      "cell_type": "code",
      "execution_count": null,
      "metadata": {
        "id": "p7W_q3A6BK_W"
      },
      "outputs": [],
      "source": []
    },
    {
      "cell_type": "code",
      "execution_count": null,
      "metadata": {
        "id": "almd-tItas4B"
      },
      "outputs": [],
      "source": []
    },
    {
      "cell_type": "code",
      "execution_count": null,
      "metadata": {
        "id": "OByahgIWa7h4"
      },
      "outputs": [],
      "source": []
    },
    {
      "cell_type": "code",
      "execution_count": null,
      "metadata": {
        "id": "EtGGXK1cbKLD"
      },
      "outputs": [],
      "source": []
    },
    {
      "cell_type": "code",
      "execution_count": null,
      "metadata": {
        "id": "R4QycGx5bY1X"
      },
      "outputs": [],
      "source": []
    },
    {
      "cell_type": "code",
      "execution_count": null,
      "metadata": {
        "id": "-RVpLdM0XAOh"
      },
      "outputs": [],
      "source": []
    },
    {
      "cell_type": "code",
      "execution_count": null,
      "metadata": {
        "id": "zaoxbZIYX4om"
      },
      "outputs": [],
      "source": []
    },
    {
      "cell_type": "code",
      "execution_count": null,
      "metadata": {
        "id": "2jK8KLD5YW32"
      },
      "outputs": [],
      "source": []
    },
    {
      "cell_type": "code",
      "execution_count": null,
      "metadata": {
        "id": "S2rqhNguYliA"
      },
      "outputs": [],
      "source": []
    },
    {
      "cell_type": "code",
      "execution_count": null,
      "metadata": {
        "id": "iE6399xVY0LF"
      },
      "outputs": [],
      "source": []
    },
    {
      "cell_type": "code",
      "execution_count": null,
      "metadata": {
        "id": "h_nTStbDZC1Q"
      },
      "outputs": [],
      "source": []
    },
    {
      "cell_type": "code",
      "execution_count": null,
      "metadata": {
        "id": "RybvpgNFZgH_"
      },
      "outputs": [],
      "source": []
    },
    {
      "cell_type": "code",
      "execution_count": null,
      "metadata": {
        "id": "7X-bpnbFZ9a5"
      },
      "outputs": [],
      "source": []
    },
    {
      "cell_type": "code",
      "execution_count": null,
      "metadata": {
        "id": "JbXEVVEmaMD-"
      },
      "outputs": [],
      "source": []
    },
    {
      "cell_type": "code",
      "execution_count": null,
      "metadata": {
        "id": "PsFZgSvSaauH"
      },
      "outputs": [],
      "source": []
    },
    {
      "cell_type": "code",
      "execution_count": null,
      "metadata": {
        "id": "Fv7o08iYapXl"
      },
      "outputs": [],
      "source": []
    },
    {
      "cell_type": "code",
      "execution_count": null,
      "metadata": {
        "id": "_9Azym4BbGqu"
      },
      "outputs": [],
      "source": []
    },
    {
      "cell_type": "code",
      "execution_count": null,
      "metadata": {
        "id": "4X_-dHYkbVUB"
      },
      "outputs": [],
      "source": []
    },
    {
      "cell_type": "code",
      "execution_count": null,
      "metadata": {
        "id": "NCB_dSrwbj89"
      },
      "outputs": [],
      "source": []
    },
    {
      "cell_type": "code",
      "execution_count": null,
      "metadata": {
        "id": "cUoFEVL0cBQX"
      },
      "outputs": [],
      "source": []
    },
    {
      "cell_type": "code",
      "execution_count": null,
      "metadata": {
        "id": "1Q72cV7-cP5u"
      },
      "outputs": [],
      "source": []
    },
    {
      "cell_type": "code",
      "execution_count": null,
      "metadata": {
        "id": "WLE8IKjccei9"
      },
      "outputs": [],
      "source": []
    },
    {
      "cell_type": "code",
      "execution_count": null,
      "metadata": {
        "id": "iOrnNjl_ctM6"
      },
      "outputs": [],
      "source": []
    },
    {
      "cell_type": "code",
      "execution_count": null,
      "metadata": {
        "id": "nkqd0WmGdKhF"
      },
      "outputs": [],
      "source": []
    },
    {
      "cell_type": "code",
      "execution_count": null,
      "metadata": {
        "id": "8ixNpnmPdnzt"
      },
      "outputs": [],
      "source": []
    },
    {
      "cell_type": "code",
      "execution_count": null,
      "metadata": {
        "id": "3RwLxuS_d2dv"
      },
      "outputs": [],
      "source": []
    },
    {
      "cell_type": "code",
      "execution_count": null,
      "metadata": {
        "id": "bqC_S0DNeTvL"
      },
      "outputs": [],
      "source": []
    },
    {
      "cell_type": "code",
      "execution_count": null,
      "metadata": {
        "id": "sjoh_wuGeiYk"
      },
      "outputs": [],
      "source": []
    },
    {
      "cell_type": "code",
      "execution_count": null,
      "metadata": {
        "id": "EmO1n2jjexDW"
      },
      "outputs": [],
      "source": []
    },
    {
      "cell_type": "code",
      "execution_count": null,
      "metadata": {
        "id": "3ElxdZdjfOVv"
      },
      "outputs": [],
      "source": []
    },
    {
      "cell_type": "code",
      "execution_count": null,
      "metadata": {
        "id": "F4lWv4uMfc_Y"
      },
      "outputs": [],
      "source": []
    },
    {
      "cell_type": "code",
      "execution_count": null,
      "metadata": {
        "id": "UeiY6N-gfroX"
      },
      "outputs": [],
      "source": []
    },
    {
      "cell_type": "code",
      "execution_count": null,
      "metadata": {
        "id": "ElMh0xivf6Ry"
      },
      "outputs": [],
      "source": []
    },
    {
      "cell_type": "code",
      "execution_count": null,
      "metadata": {
        "id": "Tq9jTw3CgI62"
      },
      "outputs": [],
      "source": []
    },
    {
      "cell_type": "code",
      "execution_count": null,
      "metadata": {
        "id": "fEo5rZplgXk7"
      },
      "outputs": [],
      "source": []
    },
    {
      "cell_type": "code",
      "execution_count": null,
      "metadata": {
        "id": "YuwrpWihg03s"
      },
      "outputs": [],
      "source": []
    },
    {
      "cell_type": "code",
      "execution_count": null,
      "metadata": {
        "id": "LNGkNznlhDhf"
      },
      "outputs": [],
      "source": []
    },
    {
      "cell_type": "code",
      "execution_count": null,
      "metadata": {
        "id": "LobDfpf1hSKU"
      },
      "outputs": [],
      "source": []
    },
    {
      "cell_type": "code",
      "execution_count": null,
      "metadata": {
        "id": "u3yxiEnJhg1F"
      },
      "outputs": [],
      "source": []
    },
    {
      "cell_type": "code",
      "execution_count": null,
      "metadata": {
        "id": "cOTXuSn2hveL"
      },
      "outputs": [],
      "source": []
    },
    {
      "cell_type": "code",
      "execution_count": null,
      "metadata": {
        "id": "7OKu1gWmh-HZ"
      },
      "outputs": [],
      "source": []
    },
    {
      "cell_type": "code",
      "execution_count": null,
      "metadata": {
        "id": "Ml0_g5TWibZw"
      },
      "outputs": [],
      "source": []
    },
    {
      "cell_type": "code",
      "execution_count": null,
      "metadata": {
        "id": "wT3Mpe0eiqDb"
      },
      "outputs": [],
      "source": []
    },
    {
      "cell_type": "code",
      "execution_count": null,
      "metadata": {
        "id": "xPBqfYdri4tf"
      },
      "outputs": [],
      "source": []
    },
    {
      "cell_type": "code",
      "execution_count": null,
      "metadata": {
        "id": "t8NTuXV_jHW5"
      },
      "outputs": [],
      "source": []
    },
    {
      "cell_type": "code",
      "execution_count": null,
      "metadata": {
        "id": "OO6IRS_cjWAY"
      },
      "outputs": [],
      "source": []
    },
    {
      "cell_type": "code",
      "execution_count": null,
      "metadata": {
        "id": "9TOxRlJQjkpb"
      },
      "outputs": [],
      "source": []
    },
    {
      "cell_type": "code",
      "execution_count": null,
      "metadata": {
        "id": "4YVMY6y_jzTX"
      },
      "outputs": [],
      "source": []
    },
    {
      "cell_type": "code",
      "execution_count": null,
      "metadata": {
        "id": "Upz305t6kB9q"
      },
      "outputs": [],
      "source": []
    },
    {
      "cell_type": "code",
      "execution_count": null,
      "metadata": {
        "id": "duiH95hikQm6"
      },
      "outputs": [],
      "source": []
    },
    {
      "cell_type": "code",
      "execution_count": null,
      "metadata": {
        "id": "NwZxu1GakfP6"
      },
      "outputs": [],
      "source": []
    },
    {
      "cell_type": "code",
      "execution_count": null,
      "metadata": {
        "id": "WK7ZQMdrk8iJ"
      },
      "outputs": [],
      "source": []
    },
    {
      "cell_type": "code",
      "execution_count": null,
      "metadata": {
        "id": "5zDj1Q_llZ18"
      },
      "outputs": [],
      "source": []
    },
    {
      "cell_type": "code",
      "execution_count": null,
      "metadata": {
        "id": "5hfCDsr_loff"
      },
      "outputs": [],
      "source": []
    },
    {
      "cell_type": "code",
      "execution_count": null,
      "metadata": {
        "id": "5SaoGwcKmFxU"
      },
      "outputs": [],
      "source": []
    },
    {
      "cell_type": "code",
      "execution_count": null,
      "metadata": {
        "id": "9yhtX_Z-mUbZ"
      },
      "outputs": [],
      "source": []
    },
    {
      "cell_type": "code",
      "execution_count": null,
      "metadata": {
        "id": "no3UPtJfmjGq"
      },
      "outputs": [],
      "source": []
    },
    {
      "cell_type": "code",
      "execution_count": null,
      "metadata": {
        "id": "2Q1iBB2Jmxul"
      },
      "outputs": [],
      "source": []
    },
    {
      "cell_type": "code",
      "execution_count": null,
      "metadata": {
        "id": "AUrgaraNnAYs"
      },
      "outputs": [],
      "source": []
    },
    {
      "cell_type": "code",
      "execution_count": null,
      "metadata": {
        "id": "6GSU_GCFndrh"
      },
      "outputs": [],
      "source": []
    },
    {
      "cell_type": "code",
      "execution_count": null,
      "metadata": {
        "id": "bKX2dtwLn6-U"
      },
      "outputs": [],
      "source": []
    },
    {
      "cell_type": "code",
      "execution_count": null,
      "metadata": {
        "id": "cDyf9lTuoJno"
      },
      "outputs": [],
      "source": []
    },
    {
      "cell_type": "code",
      "execution_count": null,
      "metadata": {
        "id": "Tr7t_OoxoYRP"
      },
      "outputs": [],
      "source": []
    },
    {
      "cell_type": "code",
      "execution_count": null,
      "metadata": {
        "id": "s0E8xyLFom66"
      },
      "outputs": [],
      "source": []
    },
    {
      "cell_type": "code",
      "execution_count": null,
      "metadata": {
        "id": "-l-keByApEQR"
      },
      "outputs": [],
      "source": []
    },
    {
      "cell_type": "code",
      "execution_count": null,
      "metadata": {
        "id": "uHvlXMvkptfi"
      },
      "outputs": [],
      "source": []
    },
    {
      "cell_type": "code",
      "execution_count": null,
      "metadata": {
        "id": "gtNwWTpDp-0Z"
      },
      "outputs": [],
      "source": []
    },
    {
      "cell_type": "code",
      "execution_count": null,
      "metadata": {
        "id": "JXI9H0EYqNdi"
      },
      "outputs": [],
      "source": []
    },
    {
      "cell_type": "code",
      "execution_count": null,
      "metadata": {
        "id": "jtRGyKWJqqwU"
      },
      "outputs": [],
      "source": []
    },
    {
      "cell_type": "code",
      "execution_count": null,
      "metadata": {
        "id": "hE8pytv3q5Zu"
      },
      "outputs": [],
      "source": []
    },
    {
      "cell_type": "code",
      "execution_count": null,
      "metadata": {
        "id": "ZwVyqNiHrWtg"
      },
      "outputs": [],
      "source": []
    },
    {
      "cell_type": "code",
      "execution_count": null,
      "metadata": {
        "id": "pw60PQQfrlXm"
      },
      "outputs": [],
      "source": []
    },
    {
      "cell_type": "code",
      "execution_count": null,
      "metadata": {
        "id": "4c8kD9f3sCpN"
      },
      "outputs": [],
      "source": []
    },
    {
      "cell_type": "code",
      "execution_count": null,
      "metadata": {
        "id": "aysm_NdIsRRy"
      },
      "outputs": [],
      "source": []
    },
    {
      "cell_type": "code",
      "execution_count": null,
      "metadata": {
        "id": "RkFwP0fQsf8X"
      },
      "outputs": [],
      "source": []
    },
    {
      "cell_type": "code",
      "execution_count": null,
      "metadata": {
        "id": "NZocyWDwsuk0"
      },
      "outputs": [],
      "source": []
    },
    {
      "cell_type": "code",
      "execution_count": null,
      "metadata": {
        "id": "11KrbUWts9Oc"
      },
      "outputs": [],
      "source": []
    },
    {
      "cell_type": "code",
      "execution_count": null,
      "metadata": {
        "id": "cc6mtnWWtL4A"
      },
      "outputs": [],
      "source": []
    },
    {
      "cell_type": "code",
      "execution_count": null,
      "metadata": {
        "id": "0AbSCH0AtahY"
      },
      "outputs": [],
      "source": []
    },
    {
      "cell_type": "code",
      "execution_count": null,
      "metadata": {
        "id": "eZ7vtWvJtpLI"
      },
      "outputs": [],
      "source": []
    },
    {
      "cell_type": "code",
      "execution_count": null,
      "metadata": {
        "id": "H9MYzE7wt30h"
      },
      "outputs": [],
      "source": []
    },
    {
      "cell_type": "code",
      "execution_count": null,
      "metadata": {
        "id": "iGnVos1cuGnQ"
      },
      "outputs": [],
      "source": []
    },
    {
      "cell_type": "code",
      "execution_count": null,
      "metadata": {
        "id": "3kDFTrlXuVHH"
      },
      "outputs": [],
      "source": []
    },
    {
      "cell_type": "code",
      "execution_count": null,
      "metadata": {
        "id": "Q-fCB1awujxE"
      },
      "outputs": [],
      "source": []
    },
    {
      "cell_type": "code",
      "execution_count": null,
      "metadata": {
        "id": "EHmxMvpfuyad"
      },
      "outputs": [],
      "source": []
    },
    {
      "cell_type": "code",
      "execution_count": null,
      "metadata": {
        "id": "hFplChqzvBD3"
      },
      "outputs": [],
      "source": []
    },
    {
      "cell_type": "code",
      "execution_count": null,
      "metadata": {
        "id": "CkaApH6nvPtk"
      },
      "outputs": [],
      "source": []
    },
    {
      "cell_type": "code",
      "execution_count": null,
      "metadata": {
        "id": "cAk_xbYLveWm"
      },
      "outputs": [],
      "source": []
    },
    {
      "cell_type": "code",
      "execution_count": null,
      "metadata": {
        "id": "hN2OeIQ9vtAN"
      },
      "outputs": [],
      "source": []
    },
    {
      "cell_type": "code",
      "execution_count": null,
      "metadata": {
        "id": "9fd4H-3Bv7p2"
      },
      "outputs": [],
      "source": []
    },
    {
      "cell_type": "code",
      "execution_count": null,
      "metadata": {
        "id": "Pbh3aE_OwKTY"
      },
      "outputs": [],
      "source": []
    },
    {
      "cell_type": "code",
      "execution_count": null,
      "metadata": {
        "id": "4yIdzyOGwY88"
      },
      "outputs": [],
      "source": []
    },
    {
      "cell_type": "code",
      "execution_count": null,
      "metadata": {
        "id": "tX6glg0vwnmc"
      },
      "outputs": [],
      "source": []
    },
    {
      "cell_type": "code",
      "execution_count": null,
      "metadata": {
        "id": "iURRdG2zw2P9"
      },
      "outputs": [],
      "source": []
    },
    {
      "cell_type": "code",
      "execution_count": null,
      "metadata": {
        "id": "n_VwmdosxE5g"
      },
      "outputs": [],
      "source": []
    },
    {
      "cell_type": "code",
      "execution_count": null,
      "metadata": {
        "id": "EH5k2aWPxTjE"
      },
      "outputs": [],
      "source": []
    },
    {
      "cell_type": "code",
      "execution_count": null,
      "metadata": {
        "id": "ht1Z-R6exiMh"
      },
      "outputs": [],
      "source": []
    },
    {
      "cell_type": "code",
      "execution_count": null,
      "metadata": {
        "id": "HlJk34eixw16"
      },
      "outputs": [],
      "source": []
    },
    {
      "cell_type": "code",
      "execution_count": null,
      "metadata": {
        "id": "-5oeAa6Kx_fa"
      },
      "outputs": [],
      "source": []
    },
    {
      "cell_type": "code",
      "execution_count": null,
      "metadata": {
        "id": "6mDbn2kOyOI8"
      },
      "outputs": [],
      "source": []
    },
    {
      "cell_type": "code",
      "execution_count": null,
      "metadata": {
        "id": "lVp8XCKWycyn"
      },
      "outputs": [],
      "source": []
    },
    {
      "cell_type": "code",
      "execution_count": null,
      "metadata": {
        "id": "7LE53wXNyrci"
      },
      "outputs": [],
      "source": []
    },
    {
      "cell_type": "code",
      "execution_count": null,
      "metadata": {
        "id": "3TyAyVuZy6FS"
      },
      "outputs": [],
      "source": []
    },
    {
      "cell_type": "code",
      "execution_count": null,
      "metadata": {
        "id": "QSsPzLDEzIu8"
      },
      "outputs": [],
      "source": []
    },
    {
      "cell_type": "code",
      "execution_count": null,
      "metadata": {
        "id": "mLfNQl1HzXYO"
      },
      "outputs": [],
      "source": []
    },
    {
      "cell_type": "code",
      "execution_count": null,
      "metadata": {
        "id": "oMxGl846zmCA"
      },
      "outputs": [],
      "source": []
    },
    {
      "cell_type": "code",
      "execution_count": null,
      "metadata": {
        "id": "gEr_0vK9z0rj"
      },
      "outputs": [],
      "source": []
    },
    {
      "cell_type": "code",
      "execution_count": null,
      "metadata": {
        "id": "uf1LGxYh0DVF"
      },
      "outputs": [],
      "source": []
    },
    {
      "cell_type": "code",
      "execution_count": null,
      "metadata": {
        "id": "aymgJ2OH0R-Y"
      },
      "outputs": [],
      "source": []
    },
    {
      "cell_type": "code",
      "execution_count": null,
      "metadata": {
        "id": "66o70Hyi0gnv"
      },
      "outputs": [],
      "source": []
    },
    {
      "cell_type": "code",
      "execution_count": null,
      "metadata": {
        "id": "1YBDodfe0vRf"
      },
      "outputs": [],
      "source": []
    },
    {
      "cell_type": "code",
      "execution_count": null,
      "metadata": {
        "id": "Velup-Fx096y"
      },
      "outputs": [],
      "source": []
    },
    {
      "cell_type": "code",
      "execution_count": null,
      "metadata": {
        "id": "S4cDIBu21Mkg"
      },
      "outputs": [],
      "source": []
    },
    {
      "cell_type": "code",
      "execution_count": null,
      "metadata": {
        "id": "UnLbDUxo1bOE"
      },
      "outputs": [],
      "source": []
    },
    {
      "cell_type": "code",
      "execution_count": null,
      "metadata": {
        "id": "i-nUkBLa1p3e"
      },
      "outputs": [],
      "source": []
    },
    {
      "cell_type": "code",
      "execution_count": null,
      "metadata": {
        "id": "nN5ZN21P14g1"
      },
      "outputs": [],
      "source": []
    },
    {
      "cell_type": "code",
      "execution_count": null,
      "metadata": {
        "id": "IjUc1aRL2HKi"
      },
      "outputs": [],
      "source": []
    },
    {
      "cell_type": "code",
      "execution_count": null,
      "metadata": {
        "id": "MbI5uY5V2Vz6"
      },
      "outputs": [],
      "source": []
    },
    {
      "cell_type": "code",
      "execution_count": null,
      "metadata": {
        "id": "8VoBQFzp2kdZ"
      },
      "outputs": [],
      "source": []
    },
    {
      "cell_type": "code",
      "execution_count": null,
      "metadata": {
        "id": "fXMXE-Lk2zG4"
      },
      "outputs": [],
      "source": []
    },
    {
      "cell_type": "code",
      "execution_count": null,
      "metadata": {
        "id": "sdqp-D6q3BwR"
      },
      "outputs": [],
      "source": []
    },
    {
      "cell_type": "code",
      "execution_count": null,
      "metadata": {
        "id": "jKXCbEVt3QaM"
      },
      "outputs": [],
      "source": []
    },
    {
      "cell_type": "code",
      "execution_count": null,
      "metadata": {
        "id": "VUrK_j6u3fDg"
      },
      "outputs": [],
      "source": []
    },
    {
      "cell_type": "code",
      "execution_count": null,
      "metadata": {
        "id": "-C2NmZ_W3ttB"
      },
      "outputs": [],
      "source": []
    },
    {
      "cell_type": "code",
      "execution_count": null,
      "metadata": {
        "id": "OS0iyecz38WT"
      },
      "outputs": [],
      "source": []
    },
    {
      "cell_type": "code",
      "execution_count": null,
      "metadata": {
        "id": "mNuNZpKp4K_z"
      },
      "outputs": [],
      "source": []
    },
    {
      "cell_type": "code",
      "execution_count": null,
      "metadata": {
        "id": "Gv8A-o2-4Zpf"
      },
      "outputs": [],
      "source": []
    },
    {
      "cell_type": "code",
      "execution_count": null,
      "metadata": {
        "id": "Co-dNAQo4oS8"
      },
      "outputs": [],
      "source": []
    },
    {
      "cell_type": "code",
      "execution_count": null,
      "metadata": {
        "id": "cxdUhWYp428Z"
      },
      "outputs": [],
      "source": []
    },
    {
      "cell_type": "code",
      "execution_count": null,
      "metadata": {
        "id": "Y2Ve3P5W5Fl5"
      },
      "outputs": [],
      "source": []
    },
    {
      "cell_type": "code",
      "execution_count": null,
      "metadata": {
        "id": "puHQ3_K95UPd"
      },
      "outputs": [],
      "source": []
    },
    {
      "cell_type": "code",
      "execution_count": null,
      "metadata": {
        "id": "AqF-BIWB5i40"
      },
      "outputs": [],
      "source": []
    },
    {
      "cell_type": "code",
      "execution_count": null,
      "metadata": {
        "id": "1Nxqoyk85xib"
      },
      "outputs": [],
      "source": []
    },
    {
      "cell_type": "code",
      "execution_count": null,
      "metadata": {
        "id": "OURx5FI36AL6"
      },
      "outputs": [],
      "source": []
    },
    {
      "cell_type": "code",
      "execution_count": null,
      "metadata": {
        "id": "I2gYD2Oh6O1Z"
      },
      "outputs": [],
      "source": []
    },
    {
      "cell_type": "code",
      "execution_count": null,
      "metadata": {
        "id": "ZaIJgPtg6dfE"
      },
      "outputs": [],
      "source": []
    },
    {
      "cell_type": "code",
      "execution_count": null,
      "metadata": {
        "id": "DC5YvKB66sIP"
      },
      "outputs": [],
      "source": []
    },
    {
      "cell_type": "code",
      "execution_count": null,
      "metadata": {
        "id": "yFEulGa266x9"
      },
      "outputs": [],
      "source": []
    },
    {
      "cell_type": "code",
      "execution_count": null,
      "metadata": {
        "id": "0sCn8zzX7Jbo"
      },
      "outputs": [],
      "source": []
    },
    {
      "cell_type": "code",
      "execution_count": null,
      "metadata": {
        "id": "Phmid7uR7YE9"
      },
      "outputs": [],
      "source": []
    },
    {
      "cell_type": "code",
      "execution_count": null,
      "metadata": {
        "id": "VZhO9FI97mui"
      },
      "outputs": [],
      "source": []
    },
    {
      "cell_type": "code",
      "execution_count": null,
      "metadata": {
        "id": "6bitELek71Xw"
      },
      "outputs": [],
      "source": []
    },
    {
      "cell_type": "code",
      "execution_count": null,
      "metadata": {
        "id": "bseAIOb78EBi"
      },
      "outputs": [],
      "source": []
    },
    {
      "cell_type": "code",
      "execution_count": null,
      "metadata": {
        "id": "6VFSDa_P8SrA"
      },
      "outputs": [],
      "source": []
    },
    {
      "cell_type": "code",
      "execution_count": null,
      "metadata": {
        "id": "a9id2GnN8hUb"
      },
      "outputs": [],
      "source": []
    },
    {
      "cell_type": "code",
      "execution_count": null,
      "metadata": {
        "id": "-T0hgIdY8v91"
      },
      "outputs": [],
      "source": []
    },
    {
      "cell_type": "code",
      "execution_count": null,
      "metadata": {
        "id": "SzsD8qjg8-nX"
      },
      "outputs": [],
      "source": []
    },
    {
      "cell_type": "code",
      "execution_count": null,
      "metadata": {
        "id": "T_tFgcCC9NQ1"
      },
      "outputs": [],
      "source": []
    },
    {
      "cell_type": "code",
      "execution_count": null,
      "metadata": {
        "id": "sU6G1eYv9b6c"
      },
      "outputs": [],
      "source": []
    },
    {
      "cell_type": "code",
      "execution_count": null,
      "metadata": {
        "id": "N4r24WQ29qkG"
      },
      "outputs": [],
      "source": []
    },
    {
      "cell_type": "code",
      "execution_count": null,
      "metadata": {
        "id": "ueIhzkEb95Ng"
      },
      "outputs": [],
      "source": []
    },
    {
      "cell_type": "code",
      "execution_count": null,
      "metadata": {
        "id": "-cDkMXif-H2r"
      },
      "outputs": [],
      "source": []
    },
    {
      "cell_type": "code",
      "execution_count": null,
      "metadata": {
        "id": "dwVAVGXs-Wgm"
      },
      "outputs": [],
      "source": []
    },
    {
      "cell_type": "code",
      "execution_count": null,
      "metadata": {
        "id": "2Z8sQj26-lJ5"
      },
      "outputs": [],
      "source": []
    },
    {
      "cell_type": "code",
      "execution_count": null,
      "metadata": {
        "id": "V6Dejxxl-zzZ"
      },
      "outputs": [],
      "source": []
    },
    {
      "cell_type": "code",
      "execution_count": null,
      "metadata": {
        "id": "oT2uc2YJ_Cc6"
      },
      "outputs": [],
      "source": []
    },
    {
      "cell_type": "code",
      "execution_count": null,
      "metadata": {
        "id": "1koPpRoW_RGm"
      },
      "outputs": [],
      "source": []
    },
    {
      "cell_type": "code",
      "execution_count": null,
      "metadata": {
        "id": "h5IDJ5UH_fwA"
      },
      "outputs": [],
      "source": []
    },
    {
      "cell_type": "code",
      "execution_count": null,
      "metadata": {
        "id": "HhcC4jP-_uZa"
      },
      "outputs": [],
      "source": []
    },
    {
      "cell_type": "code",
      "execution_count": null,
      "metadata": {
        "id": "L-4_WyX7_9C2"
      },
      "outputs": [],
      "source": []
    },
    {
      "cell_type": "code",
      "execution_count": null,
      "metadata": {
        "id": "ZdRVa3yoALsY"
      },
      "outputs": [],
      "source": []
    },
    {
      "cell_type": "code",
      "execution_count": null,
      "metadata": {
        "id": "Yd5HFQXgAaWB"
      },
      "outputs": [],
      "source": []
    },
    {
      "cell_type": "code",
      "execution_count": null,
      "metadata": {
        "id": "6xOBdfY7Ao_l"
      },
      "outputs": [],
      "source": []
    },
    {
      "cell_type": "code",
      "execution_count": null,
      "metadata": {
        "id": "lsOsRoL1A3o-"
      },
      "outputs": [],
      "source": []
    },
    {
      "cell_type": "code",
      "execution_count": null,
      "metadata": {
        "id": "iOhhqiXJBGSa"
      },
      "outputs": [],
      "source": []
    },
    {
      "cell_type": "code",
      "execution_count": null,
      "metadata": {
        "id": "1F3ZoGIKBU79"
      },
      "outputs": [],
      "source": []
    },
    {
      "cell_type": "code",
      "execution_count": null,
      "metadata": {
        "id": "el_O-iYsBjle"
      },
      "outputs": [],
      "source": []
    },
    {
      "cell_type": "code",
      "execution_count": null,
      "metadata": {
        "id": "IxwHmJJgByPE"
      },
      "outputs": [],
      "source": []
    },
    {
      "cell_type": "code",
      "execution_count": null,
      "metadata": {
        "id": "womsZ_D1CA4d"
      },
      "outputs": [],
      "source": []
    },
    {
      "cell_type": "code",
      "execution_count": null,
      "metadata": {
        "id": "nNY3sHRhCPiF"
      },
      "outputs": [],
      "source": []
    },
    {
      "cell_type": "code",
      "execution_count": null,
      "metadata": {
        "id": "PKs3jRV1CeLc"
      },
      "outputs": [],
      "source": []
    },
    {
      "cell_type": "code",
      "execution_count": null,
      "metadata": {
        "id": "bWO7jjQ6Cs2J"
      },
      "outputs": [],
      "source": []
    },
    {
      "cell_type": "code",
      "execution_count": null,
      "metadata": {
        "id": "lWrqcQ45C7l4"
      },
      "outputs": [],
      "source": []
    },
    {
      "cell_type": "code",
      "execution_count": null,
      "metadata": {
        "id": "6_nXH2MkDKKk"
      },
      "outputs": [],
      "source": []
    },
    {
      "cell_type": "code",
      "execution_count": null,
      "metadata": {
        "id": "1sWMKHWIDYy0"
      },
      "outputs": [],
      "source": []
    },
    {
      "cell_type": "code",
      "execution_count": null,
      "metadata": {
        "id": "0kk00dwqD2F0"
      },
      "outputs": [],
      "source": []
    },
    {
      "cell_type": "code",
      "execution_count": null,
      "metadata": {
        "id": "vFCSMmIeEEvM"
      },
      "outputs": [],
      "source": []
    },
    {
      "cell_type": "code",
      "execution_count": null,
      "metadata": {
        "id": "-sZGgcGNEiDJ"
      },
      "outputs": [],
      "source": []
    },
    {
      "cell_type": "code",
      "execution_count": null,
      "metadata": {
        "id": "bxG_W_8tGIla"
      },
      "outputs": [],
      "source": []
    },
    {
      "cell_type": "code",
      "execution_count": null,
      "metadata": {
        "id": "taZERE90Gl2r"
      },
      "outputs": [],
      "source": []
    },
    {
      "cell_type": "code",
      "execution_count": null,
      "metadata": {
        "id": "q394_WW1G0hz"
      },
      "outputs": [],
      "source": []
    },
    {
      "cell_type": "code",
      "execution_count": null,
      "metadata": {
        "id": "mMEbEHgkHDKk"
      },
      "outputs": [],
      "source": []
    },
    {
      "cell_type": "code",
      "execution_count": null,
      "metadata": {
        "id": "9YLEvP3wHRzY"
      },
      "outputs": [],
      "source": []
    },
    {
      "cell_type": "code",
      "execution_count": null,
      "metadata": {
        "id": "J9j5l-yxHvHG"
      },
      "outputs": [],
      "source": []
    },
    {
      "cell_type": "code",
      "execution_count": null,
      "metadata": {
        "id": "XCul5qp5H9xz"
      },
      "outputs": [],
      "source": []
    },
    {
      "cell_type": "code",
      "execution_count": null,
      "metadata": {
        "id": "XOrZ6T_CIbDt"
      },
      "outputs": [],
      "source": []
    },
    {
      "cell_type": "code",
      "execution_count": null,
      "metadata": {
        "id": "UuBX2Ec4Ipsw"
      },
      "outputs": [],
      "source": []
    },
    {
      "cell_type": "code",
      "execution_count": null,
      "metadata": {
        "id": "z3kC19SvJG_9"
      },
      "outputs": [],
      "source": []
    },
    {
      "cell_type": "code",
      "execution_count": null,
      "metadata": {
        "id": "qRfh9f42JkTU"
      },
      "outputs": [],
      "source": []
    },
    {
      "cell_type": "code",
      "execution_count": null,
      "metadata": {
        "id": "I0PsEwDSJy86"
      },
      "outputs": [],
      "source": []
    },
    {
      "cell_type": "code",
      "execution_count": null,
      "metadata": {
        "id": "U_jkwXXjKBmD"
      },
      "outputs": [],
      "source": []
    },
    {
      "cell_type": "code",
      "execution_count": null,
      "metadata": {
        "id": "sqdZiC7bKe4j"
      },
      "outputs": [],
      "source": []
    },
    {
      "cell_type": "code",
      "execution_count": null,
      "metadata": {
        "id": "NIlatnqeK8M0"
      },
      "outputs": [],
      "source": []
    },
    {
      "cell_type": "code",
      "execution_count": null,
      "metadata": {
        "id": "EnzmDHSKLK2D"
      },
      "outputs": [],
      "source": []
    },
    {
      "cell_type": "code",
      "execution_count": null,
      "metadata": {
        "id": "7IM_bDkBLoIO"
      },
      "outputs": [],
      "source": []
    },
    {
      "cell_type": "code",
      "execution_count": null,
      "metadata": {
        "id": "01vBFyQ8L2yX"
      },
      "outputs": [],
      "source": []
    },
    {
      "cell_type": "code",
      "execution_count": null,
      "metadata": {
        "id": "fGFGNuLKMUEA"
      },
      "outputs": [],
      "source": []
    },
    {
      "cell_type": "code",
      "execution_count": null,
      "metadata": {
        "id": "dAZqmStkMith"
      },
      "outputs": [],
      "source": []
    },
    {
      "cell_type": "code",
      "execution_count": null,
      "metadata": {
        "id": "OEEAEKHwMxW1"
      },
      "outputs": [],
      "source": []
    },
    {
      "cell_type": "code",
      "execution_count": null,
      "metadata": {
        "id": "X4Um4u2rNAAY"
      },
      "outputs": [],
      "source": []
    },
    {
      "cell_type": "code",
      "execution_count": null,
      "metadata": {
        "id": "2YjoXTL4NOp3"
      },
      "outputs": [],
      "source": []
    },
    {
      "cell_type": "code",
      "execution_count": null,
      "metadata": {
        "id": "gIQ-KtRcNdTf"
      },
      "outputs": [],
      "source": []
    },
    {
      "cell_type": "code",
      "execution_count": null,
      "metadata": {
        "id": "4s3s6o2nNr86"
      },
      "outputs": [],
      "source": []
    },
    {
      "cell_type": "code",
      "execution_count": null,
      "metadata": {
        "id": "vzhzp9gAN6mh"
      },
      "outputs": [],
      "source": []
    },
    {
      "cell_type": "code",
      "execution_count": null,
      "metadata": {
        "id": "ft_DDY4nOJPx"
      },
      "outputs": [],
      "source": []
    },
    {
      "cell_type": "code",
      "execution_count": null,
      "metadata": {
        "id": "BIq4e7v4OX5h"
      },
      "outputs": [],
      "source": []
    },
    {
      "cell_type": "code",
      "execution_count": null,
      "metadata": {
        "id": "-aOHP0xdOmi9"
      },
      "outputs": [],
      "source": []
    },
    {
      "cell_type": "code",
      "execution_count": null,
      "metadata": {
        "id": "Tq74Cs4NO1Ml"
      },
      "outputs": [],
      "source": []
    },
    {
      "cell_type": "code",
      "execution_count": null,
      "metadata": {
        "id": "wD0s8LCQPD2B"
      },
      "outputs": [],
      "source": []
    },
    {
      "cell_type": "code",
      "execution_count": null,
      "metadata": {
        "id": "2SSow0k6PSfK"
      },
      "outputs": [],
      "source": []
    },
    {
      "cell_type": "code",
      "execution_count": null,
      "metadata": {
        "id": "jf1F3mPAPhI9"
      },
      "outputs": [],
      "source": []
    },
    {
      "cell_type": "code",
      "execution_count": null,
      "metadata": {
        "id": "rQdlEcXIPvyb"
      },
      "outputs": [],
      "source": []
    },
    {
      "cell_type": "code",
      "execution_count": null,
      "metadata": {
        "id": "REHjsiauP-b_"
      },
      "outputs": [],
      "source": []
    },
    {
      "cell_type": "code",
      "execution_count": null,
      "metadata": {
        "id": "ohR4lGBYQNFz"
      },
      "outputs": [],
      "source": []
    },
    {
      "cell_type": "code",
      "execution_count": null,
      "metadata": {
        "id": "yhelcZJsQbu6"
      },
      "outputs": [],
      "source": []
    },
    {
      "cell_type": "code",
      "execution_count": null,
      "metadata": {
        "id": "Ey5XeAx1QqYn"
      },
      "outputs": [],
      "source": []
    },
    {
      "cell_type": "code",
      "execution_count": null,
      "metadata": {
        "id": "zrvmWSC8Q5CM"
      },
      "outputs": [],
      "source": []
    },
    {
      "cell_type": "code",
      "execution_count": null,
      "metadata": {
        "id": "VKrMNIfwRHrh"
      },
      "outputs": [],
      "source": []
    },
    {
      "cell_type": "code",
      "execution_count": null,
      "metadata": {
        "id": "AtOG-eQSRWU0"
      },
      "outputs": [],
      "source": []
    },
    {
      "cell_type": "code",
      "execution_count": null,
      "metadata": {
        "id": "hnU3yrcCRk-p"
      },
      "outputs": [],
      "source": []
    },
    {
      "cell_type": "code",
      "execution_count": null,
      "metadata": {
        "id": "ymLmeu6JRzoC"
      },
      "outputs": [],
      "source": []
    },
    {
      "cell_type": "code",
      "execution_count": null,
      "metadata": {
        "id": "HcUqLqwVSCRi"
      },
      "outputs": [],
      "source": []
    },
    {
      "cell_type": "code",
      "execution_count": null,
      "metadata": {
        "id": "1zBAxuFISQ7C"
      },
      "outputs": [],
      "source": []
    },
    {
      "cell_type": "code",
      "execution_count": null,
      "metadata": {
        "id": "D90Kvfa4SfkM"
      },
      "outputs": [],
      "source": []
    },
    {
      "cell_type": "code",
      "execution_count": null,
      "metadata": {
        "id": "nP6rgTJWSuPi"
      },
      "outputs": [],
      "source": []
    },
    {
      "cell_type": "code",
      "execution_count": null,
      "metadata": {
        "id": "1YBQe3HIS834"
      },
      "outputs": [],
      "source": []
    },
    {
      "cell_type": "code",
      "execution_count": null,
      "metadata": {
        "id": "EkM4Loq_TLjG"
      },
      "outputs": [],
      "source": []
    },
    {
      "cell_type": "code",
      "execution_count": null,
      "metadata": {
        "id": "2Pbe9q-7TaKz"
      },
      "outputs": [],
      "source": []
    },
    {
      "cell_type": "code",
      "execution_count": null,
      "metadata": {
        "id": "rILnFqMZToz1"
      },
      "outputs": [],
      "source": []
    },
    {
      "cell_type": "code",
      "execution_count": null,
      "metadata": {
        "id": "PVqyBvUiT3dd"
      },
      "outputs": [],
      "source": []
    },
    {
      "cell_type": "code",
      "execution_count": null,
      "metadata": {
        "id": "GabhLDH1UGJS"
      },
      "outputs": [],
      "source": []
    },
    {
      "cell_type": "code",
      "execution_count": null,
      "metadata": {
        "id": "ktAOEUXQUjbL"
      },
      "outputs": [],
      "source": []
    },
    {
      "cell_type": "code",
      "execution_count": null,
      "metadata": {
        "id": "oq8DknF1UyFy"
      },
      "outputs": [],
      "source": []
    },
    {
      "cell_type": "code",
      "execution_count": null,
      "metadata": {
        "id": "k8fg54BxVPYT"
      },
      "outputs": [],
      "source": []
    },
    {
      "cell_type": "code",
      "execution_count": null,
      "metadata": {
        "id": "GrpnB5tAV7UY"
      },
      "outputs": [],
      "source": []
    },
    {
      "cell_type": "code",
      "execution_count": null,
      "metadata": {
        "id": "3HA0CzjbYN0u"
      },
      "outputs": [],
      "source": []
    },
    {
      "cell_type": "code",
      "execution_count": null,
      "metadata": {
        "id": "K03Bf53eYrHS"
      },
      "outputs": [],
      "source": []
    },
    {
      "cell_type": "code",
      "execution_count": null,
      "metadata": {
        "id": "L7xcr88LZIYj"
      },
      "outputs": [],
      "source": []
    },
    {
      "cell_type": "code",
      "execution_count": null,
      "metadata": {
        "id": "80ATlOnbZltC"
      },
      "outputs": [],
      "source": []
    },
    {
      "cell_type": "code",
      "execution_count": null,
      "metadata": {
        "id": "kdYOr5ySZ0WS"
      },
      "outputs": [],
      "source": []
    },
    {
      "cell_type": "code",
      "execution_count": null,
      "metadata": {
        "id": "mSoBrIM3aRpB"
      },
      "outputs": [],
      "source": []
    },
    {
      "cell_type": "code",
      "execution_count": null,
      "metadata": {
        "id": "O6xn720jagSK"
      },
      "outputs": [],
      "source": []
    },
    {
      "cell_type": "code",
      "execution_count": null,
      "metadata": {
        "id": "QT-Kn1h7bMNp"
      },
      "outputs": [],
      "source": []
    },
    {
      "cell_type": "code",
      "execution_count": null,
      "metadata": {
        "id": "buwaYP-_ckHf"
      },
      "outputs": [],
      "source": []
    },
    {
      "cell_type": "code",
      "execution_count": null,
      "metadata": {
        "id": "dvPdHaNFdBbA"
      },
      "outputs": [],
      "source": []
    },
    {
      "cell_type": "code",
      "execution_count": null,
      "metadata": {
        "id": "1cpxZu_Edet_"
      },
      "outputs": [],
      "source": []
    },
    {
      "cell_type": "code",
      "execution_count": null,
      "metadata": {
        "id": "cxoPO2L9dtXD"
      },
      "outputs": [],
      "source": []
    },
    {
      "cell_type": "code",
      "execution_count": null,
      "metadata": {
        "id": "Hi-88NQGd8A6"
      },
      "outputs": [],
      "source": []
    },
    {
      "cell_type": "code",
      "execution_count": null,
      "metadata": {
        "id": "_yo-G0SfeZUR"
      },
      "outputs": [],
      "source": []
    },
    {
      "cell_type": "code",
      "execution_count": null,
      "metadata": {
        "id": "I5eAxHlIfFQF"
      },
      "outputs": [],
      "source": []
    },
    {
      "cell_type": "code",
      "execution_count": null,
      "metadata": {
        "id": "ybOdAsdXfT5r"
      },
      "outputs": [],
      "source": []
    },
    {
      "cell_type": "code",
      "execution_count": null,
      "metadata": {
        "id": "V3EKT3JAfija"
      },
      "outputs": [],
      "source": []
    },
    {
      "cell_type": "code",
      "execution_count": null,
      "metadata": {
        "id": "iyTtsAYrfxMq"
      },
      "outputs": [],
      "source": []
    },
    {
      "cell_type": "code",
      "execution_count": null,
      "metadata": {
        "id": "XhtwtIKBgdKK"
      },
      "outputs": [],
      "source": []
    },
    {
      "cell_type": "code",
      "execution_count": null,
      "metadata": {
        "id": "9ZOANx8jkzim"
      },
      "outputs": [],
      "source": []
    },
    {
      "cell_type": "code",
      "execution_count": null,
      "metadata": {
        "id": "11Xtyr8Hrq9v"
      },
      "outputs": [],
      "source": []
    },
    {
      "cell_type": "code",
      "execution_count": null,
      "metadata": {
        "id": "jltE6DprwtMu"
      },
      "outputs": [],
      "source": []
    },
    {
      "cell_type": "code",
      "execution_count": null,
      "metadata": {
        "id": "4phvLle-yxCi"
      },
      "outputs": [],
      "source": []
    },
    {
      "cell_type": "code",
      "execution_count": null,
      "metadata": {
        "id": "ED5ps9b2zc8Z"
      },
      "outputs": [],
      "source": []
    },
    {
      "cell_type": "code",
      "execution_count": null,
      "metadata": {
        "id": "j-Ie9_06zrl_"
      },
      "outputs": [],
      "source": []
    },
    {
      "cell_type": "code",
      "execution_count": null,
      "metadata": {
        "id": "PPGP7cTXz6Pc"
      },
      "outputs": [],
      "source": []
    },
    {
      "cell_type": "code",
      "execution_count": null,
      "metadata": {
        "id": "sc1bez3G0I46"
      },
      "outputs": [],
      "source": []
    },
    {
      "cell_type": "code",
      "execution_count": null,
      "metadata": {
        "id": "9gtZ1ZHl0XiN"
      },
      "outputs": [],
      "source": []
    },
    {
      "cell_type": "code",
      "execution_count": null,
      "metadata": {
        "id": "x1kXg0U50mMD"
      },
      "outputs": [],
      "source": []
    },
    {
      "cell_type": "code",
      "execution_count": null,
      "metadata": {
        "id": "w-XYrpuN001g"
      },
      "outputs": [],
      "source": []
    },
    {
      "cell_type": "code",
      "execution_count": null,
      "metadata": {
        "id": "Pxy_HWFh1DfP"
      },
      "outputs": [],
      "source": []
    },
    {
      "cell_type": "code",
      "execution_count": null,
      "metadata": {
        "id": "TTETtIry1SIy"
      },
      "outputs": [],
      "source": []
    },
    {
      "cell_type": "code",
      "execution_count": null,
      "metadata": {
        "id": "nfTS9cyN1gxw"
      },
      "outputs": [],
      "source": []
    },
    {
      "cell_type": "code",
      "execution_count": null,
      "metadata": {
        "id": "d2Wuj3QK1vbn"
      },
      "outputs": [],
      "source": []
    },
    {
      "cell_type": "code",
      "execution_count": null,
      "metadata": {
        "id": "SS8I_loX1-FU"
      },
      "outputs": [],
      "source": []
    },
    {
      "cell_type": "code",
      "execution_count": null,
      "metadata": {
        "id": "LulbRv402Muc"
      },
      "outputs": [],
      "source": []
    },
    {
      "cell_type": "code",
      "execution_count": null,
      "metadata": {
        "id": "14m5v1Cd2bYF"
      },
      "outputs": [],
      "source": []
    },
    {
      "cell_type": "code",
      "execution_count": null,
      "metadata": {
        "id": "DxO_Syaf2qBg"
      },
      "outputs": [],
      "source": []
    },
    {
      "cell_type": "code",
      "execution_count": null,
      "metadata": {
        "id": "pBEf6j-224q2"
      },
      "outputs": [],
      "source": []
    },
    {
      "cell_type": "code",
      "execution_count": null,
      "metadata": {
        "id": "GAMORGU23HUa"
      },
      "outputs": [],
      "source": []
    },
    {
      "cell_type": "code",
      "execution_count": null,
      "metadata": {
        "id": "eCD4IezZ3V-E"
      },
      "outputs": [],
      "source": []
    },
    {
      "cell_type": "code",
      "execution_count": null,
      "metadata": {
        "id": "gDuKxgTf3knh"
      },
      "outputs": [],
      "source": []
    },
    {
      "cell_type": "code",
      "execution_count": null,
      "metadata": {
        "id": "UgQJ0rCS3zQy"
      },
      "outputs": [],
      "source": []
    },
    {
      "cell_type": "code",
      "execution_count": null,
      "metadata": {
        "id": "TRQV1De54B6h"
      },
      "outputs": [],
      "source": []
    },
    {
      "cell_type": "code",
      "execution_count": null,
      "metadata": {
        "id": "DBCBUyzo4QkB"
      },
      "outputs": [],
      "source": []
    },
    {
      "cell_type": "code",
      "execution_count": null,
      "metadata": {
        "id": "WrYYEDAF4fNg"
      },
      "outputs": [],
      "source": []
    },
    {
      "cell_type": "code",
      "execution_count": null,
      "metadata": {
        "id": "Rez7d8xK4t3H"
      },
      "outputs": [],
      "source": []
    },
    {
      "cell_type": "code",
      "execution_count": null,
      "metadata": {
        "id": "Ldu9cjmi48go"
      },
      "outputs": [],
      "source": []
    },
    {
      "cell_type": "code",
      "execution_count": null,
      "metadata": {
        "id": "uLHt_vZJ5LJ-"
      },
      "outputs": [],
      "source": []
    },
    {
      "cell_type": "code",
      "execution_count": null,
      "metadata": {
        "id": "7bhlYEeI5ZzV"
      },
      "outputs": [],
      "source": []
    },
    {
      "cell_type": "code",
      "execution_count": null,
      "metadata": {
        "id": "91E98VBv5odG"
      },
      "outputs": [],
      "source": []
    },
    {
      "cell_type": "code",
      "execution_count": null,
      "metadata": {
        "id": "aWnZhAVH53Go"
      },
      "outputs": [],
      "source": []
    },
    {
      "cell_type": "code",
      "execution_count": null,
      "metadata": {
        "id": "bLilv1u-6Fv6"
      },
      "outputs": [],
      "source": []
    },
    {
      "cell_type": "code",
      "execution_count": null,
      "metadata": {
        "id": "z36jU_ce6UZd"
      },
      "outputs": [],
      "source": []
    },
    {
      "cell_type": "code",
      "execution_count": null,
      "metadata": {
        "id": "i2XbaNjr6jDL"
      },
      "outputs": [],
      "source": []
    },
    {
      "cell_type": "code",
      "execution_count": null,
      "metadata": {
        "id": "PIaqqDDP6xsm"
      },
      "outputs": [],
      "source": []
    },
    {
      "cell_type": "code",
      "execution_count": null,
      "metadata": {
        "id": "gbJ4BRQ-7AWK"
      },
      "outputs": [],
      "source": []
    },
    {
      "cell_type": "code",
      "execution_count": null,
      "metadata": {
        "id": "5YfHzGp77O_Z"
      },
      "outputs": [],
      "source": []
    },
    {
      "cell_type": "code",
      "execution_count": null,
      "metadata": {
        "id": "11RBhkr77dpF"
      },
      "outputs": [],
      "source": []
    },
    {
      "cell_type": "code",
      "execution_count": null,
      "metadata": {
        "id": "Vrf3RV3R7sTN"
      },
      "outputs": [],
      "source": []
    },
    {
      "cell_type": "code",
      "execution_count": null,
      "metadata": {
        "id": "OmRGFqYV768B"
      },
      "outputs": [],
      "source": []
    },
    {
      "cell_type": "code",
      "execution_count": null,
      "metadata": {
        "id": "mO9voh358Jlo"
      },
      "outputs": [],
      "source": []
    },
    {
      "cell_type": "code",
      "execution_count": null,
      "metadata": {
        "id": "GH8OKO2n8YO5"
      },
      "outputs": [],
      "source": []
    },
    {
      "cell_type": "code",
      "execution_count": null,
      "metadata": {
        "id": "JDVxhuK78m4v"
      },
      "outputs": [],
      "source": []
    },
    {
      "cell_type": "code",
      "execution_count": null,
      "metadata": {
        "id": "ouM81JLg81iI"
      },
      "outputs": [],
      "source": []
    },
    {
      "cell_type": "code",
      "execution_count": null,
      "metadata": {
        "id": "Zcbp09sX9ELy"
      },
      "outputs": [],
      "source": []
    },
    {
      "cell_type": "code",
      "execution_count": null,
      "metadata": {
        "id": "YsHqzg7Q9S0-"
      },
      "outputs": [],
      "source": []
    },
    {
      "cell_type": "code",
      "execution_count": null,
      "metadata": {
        "id": "qukGjV5A9heU"
      },
      "outputs": [],
      "source": []
    },
    {
      "cell_type": "code",
      "execution_count": null,
      "metadata": {
        "id": "0-QNAqpC9wJS"
      },
      "outputs": [],
      "source": []
    },
    {
      "cell_type": "code",
      "execution_count": null,
      "metadata": {
        "id": "j3Htw2sm9-xe"
      },
      "outputs": [],
      "source": []
    },
    {
      "cell_type": "code",
      "execution_count": null,
      "metadata": {
        "id": "m_m1fqOU-NbF"
      },
      "outputs": [],
      "source": []
    },
    {
      "cell_type": "code",
      "execution_count": null,
      "metadata": {
        "id": "Ytpj3Ljb-cEx"
      },
      "outputs": [],
      "source": []
    },
    {
      "cell_type": "code",
      "execution_count": null,
      "metadata": {
        "id": "YrQoq3h0-quD"
      },
      "outputs": [],
      "source": []
    },
    {
      "cell_type": "code",
      "execution_count": null,
      "metadata": {
        "id": "_4sixj_n-5XZ"
      },
      "outputs": [],
      "source": []
    },
    {
      "cell_type": "code",
      "execution_count": null,
      "metadata": {
        "id": "7E92Cpab_IBG"
      },
      "outputs": [],
      "source": []
    },
    {
      "cell_type": "code",
      "execution_count": null,
      "metadata": {
        "id": "QgiqSRbD_WrS"
      },
      "outputs": [],
      "source": []
    },
    {
      "cell_type": "code",
      "execution_count": null,
      "metadata": {
        "id": "hMIub3UB_lUL"
      },
      "outputs": [],
      "source": []
    },
    {
      "cell_type": "code",
      "execution_count": null,
      "metadata": {
        "id": "IWzxQM_k_z9r"
      },
      "outputs": [],
      "source": []
    },
    {
      "cell_type": "code",
      "execution_count": null,
      "metadata": {
        "id": "9FLGNL32ACm4"
      },
      "outputs": [],
      "source": []
    },
    {
      "cell_type": "code",
      "execution_count": null,
      "metadata": {
        "id": "7IoWhSP9ARRV"
      },
      "outputs": [],
      "source": []
    },
    {
      "cell_type": "code",
      "execution_count": null,
      "metadata": {
        "id": "KeZAeZlPAf6E"
      },
      "outputs": [],
      "source": []
    },
    {
      "cell_type": "code",
      "execution_count": null,
      "metadata": {
        "id": "TpWMczBHAujb"
      },
      "outputs": [],
      "source": []
    },
    {
      "cell_type": "code",
      "execution_count": null,
      "metadata": {
        "id": "yDKU8VDDA9M6"
      },
      "outputs": [],
      "source": []
    },
    {
      "cell_type": "code",
      "execution_count": null,
      "metadata": {
        "id": "YJS-emK9BL2k"
      },
      "outputs": [],
      "source": []
    },
    {
      "cell_type": "code",
      "execution_count": null,
      "metadata": {
        "id": "8TR3yYZqBagb"
      },
      "outputs": [],
      "source": []
    },
    {
      "cell_type": "code",
      "execution_count": null,
      "metadata": {
        "id": "yDUtcpWjBpJV"
      },
      "outputs": [],
      "source": []
    },
    {
      "cell_type": "code",
      "execution_count": null,
      "metadata": {
        "id": "e4bgDU5pB3y7"
      },
      "outputs": [],
      "source": []
    },
    {
      "cell_type": "code",
      "execution_count": null,
      "metadata": {
        "id": "UsaoYolkCGcp"
      },
      "outputs": [],
      "source": []
    },
    {
      "cell_type": "code",
      "execution_count": null,
      "metadata": {
        "id": "wLSgSI9gCVGE"
      },
      "outputs": [],
      "source": []
    },
    {
      "cell_type": "code",
      "execution_count": null,
      "metadata": {
        "id": "JofwiGQGCjvc"
      },
      "outputs": [],
      "source": []
    },
    {
      "cell_type": "code",
      "execution_count": null,
      "metadata": {
        "id": "-fvVf8wiCyY2"
      },
      "outputs": [],
      "source": []
    },
    {
      "cell_type": "code",
      "execution_count": null,
      "metadata": {
        "id": "QiVYYpyoDBCg"
      },
      "outputs": [],
      "source": []
    },
    {
      "cell_type": "code",
      "execution_count": null,
      "metadata": {
        "id": "4UCMt3t3DPsK"
      },
      "outputs": [],
      "source": []
    },
    {
      "cell_type": "code",
      "execution_count": null,
      "metadata": {
        "id": "yplDbCEeDeVu"
      },
      "outputs": [],
      "source": []
    },
    {
      "cell_type": "code",
      "execution_count": null,
      "metadata": {
        "id": "gAJA3dOgDs_B"
      },
      "outputs": [],
      "source": []
    },
    {
      "cell_type": "code",
      "execution_count": null,
      "metadata": {
        "id": "n6qWe0fxD7ol"
      },
      "outputs": [],
      "source": []
    },
    {
      "cell_type": "code",
      "execution_count": null,
      "metadata": {
        "id": "2ZSWCMs_EKSD"
      },
      "outputs": [],
      "source": []
    },
    {
      "cell_type": "code",
      "execution_count": null,
      "metadata": {
        "id": "TiGLJXHqEY7d"
      },
      "outputs": [],
      "source": []
    },
    {
      "cell_type": "code",
      "execution_count": null,
      "metadata": {
        "id": "wTLd5f5iEnlG"
      },
      "outputs": [],
      "source": []
    },
    {
      "cell_type": "code",
      "execution_count": null,
      "metadata": {
        "id": "Y0YkTtv2E2PW"
      },
      "outputs": [],
      "source": []
    },
    {
      "cell_type": "code",
      "execution_count": null,
      "metadata": {
        "id": "QXYSXolnFE3-"
      },
      "outputs": [],
      "source": []
    },
    {
      "cell_type": "code",
      "execution_count": null,
      "metadata": {
        "id": "pE7PPqcFFThs"
      },
      "outputs": [],
      "source": []
    },
    {
      "cell_type": "code",
      "execution_count": null,
      "metadata": {
        "id": "bXVGck5yFiK8"
      },
      "outputs": [],
      "source": []
    },
    {
      "cell_type": "code",
      "execution_count": null,
      "metadata": {
        "id": "l-dbnG6GFw0f"
      },
      "outputs": [],
      "source": []
    },
    {
      "cell_type": "code",
      "execution_count": null,
      "metadata": {
        "id": "Cewpq9e5F_eN"
      },
      "outputs": [],
      "source": []
    },
    {
      "cell_type": "code",
      "execution_count": null,
      "metadata": {
        "id": "iC0Ml201GOQh"
      },
      "outputs": [],
      "source": []
    },
    {
      "cell_type": "code",
      "execution_count": null,
      "metadata": {
        "id": "5bdbBe3THIwN"
      },
      "outputs": [],
      "source": []
    },
    {
      "cell_type": "code",
      "execution_count": null,
      "metadata": {
        "id": "_0nw7V3LHmDB"
      },
      "outputs": [],
      "source": []
    },
    {
      "cell_type": "code",
      "execution_count": null,
      "metadata": {
        "id": "rCBnRB4PH0rW"
      },
      "outputs": [],
      "source": []
    },
    {
      "cell_type": "code",
      "execution_count": null,
      "metadata": {
        "id": "LSuIwLA6IDVW"
      },
      "outputs": [],
      "source": []
    },
    {
      "cell_type": "code",
      "execution_count": null,
      "metadata": {
        "id": "uDCzFxdsIR9Y"
      },
      "outputs": [],
      "source": []
    },
    {
      "cell_type": "code",
      "execution_count": null,
      "metadata": {
        "id": "7JuU_7PcIgmm"
      },
      "outputs": [],
      "source": []
    },
    {
      "cell_type": "code",
      "execution_count": null,
      "metadata": {
        "id": "jkwzVQI2IvQM"
      },
      "outputs": [],
      "source": []
    },
    {
      "cell_type": "code",
      "execution_count": null,
      "metadata": {
        "id": "xa7Jhl3PI95p"
      },
      "outputs": [],
      "source": []
    },
    {
      "cell_type": "code",
      "execution_count": null,
      "metadata": {
        "id": "Z_ntYnthJMjB"
      },
      "outputs": [],
      "source": []
    },
    {
      "cell_type": "code",
      "execution_count": null,
      "metadata": {
        "id": "Ijh5BFlVJbMj"
      },
      "outputs": [],
      "source": []
    },
    {
      "cell_type": "code",
      "execution_count": null,
      "metadata": {
        "id": "5Un_IuOSJp2D"
      },
      "outputs": [],
      "source": []
    },
    {
      "cell_type": "code",
      "execution_count": null,
      "metadata": {
        "id": "Q8DQKVysJ4fg"
      },
      "outputs": [],
      "source": []
    },
    {
      "cell_type": "code",
      "execution_count": null,
      "metadata": {
        "id": "T7EHvSlIKHI8"
      },
      "outputs": [],
      "source": []
    },
    {
      "cell_type": "code",
      "execution_count": null,
      "metadata": {
        "id": "O2mn35liKVyk"
      },
      "outputs": [],
      "source": []
    },
    {
      "cell_type": "code",
      "execution_count": null,
      "metadata": {
        "id": "X70sxbeCKkcB"
      },
      "outputs": [],
      "source": []
    },
    {
      "cell_type": "code",
      "execution_count": null,
      "metadata": {
        "id": "pSdttTwgKzFY"
      },
      "outputs": [],
      "source": []
    },
    {
      "cell_type": "code",
      "execution_count": null,
      "metadata": {
        "id": "s4VwFiK5LBvU"
      },
      "outputs": [],
      "source": []
    },
    {
      "cell_type": "code",
      "execution_count": null,
      "metadata": {
        "id": "-UE0fT1_LQYj"
      },
      "outputs": [],
      "source": []
    },
    {
      "cell_type": "code",
      "execution_count": null,
      "metadata": {
        "id": "MBdtuYOhLfB8"
      },
      "outputs": [],
      "source": []
    },
    {
      "cell_type": "code",
      "execution_count": null,
      "metadata": {
        "id": "CGH7wkJVLtrb"
      },
      "outputs": [],
      "source": []
    },
    {
      "cell_type": "code",
      "execution_count": null,
      "metadata": {
        "id": "PUxHJ-xML8VC"
      },
      "outputs": [],
      "source": []
    },
    {
      "cell_type": "code",
      "execution_count": null,
      "metadata": {
        "id": "Ihr8KwNKMK-b"
      },
      "outputs": [],
      "source": []
    },
    {
      "cell_type": "code",
      "execution_count": null,
      "metadata": {
        "id": "WoqNKbpEMZoA"
      },
      "outputs": [],
      "source": []
    },
    {
      "cell_type": "code",
      "execution_count": null,
      "metadata": {
        "id": "rZQ4b8NJMoRr"
      },
      "outputs": [],
      "source": []
    },
    {
      "cell_type": "code",
      "execution_count": null,
      "metadata": {
        "id": "0y-7PcroM27K"
      },
      "outputs": [],
      "source": []
    },
    {
      "cell_type": "code",
      "execution_count": null,
      "metadata": {
        "id": "vqC_W1o8NFkV"
      },
      "outputs": [],
      "source": []
    },
    {
      "cell_type": "code",
      "execution_count": null,
      "metadata": {
        "id": "jlU07FquNUOL"
      },
      "outputs": [],
      "source": []
    },
    {
      "cell_type": "code",
      "execution_count": null,
      "metadata": {
        "id": "1Y_6s94GNi3m"
      },
      "outputs": [],
      "source": []
    },
    {
      "cell_type": "code",
      "execution_count": null,
      "metadata": {
        "id": "u0qWG8GqNxhB"
      },
      "outputs": [],
      "source": []
    },
    {
      "cell_type": "code",
      "execution_count": null,
      "metadata": {
        "id": "qD03edhcOAKn"
      },
      "outputs": [],
      "source": []
    },
    {
      "cell_type": "code",
      "execution_count": null,
      "metadata": {
        "id": "PW3ljATLOOz9"
      },
      "outputs": [],
      "source": []
    },
    {
      "cell_type": "code",
      "execution_count": null,
      "metadata": {
        "id": "9CKP8gAGOddf"
      },
      "outputs": [],
      "source": []
    },
    {
      "cell_type": "code",
      "execution_count": null,
      "metadata": {
        "id": "cigKUPbgOsHN"
      },
      "outputs": [],
      "source": []
    },
    {
      "cell_type": "code",
      "execution_count": null,
      "metadata": {
        "id": "h6Y56PY1O6wo"
      },
      "outputs": [],
      "source": []
    },
    {
      "cell_type": "code",
      "execution_count": null,
      "metadata": {
        "id": "yptdTdUBPJaC"
      },
      "outputs": [],
      "source": []
    },
    {
      "cell_type": "code",
      "execution_count": null,
      "metadata": {
        "id": "-A4Nc0-DPYDd"
      },
      "outputs": [],
      "source": []
    },
    {
      "cell_type": "code",
      "execution_count": null,
      "metadata": {
        "id": "zvmbNbRGPmtG"
      },
      "outputs": [],
      "source": []
    },
    {
      "cell_type": "code",
      "execution_count": null,
      "metadata": {
        "id": "YDht_dDSP1Wl"
      },
      "outputs": [],
      "source": []
    },
    {
      "cell_type": "code",
      "execution_count": null,
      "metadata": {
        "id": "V4eaVWahQD_8"
      },
      "outputs": [],
      "source": []
    },
    {
      "cell_type": "code",
      "execution_count": null,
      "metadata": {
        "id": "r8pCn1UWQSpo"
      },
      "outputs": [],
      "source": []
    },
    {
      "cell_type": "code",
      "execution_count": null,
      "metadata": {
        "id": "gWYLlBGnQhS7"
      },
      "outputs": [],
      "source": []
    },
    {
      "cell_type": "code",
      "execution_count": null,
      "metadata": {
        "id": "C6OovFZHQv8f"
      },
      "outputs": [],
      "source": []
    },
    {
      "cell_type": "code",
      "execution_count": null,
      "metadata": {
        "id": "tlu8I75dQ-mK"
      },
      "outputs": [],
      "source": []
    },
    {
      "cell_type": "code",
      "execution_count": null,
      "metadata": {
        "id": "pXMN_RY6RNPY"
      },
      "outputs": [],
      "source": []
    },
    {
      "cell_type": "code",
      "execution_count": null,
      "metadata": {
        "id": "OMAwQ9aCRb5J"
      },
      "outputs": [],
      "source": []
    },
    {
      "cell_type": "code",
      "execution_count": null,
      "metadata": {
        "id": "rRwI4g28Rqiw"
      },
      "outputs": [],
      "source": []
    },
    {
      "cell_type": "code",
      "execution_count": null,
      "metadata": {
        "id": "BB4t_ybxR5MF"
      },
      "outputs": [],
      "source": []
    },
    {
      "cell_type": "code",
      "execution_count": null,
      "metadata": {
        "id": "7ra_TrZpSH1v"
      },
      "outputs": [],
      "source": []
    },
    {
      "cell_type": "code",
      "execution_count": null,
      "metadata": {
        "id": "C8ck3YNsSWfT"
      },
      "outputs": [],
      "source": []
    },
    {
      "cell_type": "code",
      "execution_count": null,
      "metadata": {
        "id": "tceFDa4FSlIi"
      },
      "outputs": [],
      "source": []
    },
    {
      "cell_type": "code",
      "execution_count": null,
      "metadata": {
        "id": "3IKhaGgQSzyT"
      },
      "outputs": [],
      "source": []
    },
    {
      "cell_type": "code",
      "execution_count": null,
      "metadata": {
        "id": "E7TqJyM0TCbo"
      },
      "outputs": [],
      "source": []
    },
    {
      "cell_type": "code",
      "execution_count": null,
      "metadata": {
        "id": "nrvZeFGMTRE6"
      },
      "outputs": [],
      "source": []
    },
    {
      "cell_type": "code",
      "execution_count": null,
      "metadata": {
        "id": "MW_iq_fXTfui"
      },
      "outputs": [],
      "source": []
    },
    {
      "cell_type": "code",
      "execution_count": null,
      "metadata": {
        "id": "ZE0XJeZzTuX-"
      },
      "outputs": [],
      "source": []
    },
    {
      "cell_type": "code",
      "execution_count": null,
      "metadata": {
        "id": "vr6U5sIGT9Bg"
      },
      "outputs": [],
      "source": []
    },
    {
      "cell_type": "code",
      "execution_count": null,
      "metadata": {
        "id": "nLUFjN75ULrI"
      },
      "outputs": [],
      "source": []
    },
    {
      "cell_type": "code",
      "execution_count": null,
      "metadata": {
        "id": "0X8T4aZEUaUs"
      },
      "outputs": [],
      "source": []
    },
    {
      "cell_type": "code",
      "execution_count": null,
      "metadata": {
        "id": "lzv_86ibUo-E"
      },
      "outputs": [],
      "source": []
    },
    {
      "cell_type": "code",
      "execution_count": null,
      "metadata": {
        "id": "pzO0FBlNU3nd"
      },
      "outputs": [],
      "source": []
    },
    {
      "cell_type": "code",
      "execution_count": null,
      "metadata": {
        "id": "BgYmbLX7VGRh"
      },
      "outputs": [],
      "source": []
    },
    {
      "cell_type": "code",
      "execution_count": null,
      "metadata": {
        "id": "zAfVaAovVU6u"
      },
      "outputs": [],
      "source": []
    },
    {
      "cell_type": "code",
      "execution_count": null,
      "metadata": {
        "id": "IbVa1MDMVjkU"
      },
      "outputs": [],
      "source": []
    },
    {
      "cell_type": "code",
      "execution_count": null,
      "metadata": {
        "id": "AYZ-OexeVyNj"
      },
      "outputs": [],
      "source": []
    },
    {
      "cell_type": "code",
      "execution_count": null,
      "metadata": {
        "id": "lneg8JIkWA2-"
      },
      "outputs": [],
      "source": []
    },
    {
      "cell_type": "code",
      "execution_count": null,
      "metadata": {
        "id": "KgVsBhYVWPgZ"
      },
      "outputs": [],
      "source": []
    },
    {
      "cell_type": "code",
      "execution_count": null,
      "metadata": {
        "id": "puqWmXy2WeJ9"
      },
      "outputs": [],
      "source": []
    },
    {
      "cell_type": "code",
      "execution_count": null,
      "metadata": {
        "id": "UTAYCmPiWsz0"
      },
      "outputs": [],
      "source": []
    },
    {
      "cell_type": "code",
      "execution_count": null,
      "metadata": {
        "id": "Z4Fa0fvKW7dA"
      },
      "outputs": [],
      "source": []
    },
    {
      "cell_type": "code",
      "execution_count": null,
      "metadata": {
        "id": "_H3aQWXeXKGV"
      },
      "outputs": [],
      "source": []
    },
    {
      "cell_type": "code",
      "execution_count": null,
      "metadata": {
        "id": "hE0u2Y80XYwW"
      },
      "outputs": [],
      "source": []
    },
    {
      "cell_type": "code",
      "execution_count": null,
      "metadata": {
        "id": "HfLgqnfeXnZs"
      },
      "outputs": [],
      "source": []
    },
    {
      "cell_type": "code",
      "execution_count": null,
      "metadata": {
        "id": "-gIhOvuSX2DK"
      },
      "outputs": [],
      "source": []
    },
    {
      "cell_type": "code",
      "execution_count": null,
      "metadata": {
        "id": "zIusb4g1YEsj"
      },
      "outputs": [],
      "source": []
    },
    {
      "cell_type": "code",
      "execution_count": null,
      "metadata": {
        "id": "YAA7iyN2YTWE"
      },
      "outputs": [],
      "source": []
    },
    {
      "cell_type": "code",
      "execution_count": null,
      "metadata": {
        "id": "c1tOHHyiYiN4"
      },
      "outputs": [],
      "source": []
    },
    {
      "cell_type": "code",
      "execution_count": null,
      "metadata": {
        "id": "_uKjmz8zZrQo"
      },
      "outputs": [],
      "source": []
    },
    {
      "cell_type": "code",
      "execution_count": null,
      "metadata": {
        "id": "klVsdZTbaIi1"
      },
      "outputs": [],
      "source": []
    },
    {
      "cell_type": "code",
      "execution_count": null,
      "metadata": {
        "id": "yJj2lT0taXME"
      },
      "outputs": [],
      "source": []
    },
    {
      "cell_type": "code",
      "execution_count": null,
      "metadata": {
        "id": "k5U7WXQIal2q"
      },
      "outputs": [],
      "source": []
    },
    {
      "cell_type": "code",
      "execution_count": null,
      "metadata": {
        "id": "vGuUJStLa0e0"
      },
      "outputs": [],
      "source": []
    },
    {
      "cell_type": "code",
      "execution_count": null,
      "metadata": {
        "id": "7nfDod3KbDKV"
      },
      "outputs": [],
      "source": []
    },
    {
      "cell_type": "code",
      "execution_count": null,
      "metadata": {
        "id": "jZwLjc-obRxq"
      },
      "outputs": [],
      "source": []
    },
    {
      "cell_type": "code",
      "execution_count": null,
      "metadata": {
        "id": "C_1Xu_7WbgbC"
      },
      "outputs": [],
      "source": []
    },
    {
      "cell_type": "code",
      "execution_count": null,
      "metadata": {
        "id": "DiplA-p0bvEk"
      },
      "outputs": [],
      "source": []
    },
    {
      "cell_type": "code",
      "execution_count": null,
      "metadata": {
        "id": "HkiBuoRBb9uF"
      },
      "outputs": [],
      "source": []
    },
    {
      "cell_type": "code",
      "execution_count": null,
      "metadata": {
        "id": "rkcuqqNxcMXh"
      },
      "outputs": [],
      "source": []
    },
    {
      "cell_type": "code",
      "execution_count": null,
      "metadata": {
        "id": "FZI2IWe8cbBD"
      },
      "outputs": [],
      "source": []
    },
    {
      "cell_type": "code",
      "execution_count": null,
      "metadata": {
        "id": "oSTT6IxTcpqk"
      },
      "outputs": [],
      "source": []
    },
    {
      "cell_type": "code",
      "execution_count": null,
      "metadata": {
        "id": "vS-6XLpec4UI"
      },
      "outputs": [],
      "source": []
    },
    {
      "cell_type": "code",
      "execution_count": null,
      "metadata": {
        "id": "TOeHaLA2dG9i"
      },
      "outputs": [],
      "source": []
    },
    {
      "cell_type": "code",
      "execution_count": null,
      "metadata": {
        "id": "XVjJQ0OedVnB"
      },
      "outputs": [],
      "source": []
    },
    {
      "cell_type": "code",
      "execution_count": null,
      "metadata": {
        "id": "d00J8Z5fdkQd"
      },
      "outputs": [],
      "source": []
    },
    {
      "cell_type": "code",
      "execution_count": null,
      "metadata": {
        "id": "62sdF0Ffdy6B"
      },
      "outputs": [],
      "source": []
    },
    {
      "cell_type": "code",
      "execution_count": null,
      "metadata": {
        "id": "iMRCsWzdeBjZ"
      },
      "outputs": [],
      "source": []
    },
    {
      "cell_type": "code",
      "execution_count": null,
      "metadata": {
        "id": "z-ifdt1meQNB"
      },
      "outputs": [],
      "source": []
    },
    {
      "cell_type": "code",
      "execution_count": null,
      "metadata": {
        "id": "akvUfcJtee2p"
      },
      "outputs": [],
      "source": []
    },
    {
      "cell_type": "code",
      "execution_count": null,
      "metadata": {
        "id": "3UPQHtkFetgH"
      },
      "outputs": [],
      "source": []
    },
    {
      "cell_type": "code",
      "execution_count": null,
      "metadata": {
        "id": "sUeWptVbe8Jf"
      },
      "outputs": [],
      "source": []
    },
    {
      "cell_type": "code",
      "execution_count": null,
      "metadata": {
        "id": "a2b-XfLdfKy7"
      },
      "outputs": [],
      "source": []
    },
    {
      "cell_type": "code",
      "execution_count": null,
      "metadata": {
        "id": "fR0cBLwAfZcf"
      },
      "outputs": [],
      "source": []
    },
    {
      "cell_type": "code",
      "execution_count": null,
      "metadata": {
        "id": "rGZKUP1wfoGC"
      },
      "outputs": [],
      "source": []
    },
    {
      "cell_type": "code",
      "execution_count": null,
      "metadata": {
        "id": "hp68_1Cnf2vg"
      },
      "outputs": [],
      "source": []
    },
    {
      "cell_type": "code",
      "execution_count": null,
      "metadata": {
        "id": "n8UQEi48gFY9"
      },
      "outputs": [],
      "source": []
    },
    {
      "cell_type": "code",
      "execution_count": null,
      "metadata": {
        "id": "gplNaRbVgUC8"
      },
      "outputs": [],
      "source": []
    },
    {
      "cell_type": "code",
      "execution_count": null,
      "metadata": {
        "id": "wo9gO3N9gisX"
      },
      "outputs": [],
      "source": []
    },
    {
      "cell_type": "code",
      "execution_count": null,
      "metadata": {
        "id": "njHBGhM-gxt2"
      },
      "outputs": [],
      "source": []
    },
    {
      "cell_type": "code",
      "execution_count": null,
      "metadata": {
        "id": "Pz5Xuxwng__q"
      },
      "outputs": [],
      "source": []
    },
    {
      "cell_type": "code",
      "execution_count": null,
      "metadata": {
        "id": "CXFUoNtshOom"
      },
      "outputs": [],
      "source": []
    },
    {
      "cell_type": "code",
      "execution_count": null,
      "metadata": {
        "id": "CTJnEhmchdSM"
      },
      "outputs": [],
      "source": []
    },
    {
      "cell_type": "code",
      "execution_count": null,
      "metadata": {
        "id": "W1OlNuhihr7p"
      },
      "outputs": [],
      "source": []
    },
    {
      "cell_type": "code",
      "execution_count": null,
      "metadata": {
        "id": "2hYlRFnWh6lD"
      },
      "outputs": [],
      "source": []
    },
    {
      "cell_type": "code",
      "execution_count": null,
      "metadata": {
        "id": "IcrEA4oBiJO3"
      },
      "outputs": [],
      "source": []
    },
    {
      "cell_type": "code",
      "execution_count": null,
      "metadata": {
        "id": "WQFcjXnXiX3-"
      },
      "outputs": [],
      "source": []
    },
    {
      "cell_type": "code",
      "execution_count": null,
      "metadata": {
        "id": "8P5Ik5neimhs"
      },
      "outputs": [],
      "source": []
    },
    {
      "cell_type": "code",
      "execution_count": null,
      "metadata": {
        "id": "wQNCzTy5i1LO"
      },
      "outputs": [],
      "source": []
    },
    {
      "cell_type": "code",
      "execution_count": null,
      "metadata": {
        "id": "i8GCXJvFjD0v"
      },
      "outputs": [],
      "source": []
    },
    {
      "cell_type": "code",
      "execution_count": null,
      "metadata": {
        "id": "IDJaNYr0jSeV"
      },
      "outputs": [],
      "source": []
    },
    {
      "cell_type": "code",
      "execution_count": null,
      "metadata": {
        "id": "kyrMRS2XjhHu"
      },
      "outputs": [],
      "source": []
    },
    {
      "cell_type": "code",
      "execution_count": null,
      "metadata": {
        "id": "cTSrL7w7jvyG"
      },
      "outputs": [],
      "source": []
    },
    {
      "cell_type": "code",
      "execution_count": null,
      "metadata": {
        "id": "ao_Ux2-0j-ac"
      },
      "outputs": [],
      "source": []
    },
    {
      "cell_type": "code",
      "execution_count": null,
      "metadata": {
        "id": "xoNjlvvEkNEI"
      },
      "outputs": [],
      "source": []
    },
    {
      "cell_type": "code",
      "execution_count": null,
      "metadata": {
        "id": "7Va9Zy66kbtg"
      },
      "outputs": [],
      "source": []
    },
    {
      "cell_type": "code",
      "execution_count": null,
      "metadata": {
        "id": "0c7F8bOckqW8"
      },
      "outputs": [],
      "source": []
    },
    {
      "cell_type": "code",
      "execution_count": null,
      "metadata": {
        "id": "5jMmSLsjk5Ab"
      },
      "outputs": [],
      "source": []
    },
    {
      "cell_type": "code",
      "execution_count": null,
      "metadata": {
        "id": "-nm6RYv1lHqI"
      },
      "outputs": [],
      "source": []
    },
    {
      "cell_type": "code",
      "execution_count": null,
      "metadata": {
        "id": "4HdfdQ4KlWTm"
      },
      "outputs": [],
      "source": []
    },
    {
      "cell_type": "code",
      "execution_count": null,
      "metadata": {
        "id": "KG_yDp3dlk9A"
      },
      "outputs": [],
      "source": []
    },
    {
      "cell_type": "code",
      "execution_count": null,
      "metadata": {
        "id": "CTxhRym2lzmr"
      },
      "outputs": [],
      "source": []
    },
    {
      "cell_type": "code",
      "execution_count": null,
      "metadata": {
        "id": "HihL-bSlmCQD"
      },
      "outputs": [],
      "source": []
    },
    {
      "cell_type": "code",
      "execution_count": null,
      "metadata": {
        "id": "J0kOuzLamQ5o"
      },
      "outputs": [],
      "source": []
    },
    {
      "cell_type": "code",
      "execution_count": null,
      "metadata": {
        "id": "3nfJCeUtmfi_"
      },
      "outputs": [],
      "source": []
    },
    {
      "cell_type": "code",
      "execution_count": null,
      "metadata": {
        "id": "7qiIRQJJmuMi"
      },
      "outputs": [],
      "source": []
    },
    {
      "cell_type": "code",
      "execution_count": null,
      "metadata": {
        "id": "VF39ukLRm82I"
      },
      "outputs": [],
      "source": []
    },
    {
      "cell_type": "code",
      "execution_count": null,
      "metadata": {
        "id": "092xFVxCnLfk"
      },
      "outputs": [],
      "source": []
    },
    {
      "cell_type": "code",
      "execution_count": null,
      "metadata": {
        "id": "pZpYg7x5naJK"
      },
      "outputs": [],
      "source": []
    },
    {
      "cell_type": "code",
      "execution_count": null,
      "metadata": {
        "id": "Gs5XEKehnoyn"
      },
      "outputs": [],
      "source": []
    },
    {
      "cell_type": "code",
      "execution_count": null,
      "metadata": {
        "id": "t4fDpGKBn3cG"
      },
      "outputs": [],
      "source": []
    },
    {
      "cell_type": "code",
      "execution_count": null,
      "metadata": {
        "id": "XSgEzNs8oGF0"
      },
      "outputs": [],
      "source": []
    },
    {
      "cell_type": "code",
      "execution_count": null,
      "metadata": {
        "id": "drWRnRKFoUvM"
      },
      "outputs": [],
      "source": []
    },
    {
      "cell_type": "code",
      "execution_count": null,
      "metadata": {
        "id": "f0Idw-r-ojYr"
      },
      "outputs": [],
      "source": []
    },
    {
      "cell_type": "code",
      "execution_count": null,
      "metadata": {
        "id": "gq8cslo7oyCF"
      },
      "outputs": [],
      "source": []
    },
    {
      "cell_type": "code",
      "execution_count": null,
      "metadata": {
        "id": "i9dCErazpAro"
      },
      "outputs": [],
      "source": []
    },
    {
      "cell_type": "code",
      "execution_count": null,
      "metadata": {
        "id": "omvVFoyNpPVS"
      },
      "outputs": [],
      "source": []
    },
    {
      "cell_type": "code",
      "execution_count": null,
      "metadata": {
        "id": "zVW1TszGpd-s"
      },
      "outputs": [],
      "source": []
    },
    {
      "cell_type": "code",
      "execution_count": null,
      "metadata": {
        "id": "K6uhEyB6psoC"
      },
      "outputs": [],
      "source": []
    },
    {
      "cell_type": "code",
      "execution_count": null,
      "metadata": {
        "id": "9NY_W3F5p7RX"
      },
      "outputs": [],
      "source": []
    },
    {
      "cell_type": "code",
      "execution_count": null,
      "metadata": {
        "id": "R6Fl1NNGqJ7B"
      },
      "outputs": [],
      "source": []
    },
    {
      "cell_type": "code",
      "execution_count": null,
      "metadata": {
        "id": "nn_0EHaUqYkl"
      },
      "outputs": [],
      "source": []
    },
    {
      "cell_type": "code",
      "execution_count": null,
      "metadata": {
        "id": "ta-4F7SjqnOT"
      },
      "outputs": [],
      "source": []
    },
    {
      "cell_type": "code",
      "execution_count": null,
      "metadata": {
        "id": "ckCJ2Odzq14F"
      },
      "outputs": [],
      "source": []
    },
    {
      "cell_type": "code",
      "execution_count": null,
      "metadata": {
        "id": "Ay48uka7rEhm"
      },
      "outputs": [],
      "source": []
    },
    {
      "cell_type": "code",
      "execution_count": null,
      "metadata": {
        "id": "lUFjbJZ-rTKo"
      },
      "outputs": [],
      "source": []
    },
    {
      "cell_type": "code",
      "execution_count": null,
      "metadata": {
        "id": "iMXbeFJorh0G"
      },
      "outputs": [],
      "source": []
    },
    {
      "cell_type": "code",
      "execution_count": null,
      "metadata": {
        "id": "gS90ZqKGrwdq"
      },
      "outputs": [],
      "source": []
    },
    {
      "cell_type": "code",
      "execution_count": null,
      "metadata": {
        "id": "WhN4F819r_G6"
      },
      "outputs": [],
      "source": []
    },
    {
      "cell_type": "code",
      "execution_count": null,
      "metadata": {
        "id": "BjEHTYnrsNwt"
      },
      "outputs": [],
      "source": []
    },
    {
      "cell_type": "code",
      "execution_count": null,
      "metadata": {
        "id": "s1-KN7e2scaP"
      },
      "outputs": [],
      "source": []
    },
    {
      "cell_type": "code",
      "execution_count": null,
      "metadata": {
        "id": "rNBx1kq2srDu"
      },
      "outputs": [],
      "source": []
    },
    {
      "cell_type": "code",
      "execution_count": null,
      "metadata": {
        "id": "DpjEyWA8s5tH"
      },
      "outputs": [],
      "source": []
    },
    {
      "cell_type": "code",
      "execution_count": null,
      "metadata": {
        "id": "GOFfpwLjtIWi"
      },
      "outputs": [],
      "source": []
    },
    {
      "cell_type": "code",
      "execution_count": null,
      "metadata": {
        "id": "A9lul4bHtXAe"
      },
      "outputs": [],
      "source": []
    },
    {
      "cell_type": "code",
      "execution_count": null,
      "metadata": {
        "id": "SKP4cesJtlpx"
      },
      "outputs": [],
      "source": []
    },
    {
      "cell_type": "code",
      "execution_count": null,
      "metadata": {
        "id": "Oa-WuVXzt0S2"
      },
      "outputs": [],
      "source": []
    },
    {
      "cell_type": "code",
      "execution_count": null,
      "metadata": {
        "id": "u_QH-xytuC8n"
      },
      "outputs": [],
      "source": []
    },
    {
      "cell_type": "code",
      "execution_count": null,
      "metadata": {
        "id": "piArLn_6uRmZ"
      },
      "outputs": [],
      "source": []
    },
    {
      "cell_type": "code",
      "execution_count": null,
      "metadata": {
        "id": "KYyZUdALugPp"
      },
      "outputs": [],
      "source": []
    },
    {
      "cell_type": "code",
      "execution_count": null,
      "metadata": {
        "id": "o_5RwM_Duu5I"
      },
      "outputs": [],
      "source": []
    },
    {
      "cell_type": "code",
      "execution_count": null,
      "metadata": {
        "id": "r0VmSOlnu9it"
      },
      "outputs": [],
      "source": []
    },
    {
      "cell_type": "code",
      "execution_count": null,
      "metadata": {
        "id": "Mcek3rvdvMMK"
      },
      "outputs": [],
      "source": []
    },
    {
      "cell_type": "code",
      "execution_count": null,
      "metadata": {
        "id": "6GazMrMpva1p"
      },
      "outputs": [],
      "source": []
    },
    {
      "cell_type": "code",
      "execution_count": null,
      "metadata": {
        "id": "xFd_73ahvpfw"
      },
      "outputs": [],
      "source": []
    },
    {
      "cell_type": "code",
      "execution_count": null,
      "metadata": {
        "id": "e2Q1ICxNv4Ii"
      },
      "outputs": [],
      "source": []
    },
    {
      "cell_type": "code",
      "execution_count": null,
      "metadata": {
        "id": "ajl1eOebwGyB"
      },
      "outputs": [],
      "source": []
    },
    {
      "cell_type": "code",
      "execution_count": null,
      "metadata": {
        "id": "6X4PX02MwVbe"
      },
      "outputs": [],
      "source": []
    },
    {
      "cell_type": "code",
      "execution_count": null,
      "metadata": {
        "id": "UTU6aBTtwkFF"
      },
      "outputs": [],
      "source": []
    },
    {
      "cell_type": "code",
      "execution_count": null,
      "metadata": {
        "id": "VqKOBSaWwyup"
      },
      "outputs": [],
      "source": []
    },
    {
      "cell_type": "code",
      "execution_count": null,
      "metadata": {
        "id": "yd4JYfT2xBYO"
      },
      "outputs": [],
      "source": []
    },
    {
      "cell_type": "code",
      "execution_count": null,
      "metadata": {
        "id": "lMdkLbITxQBo"
      },
      "outputs": [],
      "source": []
    },
    {
      "cell_type": "code",
      "execution_count": null,
      "metadata": {
        "id": "im2cUjKqxerN"
      },
      "outputs": [],
      "source": []
    },
    {
      "cell_type": "code",
      "execution_count": null,
      "metadata": {
        "id": "Y3PSJL-gxtUh"
      },
      "outputs": [],
      "source": []
    },
    {
      "cell_type": "code",
      "execution_count": null,
      "metadata": {
        "id": "LX8PzFtnx7-C"
      },
      "outputs": [],
      "source": []
    },
    {
      "cell_type": "code",
      "execution_count": null,
      "metadata": {
        "id": "XgfJFs1FyKnn"
      },
      "outputs": [],
      "source": []
    },
    {
      "cell_type": "code",
      "execution_count": null,
      "metadata": {
        "id": "5GZ4ihX4yZRL"
      },
      "outputs": [],
      "source": []
    },
    {
      "cell_type": "code",
      "execution_count": null,
      "metadata": {
        "id": "cM_iK2qSyn6p"
      },
      "outputs": [],
      "source": []
    },
    {
      "cell_type": "code",
      "execution_count": null,
      "metadata": {
        "id": "88t3Od34y2kP"
      },
      "outputs": [],
      "source": []
    },
    {
      "cell_type": "code",
      "execution_count": null,
      "metadata": {
        "id": "QjCYmLtezFNp"
      },
      "outputs": [],
      "source": []
    },
    {
      "cell_type": "code",
      "execution_count": null,
      "metadata": {
        "id": "nefIirVzzT3Y"
      },
      "outputs": [],
      "source": []
    },
    {
      "cell_type": "code",
      "execution_count": null,
      "metadata": {
        "id": "ZMU9wBO8zigp"
      },
      "outputs": [],
      "source": []
    },
    {
      "cell_type": "code",
      "execution_count": null,
      "metadata": {
        "id": "i35RHBpUzxJ8"
      },
      "outputs": [],
      "source": []
    },
    {
      "cell_type": "code",
      "execution_count": null,
      "metadata": {
        "id": "suFpMgbQz_z5"
      },
      "outputs": [],
      "source": []
    },
    {
      "cell_type": "code",
      "execution_count": null,
      "metadata": {
        "id": "tKT75KtE0OdM"
      },
      "outputs": [],
      "source": []
    },
    {
      "cell_type": "code",
      "execution_count": null,
      "metadata": {
        "id": "uL17R79C0dGy"
      },
      "outputs": [],
      "source": []
    },
    {
      "cell_type": "code",
      "execution_count": null,
      "metadata": {
        "id": "kgtwuwaM0rwK"
      },
      "outputs": [],
      "source": []
    },
    {
      "cell_type": "code",
      "execution_count": null,
      "metadata": {
        "id": "yQ-yAjil06aF"
      },
      "outputs": [],
      "source": []
    },
    {
      "cell_type": "code",
      "execution_count": null,
      "metadata": {
        "id": "zzgeni3-1JDR"
      },
      "outputs": [],
      "source": []
    },
    {
      "cell_type": "code",
      "execution_count": null,
      "metadata": {
        "id": "XVrer5g61XtI"
      },
      "outputs": [],
      "source": []
    },
    {
      "cell_type": "code",
      "execution_count": null,
      "metadata": {
        "id": "6JvZ-niR1mXT"
      },
      "outputs": [],
      "source": []
    },
    {
      "cell_type": "code",
      "execution_count": null,
      "metadata": {
        "id": "gW9M91Df10_u"
      },
      "outputs": [],
      "source": []
    },
    {
      "cell_type": "code",
      "execution_count": null,
      "metadata": {
        "id": "k23GX0Cu2Dqa"
      },
      "outputs": [],
      "source": []
    },
    {
      "cell_type": "code",
      "execution_count": null,
      "metadata": {
        "id": "XZTcPOYS2SSx"
      },
      "outputs": [],
      "source": []
    },
    {
      "cell_type": "code",
      "execution_count": null,
      "metadata": {
        "id": "aGGCDsav2g8k"
      },
      "outputs": [],
      "source": []
    },
    {
      "cell_type": "code",
      "execution_count": null,
      "metadata": {
        "id": "4dqyLvRl2vmH"
      },
      "outputs": [],
      "source": []
    },
    {
      "cell_type": "code",
      "execution_count": null,
      "metadata": {
        "id": "sNs1NKlE2-PK"
      },
      "outputs": [],
      "source": []
    },
    {
      "cell_type": "code",
      "execution_count": null,
      "metadata": {
        "id": "T8M8gJJK3M4y"
      },
      "outputs": [],
      "source": []
    },
    {
      "cell_type": "code",
      "execution_count": null,
      "metadata": {
        "id": "NyOW9dQI3biO"
      },
      "outputs": [],
      "source": []
    },
    {
      "cell_type": "code",
      "execution_count": null,
      "metadata": {
        "id": "pgWN5VJU3qL3"
      },
      "outputs": [],
      "source": []
    },
    {
      "cell_type": "code",
      "execution_count": null,
      "metadata": {
        "id": "5zYoOK2e341u"
      },
      "outputs": [],
      "source": []
    },
    {
      "cell_type": "code",
      "execution_count": null,
      "metadata": {
        "id": "sTOs1t8a4Hey"
      },
      "outputs": [],
      "source": []
    },
    {
      "cell_type": "code",
      "execution_count": null,
      "metadata": {
        "id": "KnD6tRAB4WIZ"
      },
      "outputs": [],
      "source": []
    },
    {
      "cell_type": "code",
      "execution_count": null,
      "metadata": {
        "id": "D-1lEeb34kx1"
      },
      "outputs": [],
      "source": []
    },
    {
      "cell_type": "code",
      "execution_count": null,
      "metadata": {
        "id": "eB-xGLcU4zbn"
      },
      "outputs": [],
      "source": []
    },
    {
      "cell_type": "code",
      "execution_count": null,
      "metadata": {
        "id": "HeDdkWxg5CFX"
      },
      "outputs": [],
      "source": []
    },
    {
      "cell_type": "code",
      "execution_count": null,
      "metadata": {
        "id": "7nT8JV7g5QvH"
      },
      "outputs": [],
      "source": []
    },
    {
      "cell_type": "code",
      "execution_count": null,
      "metadata": {
        "id": "lSkzeit25fX4"
      },
      "outputs": [],
      "source": []
    },
    {
      "cell_type": "code",
      "execution_count": null,
      "metadata": {
        "id": "F4lHPR2g5uXj"
      },
      "outputs": [],
      "source": []
    },
    {
      "cell_type": "code",
      "execution_count": null,
      "metadata": {
        "id": "ik6yA4xg6LUZ"
      },
      "outputs": [],
      "source": []
    },
    {
      "cell_type": "code",
      "execution_count": null,
      "metadata": {
        "id": "I4qLAa6H6Z9p"
      },
      "outputs": [],
      "source": []
    },
    {
      "cell_type": "code",
      "execution_count": null,
      "metadata": {
        "id": "IeZtK9mt6onK"
      },
      "outputs": [],
      "source": []
    },
    {
      "cell_type": "code",
      "execution_count": null,
      "metadata": {
        "id": "MJnpj6u063Qz"
      },
      "outputs": [],
      "source": []
    },
    {
      "cell_type": "code",
      "execution_count": null,
      "metadata": {
        "id": "1r26Io4k7F6V"
      },
      "outputs": [],
      "source": []
    },
    {
      "cell_type": "code",
      "execution_count": null,
      "metadata": {
        "id": "rJoN63Lu7Ujl"
      },
      "outputs": [],
      "source": []
    },
    {
      "cell_type": "code",
      "execution_count": null,
      "metadata": {
        "id": "ZOX7X4UA7jNM"
      },
      "outputs": [],
      "source": []
    },
    {
      "cell_type": "code",
      "execution_count": null,
      "metadata": {
        "id": "__GPT61o7x2i"
      },
      "outputs": [],
      "source": []
    },
    {
      "cell_type": "code",
      "execution_count": null,
      "metadata": {
        "id": "jGRPbNix8AgX"
      },
      "outputs": [],
      "source": []
    },
    {
      "cell_type": "code",
      "execution_count": null,
      "metadata": {
        "id": "Y2tlFHWz8PJy"
      },
      "outputs": [],
      "source": []
    },
    {
      "cell_type": "code",
      "execution_count": null,
      "metadata": {
        "id": "LYJAsFxw8dzG"
      },
      "outputs": [],
      "source": []
    },
    {
      "cell_type": "code",
      "execution_count": null,
      "metadata": {
        "id": "QDV9N31p8scs"
      },
      "outputs": [],
      "source": []
    },
    {
      "cell_type": "code",
      "execution_count": null,
      "metadata": {
        "id": "aEgNupQ387F_"
      },
      "outputs": [],
      "source": []
    },
    {
      "cell_type": "code",
      "execution_count": null,
      "metadata": {
        "id": "DBd4dL5T9Jvy"
      },
      "outputs": [],
      "source": []
    },
    {
      "cell_type": "code",
      "execution_count": null,
      "metadata": {
        "id": "AQqT18ol9nGY"
      },
      "outputs": [],
      "source": []
    },
    {
      "cell_type": "code",
      "execution_count": null,
      "metadata": {
        "id": "mjF6ljlJBgME"
      },
      "outputs": [],
      "source": []
    },
    {
      "cell_type": "code",
      "execution_count": null,
      "metadata": {
        "id": "3KrVkhOvCMGQ"
      },
      "outputs": [],
      "source": []
    },
    {
      "cell_type": "code",
      "execution_count": null,
      "metadata": {
        "id": "CMot2uzeCpV-"
      },
      "outputs": [],
      "source": []
    },
    {
      "cell_type": "code",
      "execution_count": null,
      "metadata": {
        "id": "n7MbtlDRDGna"
      },
      "outputs": [],
      "source": []
    },
    {
      "cell_type": "code",
      "execution_count": null,
      "metadata": {
        "id": "os_esa4jDVSC"
      },
      "outputs": [],
      "source": []
    },
    {
      "cell_type": "code",
      "execution_count": null,
      "metadata": {
        "id": "Sne6S4dRGw_q"
      },
      "outputs": [],
      "source": []
    },
    {
      "cell_type": "code",
      "execution_count": null,
      "metadata": {
        "id": "bAxybEMrG_oa"
      },
      "outputs": [],
      "source": []
    },
    {
      "cell_type": "code",
      "execution_count": null,
      "metadata": {
        "id": "Z_Es8ABQHORy"
      },
      "outputs": [],
      "source": []
    },
    {
      "cell_type": "code",
      "execution_count": null,
      "metadata": {
        "id": "bVPNf56iHc7N"
      },
      "outputs": [],
      "source": []
    },
    {
      "cell_type": "code",
      "execution_count": null,
      "metadata": {
        "id": "CAWIhAWwHrk4"
      },
      "outputs": [],
      "source": []
    },
    {
      "cell_type": "code",
      "execution_count": null,
      "metadata": {
        "id": "UMUUbEV8H6ON"
      },
      "outputs": [],
      "source": []
    },
    {
      "cell_type": "code",
      "execution_count": null,
      "metadata": {
        "id": "c5oPsZl7II34"
      },
      "outputs": [],
      "source": []
    },
    {
      "cell_type": "code",
      "execution_count": null,
      "metadata": {
        "id": "9goK67a1IXhT"
      },
      "outputs": [],
      "source": []
    },
    {
      "cell_type": "code",
      "execution_count": null,
      "metadata": {
        "id": "r2JtMCpcImKm"
      },
      "outputs": [],
      "source": []
    },
    {
      "cell_type": "code",
      "execution_count": null,
      "metadata": {
        "id": "SnEz6B1rI00F"
      },
      "outputs": [],
      "source": []
    },
    {
      "cell_type": "code",
      "execution_count": null,
      "metadata": {
        "id": "-K5IwYVuJDdx"
      },
      "outputs": [],
      "source": []
    },
    {
      "cell_type": "code",
      "execution_count": null,
      "metadata": {
        "id": "Kg0G5cM3JSHm"
      },
      "outputs": [],
      "source": []
    },
    {
      "cell_type": "code",
      "execution_count": null,
      "metadata": {
        "id": "YpBG0hrVJgw9"
      },
      "outputs": [],
      "source": []
    },
    {
      "cell_type": "code",
      "execution_count": null,
      "metadata": {
        "id": "S8IQ_rCXJvZ_"
      },
      "outputs": [],
      "source": []
    },
    {
      "cell_type": "code",
      "execution_count": null,
      "metadata": {
        "id": "Mq9stuhVJ-Dw"
      },
      "outputs": [],
      "source": []
    },
    {
      "cell_type": "code",
      "execution_count": null,
      "metadata": {
        "id": "yW2uK8qXKMtY"
      },
      "outputs": [],
      "source": []
    },
    {
      "cell_type": "code",
      "execution_count": null,
      "metadata": {
        "id": "oIaAgSduKbWt"
      },
      "outputs": [],
      "source": []
    },
    {
      "cell_type": "code",
      "execution_count": null,
      "metadata": {
        "id": "1CM2xFCdKqAE"
      },
      "outputs": [],
      "source": []
    },
    {
      "cell_type": "code",
      "execution_count": null,
      "metadata": {
        "id": "rnaSDItwLHTj"
      },
      "outputs": [],
      "source": []
    },
    {
      "cell_type": "code",
      "execution_count": null,
      "metadata": {
        "id": "cBdg6tRLLV80"
      },
      "outputs": [],
      "source": []
    },
    {
      "cell_type": "code",
      "execution_count": null,
      "metadata": {
        "id": "VKji167yLkmN"
      },
      "outputs": [],
      "source": []
    },
    {
      "cell_type": "code",
      "execution_count": null,
      "metadata": {
        "id": "KhfHtiMwLzP6"
      },
      "outputs": [],
      "source": []
    },
    {
      "cell_type": "code",
      "execution_count": null,
      "metadata": {
        "id": "KUDRzhNhMB5l"
      },
      "outputs": [],
      "source": []
    },
    {
      "cell_type": "code",
      "execution_count": null,
      "metadata": {
        "id": "kmu-Z51CMQiy"
      },
      "outputs": [],
      "source": []
    },
    {
      "cell_type": "code",
      "execution_count": null,
      "metadata": {
        "id": "QFpa10rtMfMS"
      },
      "outputs": [],
      "source": []
    },
    {
      "cell_type": "code",
      "execution_count": null,
      "metadata": {
        "id": "Md6dSXZQMt14"
      },
      "outputs": [],
      "source": []
    },
    {
      "cell_type": "code",
      "execution_count": null,
      "metadata": {
        "id": "yqYFwYsGM8fU"
      },
      "outputs": [],
      "source": []
    },
    {
      "cell_type": "code",
      "execution_count": null,
      "metadata": {
        "id": "fFCL4wCxNLIu"
      },
      "outputs": [],
      "source": []
    },
    {
      "cell_type": "code",
      "execution_count": null,
      "metadata": {
        "id": "hQgRaraGNZyP"
      },
      "outputs": [],
      "source": []
    },
    {
      "cell_type": "code",
      "execution_count": null,
      "metadata": {
        "id": "gubSCThDNobf"
      },
      "outputs": [],
      "source": []
    },
    {
      "cell_type": "code",
      "execution_count": null,
      "metadata": {
        "id": "QZREnqzvN3FL"
      },
      "outputs": [],
      "source": []
    },
    {
      "cell_type": "code",
      "execution_count": null,
      "metadata": {
        "id": "TPiACCtEOFu3"
      },
      "outputs": [],
      "source": []
    },
    {
      "cell_type": "code",
      "execution_count": null,
      "metadata": {
        "id": "lfhOuFCPOUYJ"
      },
      "outputs": [],
      "source": []
    },
    {
      "cell_type": "code",
      "execution_count": null,
      "metadata": {
        "id": "u10KqB0HOjBg"
      },
      "outputs": [],
      "source": []
    },
    {
      "cell_type": "code",
      "execution_count": null,
      "metadata": {
        "id": "L3gm0xJUOxrQ"
      },
      "outputs": [],
      "source": []
    },
    {
      "cell_type": "code",
      "execution_count": null,
      "metadata": {
        "id": "YE0gUPD_PAUz"
      },
      "outputs": [],
      "source": []
    },
    {
      "cell_type": "code",
      "execution_count": null,
      "metadata": {
        "id": "Z3FkWrBGPO-L"
      },
      "outputs": [],
      "source": []
    },
    {
      "cell_type": "code",
      "execution_count": null,
      "metadata": {
        "id": "mYnqM_1LPdnw"
      },
      "outputs": [],
      "source": []
    },
    {
      "cell_type": "code",
      "execution_count": null,
      "metadata": {
        "id": "hYinHCcyPsRC"
      },
      "outputs": [],
      "source": []
    },
    {
      "cell_type": "code",
      "execution_count": null,
      "metadata": {
        "id": "hQTWN-u8P66v"
      },
      "outputs": [],
      "source": []
    },
    {
      "cell_type": "code",
      "execution_count": null,
      "metadata": {
        "id": "srStB5vMQJkK"
      },
      "outputs": [],
      "source": []
    },
    {
      "cell_type": "code",
      "execution_count": null,
      "metadata": {
        "id": "7c5QeNT7QYNr"
      },
      "outputs": [],
      "source": []
    },
    {
      "cell_type": "code",
      "execution_count": null,
      "metadata": {
        "id": "6CS9LOUxQm2_"
      },
      "outputs": [],
      "source": []
    },
    {
      "cell_type": "code",
      "execution_count": null,
      "metadata": {
        "id": "27-6_NayQ1gs"
      },
      "outputs": [],
      "source": []
    },
    {
      "cell_type": "code",
      "execution_count": null,
      "metadata": {
        "id": "CxmQ4vK6REKe"
      },
      "outputs": [],
      "source": []
    },
    {
      "cell_type": "code",
      "execution_count": null,
      "metadata": {
        "id": "141paAmRRSzz"
      },
      "outputs": [],
      "source": []
    },
    {
      "cell_type": "code",
      "execution_count": null,
      "metadata": {
        "id": "Hg26TsZCRhdT"
      },
      "outputs": [],
      "source": []
    },
    {
      "cell_type": "code",
      "execution_count": null,
      "metadata": {
        "id": "QvBJ7btlRwGp"
      },
      "outputs": [],
      "source": []
    },
    {
      "cell_type": "code",
      "execution_count": null,
      "metadata": {
        "id": "z2HjKciFR-wZ"
      },
      "outputs": [],
      "source": []
    },
    {
      "cell_type": "code",
      "execution_count": null,
      "metadata": {
        "id": "CKjvGxaNSNZ8"
      },
      "outputs": [],
      "source": []
    },
    {
      "cell_type": "code",
      "execution_count": null,
      "metadata": {
        "id": "QqVr8GyMScDP"
      },
      "outputs": [],
      "source": []
    },
    {
      "cell_type": "code",
      "execution_count": null,
      "metadata": {
        "id": "_1P8NN6oSqsw"
      },
      "outputs": [],
      "source": []
    },
    {
      "cell_type": "code",
      "execution_count": null,
      "metadata": {
        "id": "JMdX8mvlS5Wd"
      },
      "outputs": [],
      "source": []
    },
    {
      "cell_type": "code",
      "execution_count": null,
      "metadata": {
        "id": "ywKUcaJATH_u"
      },
      "outputs": [],
      "source": []
    },
    {
      "cell_type": "code",
      "execution_count": null,
      "metadata": {
        "id": "JZhloKZMTWpG"
      },
      "outputs": [],
      "source": []
    },
    {
      "cell_type": "code",
      "execution_count": null,
      "metadata": {
        "id": "VJGj34oTTlSu"
      },
      "outputs": [],
      "source": []
    },
    {
      "cell_type": "code",
      "execution_count": null,
      "metadata": {
        "id": "3039Jg4mTz8N"
      },
      "outputs": [],
      "source": []
    },
    {
      "cell_type": "code",
      "execution_count": null,
      "metadata": {
        "id": "k0tLSkbLUClr"
      },
      "outputs": [],
      "source": []
    },
    {
      "cell_type": "code",
      "execution_count": null,
      "metadata": {
        "id": "AzX-g5iuURPZ"
      },
      "outputs": [],
      "source": []
    },
    {
      "cell_type": "code",
      "execution_count": null,
      "metadata": {
        "id": "KPd0orbBUf4y"
      },
      "outputs": [],
      "source": []
    },
    {
      "cell_type": "code",
      "execution_count": null,
      "metadata": {
        "id": "IsLtulzTUuiB"
      },
      "outputs": [],
      "source": []
    },
    {
      "cell_type": "code",
      "execution_count": null,
      "metadata": {
        "id": "5zPp2OJ9U9L4"
      },
      "outputs": [],
      "source": []
    },
    {
      "cell_type": "code",
      "execution_count": null,
      "metadata": {
        "id": "IN66ajBjVL1Q"
      },
      "outputs": [],
      "source": []
    },
    {
      "cell_type": "code",
      "execution_count": null,
      "metadata": {
        "id": "4gjAZYVcVae3"
      },
      "outputs": [],
      "source": []
    },
    {
      "cell_type": "code",
      "execution_count": null,
      "metadata": {
        "id": "FQEhUnU8VpIP"
      },
      "outputs": [],
      "source": []
    },
    {
      "cell_type": "code",
      "execution_count": null,
      "metadata": {
        "id": "6ijDl55xV3x1"
      },
      "outputs": [],
      "source": []
    },
    {
      "cell_type": "code",
      "execution_count": null,
      "metadata": {
        "id": "SI1o4aViWGbQ"
      },
      "outputs": [],
      "source": []
    },
    {
      "cell_type": "code",
      "execution_count": null,
      "metadata": {
        "id": "iEpK5d1cWVE1"
      },
      "outputs": [],
      "source": []
    },
    {
      "cell_type": "code",
      "execution_count": null,
      "metadata": {
        "id": "dqewZtMXWjuN"
      },
      "outputs": [],
      "source": []
    },
    {
      "cell_type": "code",
      "execution_count": null,
      "metadata": {
        "id": "Sd-ANsLoWyXs"
      },
      "outputs": [],
      "source": []
    },
    {
      "cell_type": "code",
      "execution_count": null,
      "metadata": {
        "id": "liNKJ6d4XBBP"
      },
      "outputs": [],
      "source": []
    },
    {
      "cell_type": "code",
      "execution_count": null,
      "metadata": {
        "id": "21SNZ20IYnlh"
      },
      "outputs": [],
      "source": []
    },
    {
      "cell_type": "code",
      "execution_count": null,
      "metadata": {
        "id": "XrLNlPi9iM2K"
      },
      "outputs": [],
      "source": []
    },
    {
      "cell_type": "code",
      "execution_count": null,
      "metadata": {
        "id": "15RPBrG7kD_5"
      },
      "outputs": [],
      "source": []
    },
    {
      "cell_type": "code",
      "execution_count": null,
      "metadata": {
        "id": "7-pwTpYNloZM"
      },
      "outputs": [],
      "source": []
    },
    {
      "cell_type": "code",
      "execution_count": null,
      "metadata": {
        "id": "Ae-TKnvCmWfL"
      },
      "outputs": [],
      "source": []
    },
    {
      "cell_type": "code",
      "execution_count": null,
      "metadata": {
        "id": "LdrVmP1YnCa0"
      },
      "outputs": [],
      "source": []
    },
    {
      "cell_type": "code",
      "execution_count": null,
      "metadata": {
        "id": "Sq453RITnfvw"
      },
      "outputs": [],
      "source": []
    },
    {
      "cell_type": "code",
      "execution_count": null,
      "metadata": {
        "id": "YrGBk4ffn9Dn"
      },
      "outputs": [],
      "source": []
    },
    {
      "cell_type": "code",
      "execution_count": null,
      "metadata": {
        "id": "3uETa4sVReEK"
      },
      "outputs": [],
      "source": []
    },
    {
      "cell_type": "code",
      "execution_count": null,
      "metadata": {
        "id": "R6ZaVM5wU5ss"
      },
      "outputs": [],
      "source": []
    },
    {
      "cell_type": "code",
      "execution_count": null,
      "metadata": {
        "id": "WZkP-kQRWu_T"
      },
      "outputs": [],
      "source": []
    },
    {
      "cell_type": "code",
      "execution_count": null,
      "metadata": {
        "id": "aeTX0CDogHfK"
      },
      "outputs": [],
      "source": []
    },
    {
      "cell_type": "code",
      "execution_count": null,
      "metadata": {
        "id": "OSoLGixriLRu"
      },
      "outputs": [],
      "source": []
    },
    {
      "cell_type": "code",
      "execution_count": null,
      "metadata": {
        "id": "UPOyNki0jUif"
      },
      "outputs": [],
      "source": []
    },
    {
      "cell_type": "code",
      "execution_count": null,
      "metadata": {
        "id": "tGhn0coVkAfB"
      },
      "outputs": [],
      "source": []
    },
    {
      "cell_type": "code",
      "execution_count": null,
      "metadata": {
        "id": "FdgjUiExkdy_"
      },
      "outputs": [],
      "source": []
    },
    {
      "cell_type": "code",
      "execution_count": null,
      "metadata": {
        "id": "dihqDZumk7E7"
      },
      "outputs": [],
      "source": []
    },
    {
      "cell_type": "code",
      "execution_count": null,
      "metadata": {
        "id": "mCgERCACllE9"
      },
      "outputs": [],
      "source": []
    },
    {
      "cell_type": "code",
      "execution_count": null,
      "metadata": {
        "id": "AvVezfdgmNW7"
      },
      "outputs": [],
      "source": []
    },
    {
      "cell_type": "code",
      "execution_count": null,
      "metadata": {
        "id": "3itaiksEm-9U"
      },
      "outputs": [],
      "source": []
    },
    {
      "cell_type": "code",
      "execution_count": null,
      "metadata": {
        "id": "ffkeP4asnq38"
      },
      "outputs": [],
      "source": []
    },
    {
      "cell_type": "code",
      "execution_count": null,
      "metadata": {
        "id": "6xDJQF-PoIKA"
      },
      "outputs": [],
      "source": []
    },
    {
      "cell_type": "code",
      "execution_count": null,
      "metadata": {
        "id": "vNX74ZPxo0HV"
      },
      "outputs": [],
      "source": []
    },
    {
      "cell_type": "code",
      "execution_count": null,
      "metadata": {
        "id": "Cjckz6v2pRZ1"
      },
      "outputs": [],
      "source": []
    },
    {
      "cell_type": "code",
      "execution_count": null,
      "metadata": {
        "id": "RvDNx5E6push"
      },
      "outputs": [],
      "source": []
    },
    {
      "cell_type": "code",
      "execution_count": null,
      "metadata": {
        "id": "0FSPXjsnqL_E"
      },
      "outputs": [],
      "source": []
    },
    {
      "cell_type": "code",
      "execution_count": null,
      "metadata": {
        "id": "IKkfsIqMqpS5"
      },
      "outputs": [],
      "source": []
    },
    {
      "cell_type": "code",
      "execution_count": null,
      "metadata": {
        "id": "ExEQNGsgrVPO"
      },
      "outputs": [],
      "source": []
    },
    {
      "cell_type": "code",
      "execution_count": null,
      "metadata": {
        "id": "zxjlFMzesBKl"
      },
      "outputs": [],
      "source": []
    },
    {
      "cell_type": "code",
      "execution_count": null,
      "metadata": {
        "id": "iP55MK89s7yd"
      },
      "outputs": [],
      "source": []
    },
    {
      "cell_type": "code",
      "execution_count": null,
      "metadata": {
        "id": "sn3Hi0-3t2ZX"
      },
      "outputs": [],
      "source": []
    },
    {
      "cell_type": "code",
      "execution_count": null,
      "metadata": {
        "id": "onVSzE2IuiWK"
      },
      "outputs": [],
      "source": []
    },
    {
      "cell_type": "code",
      "execution_count": null,
      "metadata": {
        "id": "FZWx8GIhu_pH"
      },
      "outputs": [],
      "source": []
    },
    {
      "cell_type": "code",
      "execution_count": null,
      "metadata": {
        "id": "S4URDDeYvnq3"
      },
      "outputs": [],
      "source": []
    },
    {
      "cell_type": "code",
      "execution_count": null,
      "metadata": {
        "id": "AHvxPaTEwXg_"
      },
      "outputs": [],
      "source": []
    },
    {
      "cell_type": "code",
      "execution_count": null,
      "metadata": {
        "id": "_Cad8vMVxABW"
      },
      "outputs": [],
      "source": []
    },
    {
      "cell_type": "code",
      "execution_count": null,
      "metadata": {
        "id": "2XtQYPjSxvYC"
      },
      "outputs": [],
      "source": []
    },
    {
      "cell_type": "code",
      "execution_count": null,
      "metadata": {
        "id": "VoAvJo3Hzknu"
      },
      "outputs": [],
      "source": []
    },
    {
      "cell_type": "code",
      "execution_count": null,
      "metadata": {
        "id": "CtWUXN6P0t0i"
      },
      "outputs": [],
      "source": []
    },
    {
      "cell_type": "code",
      "execution_count": null,
      "metadata": {
        "id": "c54A1MQE1ZwW"
      },
      "outputs": [],
      "source": []
    },
    {
      "cell_type": "code",
      "execution_count": null,
      "metadata": {
        "id": "HlJYqwVJ13HE"
      },
      "outputs": [],
      "source": []
    },
    {
      "cell_type": "code",
      "execution_count": null,
      "metadata": {
        "id": "gjhF7JxL2mGZ"
      },
      "outputs": [],
      "source": []
    },
    {
      "cell_type": "code",
      "execution_count": null,
      "metadata": {
        "id": "SBaYBpWRCOIK"
      },
      "outputs": [],
      "source": []
    },
    {
      "cell_type": "code",
      "execution_count": null,
      "metadata": {
        "id": "AOSIxS_sDl_7"
      },
      "outputs": [],
      "source": []
    },
    {
      "cell_type": "code",
      "execution_count": null,
      "metadata": {
        "id": "yrSNZWDvEgnS"
      },
      "outputs": [],
      "source": []
    },
    {
      "cell_type": "code",
      "execution_count": null,
      "metadata": {
        "id": "3BFbN4O3FjeQ"
      },
      "outputs": [],
      "source": []
    },
    {
      "cell_type": "code",
      "execution_count": null,
      "metadata": {
        "id": "iI8PSre5GHHG"
      },
      "outputs": [],
      "source": []
    },
    {
      "cell_type": "code",
      "execution_count": null,
      "metadata": {
        "id": "EVqOAe2HGzCr"
      },
      "outputs": [],
      "source": []
    },
    {
      "cell_type": "code",
      "execution_count": null,
      "metadata": {
        "id": "PQZdcmaDHaHC"
      },
      "outputs": [],
      "source": []
    },
    {
      "cell_type": "code",
      "execution_count": null,
      "metadata": {
        "id": "zXxFYtg3H8Tq"
      },
      "outputs": [],
      "source": []
    },
    {
      "cell_type": "code",
      "execution_count": null,
      "metadata": {
        "id": "pVKUwMQJIoP2"
      },
      "outputs": [],
      "source": []
    },
    {
      "cell_type": "code",
      "execution_count": null,
      "metadata": {
        "id": "J4I3i2PIJSvI"
      },
      "outputs": [],
      "source": []
    },
    {
      "cell_type": "code",
      "execution_count": null,
      "metadata": {
        "id": "Tgq96Z_nKAG8"
      },
      "outputs": [],
      "source": []
    },
    {
      "cell_type": "code",
      "execution_count": null,
      "metadata": {
        "id": "6aSqkFhjKdbK"
      },
      "outputs": [],
      "source": []
    },
    {
      "cell_type": "code",
      "execution_count": null,
      "metadata": {
        "id": "t1YD5zD1SLSD"
      },
      "outputs": [],
      "source": []
    },
    {
      "cell_type": "code",
      "execution_count": null,
      "metadata": {
        "id": "Von3XMm_W6O_"
      },
      "outputs": [],
      "source": []
    },
    {
      "cell_type": "code",
      "execution_count": null,
      "metadata": {
        "id": "GeVaLUPvcdD0"
      },
      "outputs": [],
      "source": []
    },
    {
      "cell_type": "code",
      "execution_count": null,
      "metadata": {
        "id": "dm3kCWgadcCS"
      },
      "outputs": [],
      "source": []
    },
    {
      "cell_type": "code",
      "execution_count": null,
      "metadata": {
        "id": "Ey8R-z1WeWqw"
      },
      "outputs": [],
      "source": []
    },
    {
      "cell_type": "code",
      "execution_count": null,
      "metadata": {
        "id": "RRb1GAhjfRTp"
      },
      "outputs": [],
      "source": []
    },
    {
      "cell_type": "code",
      "execution_count": null,
      "metadata": {
        "id": "wxxgDeZlgpLa"
      },
      "outputs": [],
      "source": []
    },
    {
      "cell_type": "code",
      "execution_count": null,
      "metadata": {
        "id": "Hiyceyh5iBGC"
      },
      "outputs": [],
      "source": []
    },
    {
      "cell_type": "code",
      "execution_count": null,
      "metadata": {
        "id": "D2DKw1tAl6Gw"
      },
      "outputs": [],
      "source": []
    },
    {
      "cell_type": "code",
      "execution_count": null,
      "metadata": {
        "id": "dTCNRU62n95-"
      },
      "outputs": [],
      "source": []
    },
    {
      "cell_type": "code",
      "execution_count": null,
      "metadata": {
        "id": "eSQG2fuJrgca"
      },
      "outputs": [],
      "source": []
    },
    {
      "cell_type": "code",
      "execution_count": null,
      "metadata": {
        "id": "yvksjqBByREc"
      },
      "outputs": [],
      "source": []
    },
    {
      "cell_type": "code",
      "execution_count": null,
      "metadata": {
        "id": "NJxu-EoDzLp4"
      },
      "outputs": [],
      "source": []
    },
    {
      "cell_type": "code",
      "execution_count": null,
      "metadata": {
        "id": "bZOyqceTzo7B"
      },
      "outputs": [],
      "source": []
    },
    {
      "cell_type": "code",
      "execution_count": null,
      "metadata": {
        "id": "YD1nRwp_z3kN"
      },
      "outputs": [],
      "source": []
    },
    {
      "cell_type": "code",
      "execution_count": null,
      "metadata": {
        "id": "D_ZeXh_N0GOh"
      },
      "outputs": [],
      "source": []
    },
    {
      "cell_type": "code",
      "execution_count": null,
      "metadata": {
        "id": "5lU6RY7G0U3V"
      },
      "outputs": [],
      "source": []
    },
    {
      "cell_type": "code",
      "execution_count": null,
      "metadata": {
        "id": "9SBXrNGp0jhd"
      },
      "outputs": [],
      "source": []
    },
    {
      "cell_type": "code",
      "execution_count": null,
      "metadata": {
        "id": "JQJzJLJt0yKG"
      },
      "outputs": [],
      "source": []
    },
    {
      "cell_type": "code",
      "execution_count": null,
      "metadata": {
        "id": "jd-fwFOa1syi"
      },
      "outputs": [],
      "source": []
    },
    {
      "cell_type": "code",
      "execution_count": null,
      "metadata": {
        "id": "PkxzXAj77Npo"
      },
      "outputs": [],
      "source": []
    },
    {
      "cell_type": "code",
      "execution_count": null,
      "metadata": {
        "id": "6KCIJbyV9uTy"
      },
      "outputs": [],
      "source": []
    },
    {
      "cell_type": "code",
      "execution_count": null,
      "metadata": {
        "id": "dxdZtviNIPcu"
      },
      "outputs": [],
      "source": []
    },
    {
      "cell_type": "code",
      "execution_count": null,
      "metadata": {
        "id": "_tHyGgRPMIbk"
      },
      "outputs": [],
      "source": []
    },
    {
      "cell_type": "code",
      "execution_count": null,
      "metadata": {
        "id": "aF6ngovFST2E"
      },
      "outputs": [],
      "source": []
    },
    {
      "cell_type": "code",
      "execution_count": null,
      "metadata": {
        "id": "MsvYl8yGV-QU"
      },
      "outputs": [],
      "source": []
    },
    {
      "cell_type": "code",
      "execution_count": null,
      "metadata": {
        "id": "R3ZzQH9OYQwY"
      },
      "outputs": [],
      "source": []
    },
    {
      "cell_type": "code",
      "execution_count": null,
      "metadata": {
        "id": "pKyysAvSZonU"
      },
      "outputs": [],
      "source": []
    },
    {
      "cell_type": "code",
      "execution_count": null,
      "metadata": {
        "id": "SC05IIN5aF3-"
      },
      "outputs": [],
      "source": []
    },
    {
      "cell_type": "code",
      "execution_count": null,
      "metadata": {
        "id": "p03NZXaRbPGe"
      },
      "outputs": [],
      "source": []
    },
    {
      "cell_type": "code",
      "execution_count": null,
      "metadata": {
        "id": "5UBNeLOGcJvv"
      },
      "outputs": [],
      "source": []
    },
    {
      "cell_type": "code",
      "execution_count": null,
      "metadata": {
        "id": "70RNo1-zfIOT"
      },
      "outputs": [],
      "source": []
    },
    {
      "cell_type": "code",
      "execution_count": null,
      "metadata": {
        "id": "KNhX7G3AiXhZ"
      },
      "outputs": [],
      "source": []
    },
    {
      "cell_type": "code",
      "execution_count": null,
      "metadata": {
        "id": "Thf-axZljtKC"
      },
      "outputs": [],
      "source": []
    },
    {
      "cell_type": "code",
      "execution_count": null,
      "metadata": {
        "id": "W1W7yaromOOO"
      },
      "outputs": [],
      "source": []
    },
    {
      "cell_type": "code",
      "execution_count": null,
      "metadata": {
        "id": "5U24K-dcnA7l"
      },
      "outputs": [],
      "source": []
    },
    {
      "cell_type": "code",
      "execution_count": null,
      "metadata": {
        "id": "RcZ4IFelnP4t"
      },
      "outputs": [],
      "source": []
    },
    {
      "cell_type": "code",
      "execution_count": null,
      "metadata": {
        "id": "FoHK84YRnk4W"
      },
      "outputs": [],
      "source": []
    },
    {
      "cell_type": "code",
      "execution_count": null,
      "metadata": {
        "id": "sRefMWhpnvAr"
      },
      "outputs": [],
      "source": []
    },
    {
      "cell_type": "code",
      "execution_count": null,
      "metadata": {
        "id": "2ugNmxBan71G"
      },
      "outputs": [],
      "source": []
    },
    {
      "cell_type": "code",
      "execution_count": null,
      "metadata": {
        "id": "P-PR41FhoSC7"
      },
      "outputs": [],
      "source": []
    },
    {
      "cell_type": "code",
      "execution_count": null,
      "metadata": {
        "id": "ZtPdK_pmogsp"
      },
      "outputs": [],
      "source": []
    },
    {
      "cell_type": "code",
      "execution_count": null,
      "metadata": {
        "id": "wHyXchPAovV-"
      },
      "outputs": [],
      "source": []
    },
    {
      "cell_type": "code",
      "execution_count": null,
      "metadata": {
        "id": "Pc-MrCfGpMxA"
      },
      "outputs": [],
      "source": []
    },
    {
      "cell_type": "code",
      "execution_count": null,
      "metadata": {
        "id": "AHN3nvnbAFZu"
      },
      "outputs": [],
      "source": []
    }
  ],
  "metadata": {
    "colab": {
      "collapsed_sections": [],
      "provenance": []
    },
    "gpuClass": "standard",
    "kernelspec": {
      "display_name": "Python 3",
      "name": "python3"
    },
    "language_info": {
      "name": "python"
    },
    "accelerator": "GPU"
  },
  "nbformat": 4,
  "nbformat_minor": 0
}