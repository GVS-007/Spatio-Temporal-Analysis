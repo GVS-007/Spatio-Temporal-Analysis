{
  "nbformat": 4,
  "nbformat_minor": 0,
  "metadata": {
    "colab": {
      "provenance": [],
      "collapsed_sections": []
    },
    "kernelspec": {
      "name": "python3",
      "display_name": "Python 3"
    },
    "language_info": {
      "name": "python"
    },
    "gpuClass": "standard",
    "accelerator": "GPU"
  },
  "cells": [
    {
      "cell_type": "code",
      "source": [
        "!wget -O mini.sh https://repo.anaconda.com/miniconda/Miniconda3-py39_4.9.2-Linux-x86_64.sh\n",
        "!chmod +x mini.sh\n",
        "!bash ./mini.sh -b -f -p /usr/local\n",
        "!conda install -q -y jupyter\n",
        "!conda install -q -y google-colab -c conda-forge\n",
        "!python -m ipykernel install --name \"py39\" --user\n",
        "from google.colab import drive\n",
        "drive.mount('/content/gdrive',force_remount=True)\n",
        "!unzip -q \"/content/gdrive/MyDrive/Inputs.zip\""
      ],
      "metadata": {
        "id": "5SylfXpcdxNe"
      },
      "execution_count": null,
      "outputs": []
    },
    {
      "cell_type": "code",
      "source": [
        "# %matplotlib inline\n",
        "# %config InlineBackend.figure_format = 'retina'\n",
        "# %pip install torchsampler\n",
        "import matplotlib.pyplot as plt\n",
        "from pandas.core.common import flatten  \n",
        "import numpy as np\n",
        "import random\n",
        "import torch\n",
        "import os\n",
        "from torch import nn\n",
        "from torch import optim\n",
        "import torch.nn.functional as F\n",
        "from torchvision import datasets, transforms, models\n",
        "from torch.utils.data import Dataset, DataLoader, WeightedRandomSampler, Subset\n",
        "import torch\n",
        "import albumentations as A\n",
        "from albumentations.pytorch import ToTensorV2\n"
      ],
      "metadata": {
        "id": "dl5m3eowuAdd"
      },
      "execution_count": 8,
      "outputs": []
    },
    {
      "cell_type": "code",
      "source": [
        "# torch.cuda.is_available() checks and returns a Boolean True if a GPU is available, else it'll return False\n",
        "is_cuda = torch.cuda.is_available()\n",
        "\n",
        "# If we have a GPU available, we'll set our device to GPU. We'll use this device variable later in our code.\n",
        "if is_cuda:\n",
        "    device = torch.device(\"cuda\")\n",
        "else:\n",
        "    device = torch.device(\"cpu\")"
      ],
      "metadata": {
        "id": "ddGEaVdmbt3n"
      },
      "execution_count": 9,
      "outputs": []
    },
    {
      "cell_type": "code",
      "source": [
        "p = np.array([1, 1, 1, 1, 1, 1, 1, 1, 1, 1, 1, 1, 0, 0, 0, 1, 1, 1, 0, 0 ,0 , 1, 1, 1, 1, 1, 1, 0, 0, 0])\n",
        "p = torch.from_numpy(p)\n",
        "class CustomImageDataset(Dataset):\n",
        "    def __init__(self, annotations_file, img_dir,  transform=None):\n",
        "        self.img_labels = annotations_file\n",
        "        self.img_dir = img_dir\n",
        "        self.transform = transform\n",
        "\n",
        "    def __len__(self):\n",
        "        return len(self.img_labels)\n",
        "\n",
        "    def __getitem__(self, idx):\n",
        "        image_matrix = np.load(os.path.join('Inputs/Pot_{}_Input_Seq.npy'.format(idx+1 if idx>=9 else '0'+str(idx+1))), allow_pickle=True)\n",
        "        # image_matrix=np.vstack(image_matrix).astype(np.float64)\n",
        "        image_matrix=np.array(image_matrix, dtype=[('O', np.float64)]).astype(np.float64)\n",
        "        label = self.img_labels[idx]\n",
        "\n",
        "        cropped_img_matrix = []\n",
        "        if self.transform is not None:\n",
        "          for image in image_matrix:\n",
        "            # image = self.transform(image=image)[\"image\"]\n",
        "            # print(self.transform(image=image)[\"image\"].shape)\n",
        "            cropped_img_matrix.append(self.transform(image=image)[\"image\"])\n",
        "        my_tensor = torch.stack(cropped_img_matrix)\n",
        "        # image_matrix = torch.from_numpy(image_matrix)\n",
        "\n",
        "        \n",
        "        return my_tensor, label\n",
        "\n",
        "val_transform = A.Compose(\n",
        "    [\n",
        "        A.CenterCrop(height=224, width=224),\n",
        "        A.ShiftScaleRotate(shift_limit=0.05, scale_limit=0.05, rotate_limit=15, p=0.9),\n",
        "        # A.RandomBrightnessContrast(p=0.5),\n",
        "        A.Normalize(mean=(0.485, 0.456, 0.406), std=(0.229, 0.224, 0.225)),\n",
        "        ToTensorV2(),\n",
        "    ]\n",
        ")\n",
        "\n",
        "\n",
        "\n",
        "transformed_dataset = CustomImageDataset(annotations_file=p, img_dir='Inputs', transform=val_transform)\n",
        "\n",
        "def weight_rand(images):\n",
        "  n_images = len(images)\n",
        "  count_per_class = [0] * 2\n",
        "  for _,image_class in images:\n",
        "      count_per_class[image_class] += 1\n",
        "  weight_per_class = [0.] * 2\n",
        "  for i in range(2):\n",
        "      weight_per_class[i] = float(n_images) / float(count_per_class[i])\n",
        "  weights = [0] * n_images\n",
        "  for idx, (imgggg, image_class) in enumerate(images):\n",
        "      weights[idx] = weight_per_class[image_class]\n",
        "  # print(weight_per_class, count_per_class)\n",
        "\n",
        "  return weights, weight_per_class, count_per_class\n",
        "\n",
        "\n"
      ],
      "metadata": {
        "id": "mBr99pjfRZhR"
      },
      "execution_count": 10,
      "outputs": []
    },
    {
      "cell_type": "code",
      "source": [
        "train_dataset = transformed_dataset\n",
        "print(len(train_dataset))\n",
        "my_subset = Subset(train_dataset, [0, 1, 2, 3, 4, 5, 12, 13 ,14, 18, 19, 20] )\n",
        "test_dataset = Subset(train_dataset,[6, 7, 8, 9, 10, 11, 15, 16, 17, 21, 22, 23, 24, 25, 26, 27, 28, 29]) \n",
        "\n"
      ],
      "metadata": {
        "colab": {
          "base_uri": "https://localhost:8080/"
        },
        "id": "702Fkwgoq1NH",
        "outputId": "c4ff0e4e-05bc-4030-a57c-c191c4d13c1c"
      },
      "execution_count": 11,
      "outputs": [
        {
          "output_type": "stream",
          "name": "stdout",
          "text": [
            "30\n"
          ]
        }
      ]
    },
    {
      "cell_type": "code",
      "source": [
        "print(len(test_dataset))"
      ],
      "metadata": {
        "colab": {
          "base_uri": "https://localhost:8080/"
        },
        "id": "HktXgJTJy26n",
        "outputId": "45be03c1-1271-4e72-d467-b60c2c625e46"
      },
      "execution_count": 12,
      "outputs": [
        {
          "output_type": "stream",
          "name": "stdout",
          "text": [
            "18\n"
          ]
        }
      ]
    },
    {
      "cell_type": "code",
      "source": [
        "# a = train_dataset[0]"
      ],
      "metadata": {
        "id": "A4eFj38g8xlK"
      },
      "execution_count": 13,
      "outputs": []
    },
    {
      "cell_type": "code",
      "source": [
        "class CNN_LSTM(nn.Module):\n",
        "    def __init__(self, device):\n",
        "        super(CNN_LSTM, self).__init__()\n",
        "        self.conv1 = nn.Conv2d(3, 20, 3)\n",
        "        self.pool1 = nn.MaxPool2d(2, 2)            \n",
        "        self.conv2 = nn.Conv2d(20, 40, 3)       \n",
        "        self.conv3 = nn.Conv2d(40, 60, 3)      \n",
        "        self.conv4 = nn.Conv2d(60, 80, 3)   \n",
        "        # self.conv5 = nn.Conv2d(80, 100, 3)   \n",
        "        # self.conv6 = nn.Conv2d(100, 120, 3)   \n",
        "        # self.conv7 = nn.Conv2d(120, 140, 3)   \n",
        " \n",
        "        \n",
        "        self.fc1 = nn.Linear(3000, 1000)       \n",
        "        self.fc3 = nn.Linear(1000, 500)               \n",
        "        self.fc4 = nn.Linear(500, 250)             \n",
        "        self.fc5 = nn.Linear(250, 100)               \n",
        "        self.fc6 = nn.Linear(100, 1)               \n",
        "                                              \n",
        "       \n",
        "\n",
        "        self.lstm1 = nn.LSTM(80*12*12,3000)\n",
        "        self.sigmoid = nn.Sigmoid()\n",
        "        self.device = device\n",
        "\n",
        "\n",
        "    def forward(self, x, hidden):\n",
        "        for img in x:\n",
        "            # y = torch.permute(img,(2,0,1)).float()\n",
        "            y = img\n",
        "            y = self.pool1(F.relu(self.conv1(y))) \n",
        "            y = self.pool1(F.relu(self.conv2(y))) \n",
        "            y = self.pool1(F.relu(self.conv3(y)))\n",
        "            y = self.pool1(F.relu(self.conv4(y))) \n",
        "            # y = self.pool1(F.relu(self.conv5(y))) \n",
        "            # y = self.pool1(F.relu(self.conv6(y))) \n",
        "            # y = self.pool1(F.relu(self.conv7(y))) \n",
        "            out, hidden = self.lstm1(y.view(-1, 80*12*12), hidden)                     \n",
        "        out = F.relu(self.fc1(out))\n",
        "        # out = F.relu(self.fc2(out))\n",
        "        out = F.relu(self.fc3(out))\n",
        "        out = F.relu(self.fc4(out))\n",
        "        out = F.relu(self.fc5(out))\n",
        "        out = self.sigmoid(self.fc6(out))\n",
        "        out = out.view(1, -1)\n",
        "        out = out[:,-1]\n",
        "        return out\n",
        "        # x = torch.permute(x,(2,0,1)).float()\n",
        "        # x = self.pool1(F.relu(self.conv1(x)))  \n",
        "        # x = self.pool1(F.relu(self.conv2(x)))  \n",
        "        # x = self.pool1(F.relu(self.conv3(x)))\n",
        "        # x = self.pool1(F.relu(self.conv4(x)))\n",
        "        # x = self.lstm_layer(x.view(-1, 120*65*118))\n",
        "        # x = x.view(-1, 30*89*48)            # -> n, 400\n",
        "        # return x\n",
        "    def init_hidden(self):\n",
        "        # c0 = torch.rand(100).float().to(self.device)\n",
        "        # h0 = torch.rand(100).float().to(self.device)\n",
        "        c0 = torch.zeros((1, 3000))\n",
        "        h0 = torch.zeros((1, 3000))\n",
        "        return (h0,c0)"
      ],
      "metadata": {
        "id": "HqsvK1KFuGdY"
      },
      "execution_count": 14,
      "outputs": []
    },
    {
      "cell_type": "code",
      "source": [
        "# img = torch.permute(a[0][0],(2,0,1)).float()\n",
        "model = CNN_LSTM(device)\n",
        "\n",
        "\n"
      ],
      "metadata": {
        "id": "E_3cIAyQuUNP"
      },
      "execution_count": 15,
      "outputs": []
    },
    {
      "cell_type": "code",
      "source": [
        "# b = model(a[0], model.init_hidden())"
      ],
      "metadata": {
        "id": "9zHub1IvuXtn"
      },
      "execution_count": 16,
      "outputs": []
    },
    {
      "cell_type": "code",
      "source": [
        "lr=0.0001\n",
        "criterion = nn.BCELoss()\n",
        "optimizer = torch.optim.Adam(model.parameters(), lr=lr)"
      ],
      "metadata": {
        "id": "ydQA2cvIeepT"
      },
      "execution_count": 17,
      "outputs": []
    },
    {
      "cell_type": "code",
      "source": [
        "no_of_epochs = 10\n",
        "counter = 0\n",
        "loss_list = []\n",
        "# model.train()\n",
        "for epoch in range(no_of_epochs):\n",
        "    h = model.init_hidden()\n",
        "    running_loss = 0.0\n",
        "    # for inputs, labels in train_dataset:\n",
        "    for i, data in enumerate(my_subset, 0):\n",
        "        print('------------------------------------------------------')\n",
        "        inputs, labels = data\n",
        "        inputs, labels = inputs.float(), labels.float()\n",
        "        counter += 1\n",
        "        h = tuple([e.data for e in h])\n",
        "        model.zero_grad()\n",
        "        output = model(inputs, h)\n",
        "        print('Pot',counter)\n",
        "        # print('Pot: ', output)\n",
        "\n",
        "        print('Predicted Sigmoid',output.squeeze().item(),'Truth Label', labels.item())\n",
        "        loss = criterion(output.squeeze(), labels.float())\n",
        "        loss.backward()\n",
        "        optimizer.step()\n",
        "        print('Loss', loss.item())\n",
        "        loss_list.append(loss.item())\n",
        "        # if epoch == 50 or epoch == 60 or epoch == 70 or epoch == 80 or epoch == 90 :\n",
        "        #   torch.save(model.state_dict(), './state_dict_{}.pt'.format(epoch))\n",
        "        #   np.savez(\"./losslist_{}\".format(epoch), np.array(loss_list))\n",
        "        print('------------------------------------------------------')\n",
        "\n",
        "print('done')"
      ],
      "metadata": {
        "id": "cJPDvfFb42-P",
        "colab": {
          "base_uri": "https://localhost:8080/"
        },
        "outputId": "1fa33ffa-6b58-40b9-f640-0e344299dab8"
      },
      "execution_count": null,
      "outputs": [
        {
          "output_type": "stream",
          "name": "stdout",
          "text": [
            "------------------------------------------------------\n",
            "Pot 1\n",
            "Predicted Sigmoid 0.5132983326911926 Truth Label 1.0\n",
            "Loss 0.6668980717658997\n",
            "------------------------------------------------------\n",
            "------------------------------------------------------\n",
            "Pot 2\n",
            "Predicted Sigmoid 0.5128850340843201 Truth Label 1.0\n",
            "Loss 0.6677035689353943\n",
            "------------------------------------------------------\n",
            "------------------------------------------------------\n",
            "Pot 3\n",
            "Predicted Sigmoid 0.5127367377281189 Truth Label 1.0\n",
            "Loss 0.6679927706718445\n",
            "------------------------------------------------------\n",
            "------------------------------------------------------\n",
            "Pot 4\n",
            "Predicted Sigmoid 0.512779176235199 Truth Label 1.0\n",
            "Loss 0.6679099798202515\n",
            "------------------------------------------------------\n",
            "------------------------------------------------------\n",
            "Pot 5\n",
            "Predicted Sigmoid 0.51297926902771 Truth Label 1.0\n",
            "Loss 0.6675198674201965\n",
            "------------------------------------------------------\n",
            "------------------------------------------------------\n",
            "Pot 6\n",
            "Predicted Sigmoid 0.5133197903633118 Truth Label 1.0\n",
            "Loss 0.6668562293052673\n",
            "------------------------------------------------------\n",
            "------------------------------------------------------\n",
            "Pot 7\n",
            "Predicted Sigmoid 0.513787567615509 Truth Label 0.0\n",
            "Loss 0.7211096286773682\n",
            "------------------------------------------------------\n"
          ]
        }
      ]
    },
    {
      "cell_type": "code",
      "source": [
        "# Loading the best model\n",
        "# model.load_state_dict(torch.load('./state_dict.pt'))\n",
        "num_correct = 0\n",
        "h = model.init_hidden()\n",
        "\n",
        "# model.eval()\n",
        "with torch.no_grad():\n",
        "  for inputs, labels in test_dataset:\n",
        "      h = tuple([each.data for each in h])\n",
        "      inputs, labels = inputs, labels\n",
        "      \n",
        "      output = model(inputs, h)\n",
        "      # test_loss = criterion(output.squeeze(), labels.float())\n",
        "      # print('Test Loss : ', test_loss)\n",
        "      print('Predicted Sigmoid: ', output)\n",
        "\n",
        "      pred = torch.round(output.squeeze())  # Rounds the output to 0/1\n",
        "      # correct_tensor = pred.eq(labels.float().view_as(pred))\n",
        "      print('Predicted Label: ', pred)\n",
        "      print('Truth: ', labels)\n",
        "      # model.zero_grad()\n",
        "      # correct = np.squeeze(correct_tensor.numpy())\n",
        "      # num_correct += np.sum(correct)\n",
        "      if int(pred.item()) == labels:\n",
        "        num_correct += 1 \n",
        "\n",
        "print(\"accuracy: \", num_correct/18) "
      ],
      "metadata": {
        "id": "0cMoyPKtcVFF"
      },
      "execution_count": null,
      "outputs": []
    },
    {
      "cell_type": "code",
      "source": [],
      "metadata": {
        "id": "YYiyVLC9lyAY"
      },
      "execution_count": null,
      "outputs": []
    },
    {
      "cell_type": "code",
      "source": [],
      "metadata": {
        "id": "H8VukDHWmAsM"
      },
      "execution_count": null,
      "outputs": []
    },
    {
      "cell_type": "code",
      "source": [],
      "metadata": {
        "id": "-h032-ecmPVp"
      },
      "execution_count": null,
      "outputs": []
    },
    {
      "cell_type": "code",
      "source": [],
      "metadata": {
        "id": "Cd9WgPVhmd_T"
      },
      "execution_count": null,
      "outputs": []
    },
    {
      "cell_type": "code",
      "source": [],
      "metadata": {
        "id": "OhW4q4THmsot"
      },
      "execution_count": null,
      "outputs": []
    }
  ]
}